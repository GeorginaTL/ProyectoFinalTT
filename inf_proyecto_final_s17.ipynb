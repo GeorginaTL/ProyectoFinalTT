{
 "cells": [
  {
   "cell_type": "markdown",
   "metadata": {},
   "source": [
    "# EDA"
   ]
  },
  {
   "cell_type": "markdown",
   "metadata": {},
   "source": [
    "Al revisar los datos al principio, resultaron ser 7043 clientes en total. Al principio ninguna tabla contenía datos duplicados ni ausentes. Los unicos datos numericos eran 'MonthlyCharges' en la tabla 'contract' y 'SeniorCitizen' en la tabla 'personal.\n",
    "\n",
    "- El dato mas frecuente de pagos es de 20. \n",
    "- La mayoria de los clientes paga menos de 30 o 70 al mes. Los demas pagan mas.\n",
    "- La mayoria de los clientes son jóvenes, pues el dato 'SeniorCitizen' dice que solo el 16.21% son adultos mayores."
   ]
  },
  {
   "cell_type": "markdown",
   "metadata": {},
   "source": [
    "Necesitaba combinar todas las tablas en una sola, por lo tanto revisé el tamaño de algunos conjuntos diferentes de datos:\n",
    "- Todos los clientes en la tabla 'personal' son los mismos de la tabla 'contract'. significa: todos los clientes tienen registrado un contrato, no faltan datos del contrato de cada cliente, esto es bueno.\n",
    "- Sin embargo, no todos tienen los dos servicios: teléfono o internet. Les falta uno o el otro, pero todos tienen al menos uno de estos servicios.\n",
    "- 4835 clientes tienen ambos servivios: internet y teléfono\n",
    "- 1526 clientes no tienen internet\n",
    "- 682 clientes no tienen teléfono."
   ]
  },
  {
   "cell_type": "markdown",
   "metadata": {},
   "source": [
    "# Preprocesamiento\n",
    "Combiné todas las tablas en una sola: 'interconnect_data'. Para no perder información, hice una copia de las tablas originales, por separado: 'contract_original', 'personal_original', 'internet_original' y 'phone_original'.\n",
    "\n",
    "La tabla se combinó correctamente. Sin embargo, debido a que algunos clientes no tienen internet o teléfono, al combinar las tablas aparecieron algunos datos ausentes."
   ]
  },
  {
   "cell_type": "markdown",
   "metadata": {},
   "source": [
    "## Tipos de datos"
   ]
  },
  {
   "cell_type": "markdown",
   "metadata": {},
   "source": [
    "## Fechas"
   ]
  },
  {
   "cell_type": "markdown",
   "metadata": {},
   "source": [
    "### 'begin_date'\n",
    "El formato de las fechas era confuso, podría ser: 'año, mes, día', o bien 'año, dia, mes'. Analizando esta infromació, resultó mas lógica la primera opción: 'año, mes, día'. Pro ejemplo: todas slas fechas de la columna 'begin_date' tenían el número '01' al final. Seria muy extraño que los clientes solo se inscriban durante el mes de Enero de cada año, por lo tanto, seguro ese número '01' se trata del día del mes.\n",
    "\n",
    "Llegando a este punto, cambié el formato de los datos de 'begin_date' a 'Tipestamp'. Esto para poder buscar la fecha mas antigua y la mas nueva.\n",
    "\n",
    "Agregué una columna con la fecha mas antigua para poder codificar las fechas de manera ordinal, hice esto para entrenar los modelos: agregué una nueva columna llamada 'begin_date_' que contiene las fechas de inscripción codificadas en número de días, listas para los modelos. Contiene los días transcurridos desde el primer cliente inscrito hasta el cliente inscrito en cada fila. La última fecha es el 1 de Febrero del 2020, y la mas antigua es el 1 de Octubre del 2013."
   ]
  },
  {
   "cell_type": "markdown",
   "metadata": {},
   "source": [
    "### 'end_date'\n",
    "El formato era el mismo que la columna 'begin_date': 'año, mes, día'. Sin embargo en esta columna 'end_date' los unicos datos disponibles eran una fecha, o la cadena 'No' si la persona aun no deja la empresa. Por lo tanto, mas adelante los convierto a booleanos."
   ]
  },
  {
   "cell_type": "markdown",
   "metadata": {},
   "source": [
    "## Cadenas\n",
    "Hasta este punto, aunque son cadenas y los mdelos odifican usando números, no encontré ningun problema para codificar los datos de texto como números. Solamente eliminé los guiones del valor 'Month-to-month'.\n",
    "\n",
    "Mas adelante aparece un problema para codificar los datos tipo cadena de la columna 'internet_service'."
   ]
  },
  {
   "cell_type": "markdown",
   "metadata": {},
   "source": [
    "## Booleanos"
   ]
  },
  {
   "cell_type": "markdown",
   "metadata": {},
   "source": [
    "### 'end_date' y 'senior_citizen'\n",
    "Ambas columnas contienen, en realidad, los valores True o False, pero de manera diferente: 'end_date' contiene cadenas y 'senior_citizen' números enteros.\n",
    "\n",
    "- 'end_date'. No es relevante conocer la fecha de cancelación de los clientes, solo necesito distinguir los clientes que se fugan de los que se quedan.\n",
    "\n",
    "- 'senior_citizen'. En lugar de los datos True o False, contiene los números enteros 1 o 0.\n",
    "\n",
    "He procesado estas dos columnas por separado, pues todas las demas columnas con datos booleanos contienen únicamente las cadenas 'Yes' y 'No'. "
   ]
  },
  {
   "cell_type": "markdown",
   "metadata": {},
   "source": [
    "### 'Yes', 'No'\n",
    "Debido a que son muchas las celdas que contienen como únicos datos las cadenas 'Yes' y 'No', utilicé una función llamada ''Yes_No()' para convertir estos datos en True y False.\n",
    "\n",
    "En este punto, decidí que la cadena 'Yes' se convierte en 'True', la cadena 'No' será False. Pero el dato 'NaN' lo dejo como está, pues tiene un significado completamente diferente.\n",
    "\n",
    "Esto significa que las columnas con datos 'NaN' siguen siendo de tipo cadena, en lugar de booleanos. Pero a la hora de codificar estos datos para los modelos, no será porblema, pues el dato 'NaN' será interpretado como el número '2'."
   ]
  },
  {
   "cell_type": "markdown",
   "metadata": {},
   "source": [
    "## Flotantes\n",
    "Los datos en la columna 'total_charges' deberian ser flotantes, sin embargo son cadenas de texto.\n",
    "Encontré la razón: 11 de los clientes tienen una cadena vacía '' en su dato de la columna 'total_charges', esto se debe a que se trata de clientes nuevos, por lo que no han realizado pagos todavía.\n",
    "\n",
    "Entonces, he decidido reemplazar estos datos ausentes por el número '0', pues en realidad, esta es la cantidad que han pagado."
   ]
  },
  {
   "cell_type": "markdown",
   "metadata": {},
   "source": [
    "## Columnas no necesarias\n",
    "La columna 'customer_id' no es importante para las predicciones. 'begin_date' y 'end_date' las he copiado modificadas en columnas aparte buscando mejores predicciones.\n",
    "\n",
    "Por lo tanto elimino estas columnas por ahora. Si las necesito mas adelante, estan guardadas en la tabla original 'interconnect_original': es una copia de la columna 'interconnect_original', pero con todas las columnas antes de eliminarlas"
   ]
  },
  {
   "cell_type": "markdown",
   "metadata": {},
   "source": [
    "### Cadenas\n",
    "\n",
    "end_date_       False  True \n",
    "type                        \n",
    "Month to month   2220   1655\n",
    "One year         1307    166\n",
    "Two year         1647     48\n",
    "\n",
    "La mayoría de los clientes que se van son los que pagan cada mes. Segundo lugar: los que pagan cada año. Tercer lugar: los que pagan cada dos años."
   ]
  },
  {
   "cell_type": "markdown",
   "metadata": {},
   "source": [
    "# Relaciones"
   ]
  },
  {
   "cell_type": "markdown",
   "metadata": {},
   "source": [
    "## 'type'\n",
    "\n",
    "end_date_       False  True \n",
    "type                        \n",
    "Month to month   2220   1655\n",
    "One year         1307    166\n",
    "Two year         1647     48\n",
    "\n",
    "**Conclusion:** La mayoría de los clientes que se van (88.6%) son los que pagan cada mes. Segundo lugar: los que pagan cada año (8.9%). Tercer lugar: los que pagan cada dos años (2.6%)."
   ]
  },
  {
   "cell_type": "markdown",
   "metadata": {},
   "source": [
    "## 'payment_method'\n",
    "\n",
    "end_date_                  False  True \n",
    "payment_method                         \n",
    "Bank transfer (automatic)   1286    258\n",
    "Credit card (automatic)     1290    232\n",
    "Electronic check            1294   1071\n",
    "Mailed check                1304    308\n",
    "\n",
    "**Conclusion:** La mayoría de los clientes que se van son los que pagan con cheque electrónico 'Electronick check' (57.3%). Los siguientes lugares en orden: 'Mailed check' (16.5%), 'Bank transfer' (13.8%) y 'Credir card' (12.4%)."
   ]
  },
  {
   "cell_type": "markdown",
   "metadata": {},
   "source": [
    "## 'gender'\n",
    "\n",
    "end_date_  False  True \n",
    "gender                 \n",
    "Female      2549    939\n",
    "Male        2625    930\n",
    "\n",
    "**Conclusion:** La fuga de clientes mujeres es ligeramente mayor (50.2%). Aunque es casi el mismo número que los hombres (49.8%)."
   ]
  },
  {
   "cell_type": "markdown",
   "metadata": {},
   "source": [
    "## 'internet_service'\n",
    "\n",
    "end_date_         False  True \n",
    "internet_service              \n",
    "DSL                1962    459\n",
    "Fiber optic        1799   1297\n",
    "\n",
    "**Conclusion:** De los clientes que se van, son mas los que tienen internet por fibra óptica (73.9%) que por vía telefónica DSL (26.1%)."
   ]
  },
  {
   "cell_type": "markdown",
   "metadata": {},
   "source": [
    "## 'online_security'\n",
    "\n",
    "end_date_        False  True \n",
    "online_security              \n",
    "False             2037   1461\n",
    "True              1724    295\n",
    "\n",
    "**Conclusion:** La mayoría de los clientes que se van son los que no tienen servicio de bloqueo de sitios web maliciosos 'online_security' (83.2%). Esto puede significar que es un buen servicio.\n"
   ]
  },
  {
   "cell_type": "markdown",
   "metadata": {},
   "source": [
    "## 'online_backup'\n",
    "\n",
    "end_date_      False  True \n",
    "online_backup              \n",
    "False           1855   1233\n",
    "True            1906    523\n",
    "\n",
    "**Conclusion:** La mayoría de los clientes que se van son los que no tienen servicio 'online_backup' (70.2%). Esto puede significar que los clientes les gusta tener guardados sus archivos en la nube, o son importantes para ellos.\n"
   ]
  },
  {
   "cell_type": "markdown",
   "metadata": {},
   "source": [
    "## 'device_protection'\n",
    "\n",
    "end_date_          False  True \n",
    "device_protection              \n",
    "False               1884   1211\n",
    "True                1877    545\n",
    "\n",
    "**Conclusion:** La mayoría de los clientes que se van son los que no tienen servicio de software antivirus 'online_protection' (69%). Esto puede significar que es un buen servicio."
   ]
  },
  {
   "cell_type": "markdown",
   "metadata": {},
   "source": [
    "## 'teach_support'\n",
    "\n",
    "end_date_      False  True \n",
    "teach_support              \n",
    "False           2027   1446\n",
    "True            1734    310\n",
    "\n",
    "**Conclusion:** La mayoría de los clientes que se van son los que no tienen servicio de soporte técnico 'teach_support' (82.3%). Esto puede significar que este servicio es importante."
   ]
  },
  {
   "cell_type": "markdown",
   "metadata": {},
   "source": [
    "## 'streaming_tv'\n",
    "\n",
    "end_date_     False  True \n",
    "streaming_tv              \n",
    "False          1868    942\n",
    "True           1893    814\n",
    "\n",
    "**Conclusion:** La mayoría de los clientes que se van son los que no tienen servicio de televisión 'streaming_tv' (53.6%). Son un poco mas numerosos los clientes les gustan los programas de tv disponibles. Aunque hay muy poca diferencia.\n"
   ]
  },
  {
   "cell_type": "markdown",
   "metadata": {},
   "source": [
    "## 'streaming_movies'\n",
    "\n",
    "end_date_         False  True \n",
    "streaming_movies              \n",
    "False              1847    938\n",
    "True               1914    818\n",
    "\n",
    "**Conclusion:** La mayoría de los clientes que se van son los que no tienen servicio de televisión 'streaming_movies' (53.4%). Son ligeramente mas numerosos los clientes que les gusta ver películas."
   ]
  },
  {
   "cell_type": "markdown",
   "metadata": {},
   "source": [
    "## 'multiple_lines'\n",
    "\n",
    "end_date_       False  True \n",
    "multiple_lines              \n",
    "False            2541    849\n",
    "True             2121    850\n",
    "**Conclusion:** De los clientes que se van, es casi la misma cantidad los que tienen el servicio 'multiple_lines' (50.03%). Sin embargo los que se quedan, son mas numerosos los que no tienen este servicio. Esto significa que a los clientes no les interesa tener múltiples lineas telefónicas.\n",
    "\n"
   ]
  },
  {
   "cell_type": "markdown",
   "metadata": {},
   "source": [
    "## 'paperless_billing'\n",
    "\n",
    "end_date_          False  True \n",
    "paperless_billing              \n",
    "False               2403    469\n",
    "True                2771   1400\n",
    "\n",
    "**Conclusion:** La mayoría de los clientes que se van son los que reciben una factura electrónica 'paperless_billing' (75%). Parece que la información de la factura influye para que los clientes se vayan.\n"
   ]
  },
  {
   "cell_type": "markdown",
   "metadata": {},
   "source": [
    "## 'senior_citizen'\n",
    "\n",
    "end_date_       False  True \n",
    "senior_citizen              \n",
    "False            4508   1393\n",
    "True              666    476\n",
    "\n",
    "**Conclusion:** La mayoría de los clientes que se van son los mas jóvenes, o que no son adultos mayores (75%), de acuerdo con la variable 'senior_citizen'."
   ]
  },
  {
   "cell_type": "markdown",
   "metadata": {},
   "source": [
    "## 'partner'\n",
    "\n",
    "end_date_  False  True \n",
    "partner                \n",
    "False       2441   1200\n",
    "True        2733    669\n",
    "\n",
    "**Conclusion:** La mayoría de los clientes que se van no tienen una pareja o 'partner' (64.2%)."
   ]
  },
  {
   "cell_type": "markdown",
   "metadata": {},
   "source": [
    "## 'dependents'\n",
    "\n",
    "end_date_   False  True \n",
    "dependents              \n",
    "False        3390   1543\n",
    "True         1784    326\n",
    "\n",
    "**Conclusion:** La mayoría de los clientes que se van no tienen dependientes 'dependents' (83%). probablemente viven solos, o no tienen hijos."
   ]
  },
  {
   "cell_type": "markdown",
   "metadata": {},
   "source": [
    "## 'monthly charges'\n",
    "\n",
    "**Conclusion:** Dato curioso: la mayor parte de los clientes que se van son los que pagan menos dinero (menos de 5 unidades mometarias aproximadamente), aunque tambien hay muchos que se quedan por la misma razon. Al parecer, muchos clientes desconfian del servicio cuando es barato."
   ]
  },
  {
   "cell_type": "markdown",
   "metadata": {},
   "source": [
    "## 'total_charges'\n",
    "\n",
    "**Conclusion:** La mayor parte de los clientes que se van son los que han pagado una cantidad menor de dinero (0.5 unidades monetarias aproximadamente), pero cuando ya han pagado un poco mas (1 unidad monetaria aproximadamente), se quedan con mas frecuencia. Parece que al principio no confian en el servicio de la empresa, pero despues se quedan con mas frecuencia."
   ]
  },
  {
   "cell_type": "markdown",
   "metadata": {},
   "source": [
    "## 'begin_date_'\n",
    "Hay una fuerte influencia del tiempo en la empresa en la tasa de cancelacion.\n",
    "- Segun el gráfico, hay muchos clientes nuevos, pero son aun mas los clientes antiguos. \n",
    "- a mayoria de los clientes que se han ido lo hacen a los 15 o 20 días de haber contratado el servicio. Tambien comienzan a irse a los dos meses. **Sugerencia: deberían ofrecerles promociones especiales cada dos meses para evitar que se vayan."
   ]
  },
  {
   "cell_type": "markdown",
   "metadata": {},
   "source": [
    "## Columnas no necesarias\n",
    "En este punto, he decidido eliminar las columnas 'gender' y 'multiple_lines'. Pues parecen tener poca o ninguna influencia en los valores True o False en el target 'end_date'."
   ]
  },
  {
   "cell_type": "markdown",
   "metadata": {},
   "source": [
    "# Modelado\n",
    "Al revisar la distribución de las clases positiva y negativa de la característica target 'end_date_'. Existe un fuerte desequilibro de clases, es mas rara la clase True. Esto podría afectar las predicciones, para evitarlo, ajusté el parámetro 'class_weight' en algunos modelos."
   ]
  },
  {
   "cell_type": "markdown",
   "metadata": {},
   "source": [
    "## Conjuntos de datos\n",
    "Separé tres conjuntos de datos diferentes: uno sin codificar (hice esto para imputar posibles datos ausentes), otro codificado con la técnica Dummy para el modelo Regresión Logística, y otro codificado por etiquetas para los modelos Árbol y Bosque.\n",
    "\n",
    "También escalé los datos numéricos, pues los números máximos de las tres columnas son muy diferentes: 118 ('monthly_charges'), 2314 ('begin_date_') y 8684 ('total_charges'). Esto para evitar problemas cuando los modelos asignen pesos a las variables numéricas."
   ]
  },
  {
   "cell_type": "markdown",
   "metadata": {},
   "source": [
    "## EDA: Datos codificados.\n",
    "Realicé una pequeña exploración de los datos codificados.\n",
    "Al realizar la codificación por etiquetas, aparecieron algunos datos ausentes inesperados en la columna 'internet_service':\n",
    "\n",
    "A pesar que solo hay dos opciones posibles ('DSL' y 'Fiber optic'), no fue posible convertirlos a booleanos por la presencia de datos ausentes. Y por tratarse de cadenas y no los valores booleanos True y False, la codificación por etiquetas solo pudo convertirlos en '0's, '1's y 'nan'. Este último dato 'nan' genera errores al entrenar los modelos. Sin embargo, analizando datos de la tabla original 'internet', encontré que era conveniente imputar los valores ausentes sustituyendo por el número '2'. Esto solucionó el problema."
   ]
  },
  {
   "cell_type": "markdown",
   "metadata": {},
   "source": []
  },
  {
   "cell_type": "markdown",
   "metadata": {},
   "source": [
    "## Nombres de los conjuntos de datos\n",
    "\n",
    "**Para modelos Arbol y Bosque:**\n",
    "- features_train_ord, target_train_ord. Conjuntos de entrenamiento. Datos numéricos escalados. Datos categóricos: codificación de etiquetas.\n",
    "- features_valid_ord, target_valid_ord. Conjuntos de validación. Datos numéricos escalados. Datos categóricos: codificación de etiquetas.\n",
    "- features_test_ord, target_test_ord. Conjuntos de prueba. Datos numéricos escalados. Datos categóricos: codificación de etiquetas.\n",
    "\n",
    "**Para el modelo Regresión Logística:**\n",
    "- features_train_ohe, target_train_ohe. Conjuntos de entrenamiento. Datos numéricos escalados. Datos categóricos: codificación OHE (One-Hot Encoding).\n",
    "- features_valid_ohe, target_valid_ohe. Conjuntos de validación. Datos numéricos escalados. Datos categóricos: codificación OHE.\n",
    "- features_test_ohe, target_test_ohe. Conjuntos de prueba. Datos numéricos escalados. Datos categóricos: codificación OHE."
   ]
  },
  {
   "cell_type": "markdown",
   "metadata": {},
   "source": [
    "## Validación y prueba final\n",
    "Elaboré primero un model oconstante para una adecuada prueba de cordura. Fué superada por los tres modelos:\n",
    "- Modelo Arbol\n",
    "- Modelo Bosque\n",
    "- Modelo Regresionj Logística\n",
    "\n",
    "Estos fueron los resulyados:"
   ]
  },
  {
   "cell_type": "markdown",
   "metadata": {},
   "source": [
    "### Resultados del Conjunto de Validación"
   ]
  },
  {
   "cell_type": "markdown",
   "metadata": {},
   "source": [
    "![Resultados del Conjunto de Validación](Resultados_Validacion.jpg)\n"
   ]
  },
  {
   "cell_type": "markdown",
   "metadata": {},
   "source": [
    "### Resultados del Conjunto de Prueba"
   ]
  },
  {
   "cell_type": "markdown",
   "metadata": {},
   "source": [
    "![Resultados del Conjunto de Validación](Resultados_Prueba.jpg)"
   ]
  },
  {
   "cell_type": "markdown",
   "metadata": {},
   "source": [
    "# Conclusion\n",
    "Después de procesar los datos, he encontrado algunos factores que influyen para que los clientes se fuguen o no.\n",
    "- Generalmente algunos se van a los 15 o 20 días, otros a los dos meses de inscribirse. **Sugerencia: propongo un buen plan de mercadeo para todos los clientes nuevos, hasta que tienen dos meses**. Pues los datos indican que durante ese tiempo cambian sus decisiones de irse o quedarse.\n",
    "- El género, las línea telefónicas múltiples, y los servicios de TV o películas no parecen ser importantes para los clientes.\n",
    "- Otros servicios como: almacenamiento en la nube, antivirus y seguridad contra sitios web malicioses tienenden a ser importantes para los clientes. pues la mayor parte de los que se van son quienen no tienen estos servicios.\n",
    "\n",
    "Existen mas variables que influyen en la fuga de los clientes, estan son las mas importantes. El modelo Bosque resultó ser el mejor para predecir las preferencias de los clientes. Tambien el modelo Arbol generó un resultado casi igual de bueno, y con mejor velocidad.\n",
    "\n",
    "Seguro esta información será de gran ayuda para la empresa 'Telecom'. A quien corresponda, les deseo suerte, y muchas ventas."
   ]
  }
 ],
 "metadata": {
  "language_info": {
   "name": "python"
  }
 },
 "nbformat": 4,
 "nbformat_minor": 2
}
