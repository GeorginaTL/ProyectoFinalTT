{
 "cells": [
  {
   "cell_type": "markdown",
   "metadata": {},
   "source": [
    "# Condiciones de la asignación principal\n",
    "Al operador de telecomunicaciones Interconnect le gustaría poder pronosticar su tasa de cancelación de clientes. Si se descubre que un usuario o usuaria planea irse, se le ofrecerán códigos promocionales y opciones de planes especiales. El equipo de marketing de Interconnect ha recopilado algunos de los datos personales de sus clientes, incluyendo información sobre sus planes y contratos."
   ]
  },
  {
   "cell_type": "markdown",
   "metadata": {},
   "source": [
    "## Servicios de Interconnect\n",
    "\n",
    "Interconnect proporciona principalmente dos tipos de servicios:\n",
    "\n",
    "1. Comunicación por teléfono fijo. El teléfono se puede conectar a varias líneas de manera simultánea.\n",
    "2. Internet. La red se puede configurar a través de una línea telefónica (DSL, *línea de abonado digital*) o a través de un cable de fibra óptica.\n",
    "\n",
    "Algunos otros servicios que ofrece la empresa incluyen:\n",
    "\n",
    "- Seguridad en Internet: software antivirus (*ProtecciónDeDispositivo*) y un bloqueador de sitios web maliciosos (*SeguridadEnLínea*).\n",
    "- Una línea de soporte técnico (*SoporteTécnico*).\n",
    "- Almacenamiento de archivos en la nube y backup de datos (*BackupOnline*).\n",
    "- Streaming de TV (*StreamingTV*) y directorio de películas (*StreamingPelículas*)\n",
    "\n",
    "La clientela puede elegir entre un pago mensual o firmar un contrato de 1 o 2 años. Puede utilizar varios métodos de pago y recibir una factura electrónica después de una transacción.\n"
   ]
  },
  {
   "cell_type": "markdown",
   "metadata": {},
   "source": [
    "## Descripción de los datos\n",
    "\n",
    "Los datos consisten en archivos obtenidos de diferentes fuentes:\n",
    "\n",
    "- `contract.csv` — información del contrato;\n",
    "- `personal.csv` — datos personales del cliente;\n",
    "- `internet.csv` — información sobre los servicios de Internet;\n",
    "- `phone.csv` — información sobre los servicios telefónicos.\n",
    "\n",
    "En cada archivo, la columna `customerID` (ID de cliente) contiene un código único asignado a cada cliente. La información del contrato es válida a partir del 1 de febrero de 2020.\n",
    "\n"
   ]
  },
  {
   "cell_type": "markdown",
   "metadata": {},
   "source": [
    "# Cargar los datos"
   ]
  },
  {
   "cell_type": "code",
   "execution_count": 74,
   "metadata": {},
   "outputs": [],
   "source": [
    "import pandas as pd\n",
    "import seaborn as sns\n",
    "import matplotlib.pyplot as plt\n",
    "import numpy as np\n",
    "import time as timer\n",
    "from sklearn.model_selection import train_test_split\n",
    "from sklearn.tree import DecisionTreeClassifier\n",
    "from sklearn.ensemble import RandomForestClassifier\n",
    "from sklearn.linear_model import LogisticRegression\n",
    "from sklearn.preprocessing import OrdinalEncoder\n",
    "from sklearn.preprocessing import StandardScaler\n",
    "from sklearn.metrics import accuracy_score\n",
    "from sklearn.metrics import roc_curve\n",
    "from sklearn.metrics import roc_auc_score"
   ]
  },
  {
   "cell_type": "code",
   "execution_count": 75,
   "metadata": {},
   "outputs": [],
   "source": [
    "contract=pd.read_csv('datasets/final_provider/contract.csv')\n",
    "personal=pd.read_csv('datasets/final_provider/personal.csv')\n",
    "internet=pd.read_csv('datasets/final_provider/internet.csv')\n",
    "phone=pd.read_csv('datasets/final_provider/phone.csv')"
   ]
  },
  {
   "cell_type": "markdown",
   "metadata": {},
   "source": [
    "# EDA"
   ]
  },
  {
   "cell_type": "markdown",
   "metadata": {},
   "source": [
    "## Datos ausentes y tipos de datos"
   ]
  },
  {
   "cell_type": "markdown",
   "metadata": {},
   "source": [
    "### contract"
   ]
  },
  {
   "cell_type": "code",
   "execution_count": 76,
   "metadata": {},
   "outputs": [
    {
     "name": "stdout",
     "output_type": "stream",
     "text": [
      "<class 'pandas.core.frame.DataFrame'>\n",
      "RangeIndex: 7043 entries, 0 to 7042\n",
      "Data columns (total 8 columns):\n",
      " #   Column            Non-Null Count  Dtype  \n",
      "---  ------            --------------  -----  \n",
      " 0   customerID        7043 non-null   object \n",
      " 1   BeginDate         7043 non-null   object \n",
      " 2   EndDate           7043 non-null   object \n",
      " 3   Type              7043 non-null   object \n",
      " 4   PaperlessBilling  7043 non-null   object \n",
      " 5   PaymentMethod     7043 non-null   object \n",
      " 6   MonthlyCharges    7043 non-null   float64\n",
      " 7   TotalCharges      7043 non-null   object \n",
      "dtypes: float64(1), object(7)\n",
      "memory usage: 440.3+ KB\n"
     ]
    }
   ],
   "source": [
    "contract.info()"
   ]
  },
  {
   "cell_type": "code",
   "execution_count": 77,
   "metadata": {
    "scrolled": true
   },
   "outputs": [
    {
     "data": {
      "text/html": [
       "<div>\n",
       "<style scoped>\n",
       "    .dataframe tbody tr th:only-of-type {\n",
       "        vertical-align: middle;\n",
       "    }\n",
       "\n",
       "    .dataframe tbody tr th {\n",
       "        vertical-align: top;\n",
       "    }\n",
       "\n",
       "    .dataframe thead th {\n",
       "        text-align: right;\n",
       "    }\n",
       "</style>\n",
       "<table border=\"1\" class=\"dataframe\">\n",
       "  <thead>\n",
       "    <tr style=\"text-align: right;\">\n",
       "      <th></th>\n",
       "      <th>customerID</th>\n",
       "      <th>BeginDate</th>\n",
       "      <th>EndDate</th>\n",
       "      <th>Type</th>\n",
       "      <th>PaperlessBilling</th>\n",
       "      <th>PaymentMethod</th>\n",
       "      <th>MonthlyCharges</th>\n",
       "      <th>TotalCharges</th>\n",
       "    </tr>\n",
       "  </thead>\n",
       "  <tbody>\n",
       "    <tr>\n",
       "      <th>5627</th>\n",
       "      <td>9334-GWGOW</td>\n",
       "      <td>2019-07-01</td>\n",
       "      <td>No</td>\n",
       "      <td>Month-to-month</td>\n",
       "      <td>Yes</td>\n",
       "      <td>Electronic check</td>\n",
       "      <td>74.85</td>\n",
       "      <td>485.25</td>\n",
       "    </tr>\n",
       "  </tbody>\n",
       "</table>\n",
       "</div>"
      ],
      "text/plain": [
       "      customerID   BeginDate EndDate            Type PaperlessBilling  \\\n",
       "5627  9334-GWGOW  2019-07-01      No  Month-to-month              Yes   \n",
       "\n",
       "         PaymentMethod  MonthlyCharges TotalCharges  \n",
       "5627  Electronic check           74.85       485.25  "
      ]
     },
     "execution_count": 77,
     "metadata": {},
     "output_type": "execute_result"
    }
   ],
   "source": [
    "contract.sample()"
   ]
  },
  {
   "cell_type": "code",
   "execution_count": 78,
   "metadata": {},
   "outputs": [
    {
     "data": {
      "text/plain": [
       "0"
      ]
     },
     "execution_count": 78,
     "metadata": {},
     "output_type": "execute_result"
    }
   ],
   "source": [
    "contract.duplicated().sum()"
   ]
  },
  {
   "cell_type": "code",
   "execution_count": 79,
   "metadata": {},
   "outputs": [
    {
     "data": {
      "text/plain": [
       "array([[<Axes: title={'center': 'MonthlyCharges'}>]], dtype=object)"
      ]
     },
     "execution_count": 79,
     "metadata": {},
     "output_type": "execute_result"
    },
    {
     "data": {
      "image/png": "[encoded data removed]",
      "text/plain": [
       "<Figure size 640x480 with 1 Axes>"
      ]
     },
     "metadata": {},
     "output_type": "display_data"
    }
   ],
   "source": [
    "contract.hist(bins=20)"
   ]
  },
  {
   "cell_type": "code",
   "execution_count": 80,
   "metadata": {},
   "outputs": [
    {
     "data": {
      "text/plain": [
       "<Axes: >"
      ]
     },
     "execution_count": 80,
     "metadata": {},
     "output_type": "execute_result"
    },
    {
     "data": {
      "image/png": "[encoded data removed]",
      "text/plain": [
       "<Figure size 640x480 with 1 Axes>"
      ]
     },
     "metadata": {},
     "output_type": "display_data"
    }
   ],
   "source": [
    "sns.boxplot(contract['MonthlyCharges'])"
   ]
  },
  {
   "cell_type": "markdown",
   "metadata": {},
   "source": [
    "### personal"
   ]
  },
  {
   "cell_type": "code",
   "execution_count": 81,
   "metadata": {},
   "outputs": [
    {
     "name": "stdout",
     "output_type": "stream",
     "text": [
      "<class 'pandas.core.frame.DataFrame'>\n",
      "RangeIndex: 7043 entries, 0 to 7042\n",
      "Data columns (total 5 columns):\n",
      " #   Column         Non-Null Count  Dtype \n",
      "---  ------         --------------  ----- \n",
      " 0   customerID     7043 non-null   object\n",
      " 1   gender         7043 non-null   object\n",
      " 2   SeniorCitizen  7043 non-null   int64 \n",
      " 3   Partner        7043 non-null   object\n",
      " 4   Dependents     7043 non-null   object\n",
      "dtypes: int64(1), object(4)\n",
      "memory usage: 275.2+ KB\n"
     ]
    }
   ],
   "source": [
    "personal.info()"
   ]
  },
  {
   "cell_type": "code",
   "execution_count": 82,
   "metadata": {
    "scrolled": true
   },
   "outputs": [
    {
     "data": {
      "text/html": [
       "<div>\n",
       "<style scoped>\n",
       "    .dataframe tbody tr th:only-of-type {\n",
       "        vertical-align: middle;\n",
       "    }\n",
       "\n",
       "    .dataframe tbody tr th {\n",
       "        vertical-align: top;\n",
       "    }\n",
       "\n",
       "    .dataframe thead th {\n",
       "        text-align: right;\n",
       "    }\n",
       "</style>\n",
       "<table border=\"1\" class=\"dataframe\">\n",
       "  <thead>\n",
       "    <tr style=\"text-align: right;\">\n",
       "      <th></th>\n",
       "      <th>customerID</th>\n",
       "      <th>gender</th>\n",
       "      <th>SeniorCitizen</th>\n",
       "      <th>Partner</th>\n",
       "      <th>Dependents</th>\n",
       "    </tr>\n",
       "  </thead>\n",
       "  <tbody>\n",
       "    <tr>\n",
       "      <th>4352</th>\n",
       "      <td>0595-ITUDF</td>\n",
       "      <td>Male</td>\n",
       "      <td>0</td>\n",
       "      <td>Yes</td>\n",
       "      <td>Yes</td>\n",
       "    </tr>\n",
       "  </tbody>\n",
       "</table>\n",
       "</div>"
      ],
      "text/plain": [
       "      customerID gender  SeniorCitizen Partner Dependents\n",
       "4352  0595-ITUDF   Male              0     Yes        Yes"
      ]
     },
     "execution_count": 82,
     "metadata": {},
     "output_type": "execute_result"
    }
   ],
   "source": [
    "personal.sample()"
   ]
  },
  {
   "cell_type": "code",
   "execution_count": 83,
   "metadata": {},
   "outputs": [
    {
     "data": {
      "text/plain": [
       "0"
      ]
     },
     "execution_count": 83,
     "metadata": {},
     "output_type": "execute_result"
    }
   ],
   "source": [
    "personal.duplicated().sum()"
   ]
  },
  {
   "cell_type": "code",
   "execution_count": 84,
   "metadata": {},
   "outputs": [
    {
     "data": {
      "text/plain": [
       "array([0, 1], dtype=int64)"
      ]
     },
     "execution_count": 84,
     "metadata": {},
     "output_type": "execute_result"
    }
   ],
   "source": [
    "personal['SeniorCitizen'].unique()"
   ]
  },
  {
   "cell_type": "code",
   "execution_count": 85,
   "metadata": {},
   "outputs": [
    {
     "data": {
      "text/plain": [
       "SeniorCitizen\n",
       "0    5901\n",
       "1    1142\n",
       "Name: customerID, dtype: int64"
      ]
     },
     "execution_count": 85,
     "metadata": {},
     "output_type": "execute_result"
    }
   ],
   "source": [
    "senior_citizen_freq=personal.groupby('SeniorCitizen')['customerID'].count()\n",
    "senior_citizen_freq"
   ]
  },
  {
   "cell_type": "code",
   "execution_count": 86,
   "metadata": {},
   "outputs": [
    {
     "data": {
      "text/plain": [
       "<Axes: xlabel='SeniorCitizen'>"
      ]
     },
     "execution_count": 86,
     "metadata": {},
     "output_type": "execute_result"
    },
    {
     "data": {
      "image/png": "[encoded data removed]",
      "text/plain": [
       "<Figure size 640x480 with 1 Axes>"
      ]
     },
     "metadata": {},
     "output_type": "display_data"
    }
   ],
   "source": [
    "senior_citizen_freq.plot(kind='bar')"
   ]
  },
  {
   "cell_type": "markdown",
   "metadata": {},
   "source": [
    "### internet"
   ]
  },
  {
   "cell_type": "code",
   "execution_count": 87,
   "metadata": {},
   "outputs": [
    {
     "name": "stdout",
     "output_type": "stream",
     "text": [
      "<class 'pandas.core.frame.DataFrame'>\n",
      "RangeIndex: 5517 entries, 0 to 5516\n",
      "Data columns (total 8 columns):\n",
      " #   Column            Non-Null Count  Dtype \n",
      "---  ------            --------------  ----- \n",
      " 0   customerID        5517 non-null   object\n",
      " 1   InternetService   5517 non-null   object\n",
      " 2   OnlineSecurity    5517 non-null   object\n",
      " 3   OnlineBackup      5517 non-null   object\n",
      " 4   DeviceProtection  5517 non-null   object\n",
      " 5   TechSupport       5517 non-null   object\n",
      " 6   StreamingTV       5517 non-null   object\n",
      " 7   StreamingMovies   5517 non-null   object\n",
      "dtypes: object(8)\n",
      "memory usage: 344.9+ KB\n"
     ]
    }
   ],
   "source": [
    "internet.info()"
   ]
  },
  {
   "cell_type": "code",
   "execution_count": 88,
   "metadata": {
    "scrolled": true
   },
   "outputs": [
    {
     "data": {
      "text/html": [
       "<div>\n",
       "<style scoped>\n",
       "    .dataframe tbody tr th:only-of-type {\n",
       "        vertical-align: middle;\n",
       "    }\n",
       "\n",
       "    .dataframe tbody tr th {\n",
       "        vertical-align: top;\n",
       "    }\n",
       "\n",
       "    .dataframe thead th {\n",
       "        text-align: right;\n",
       "    }\n",
       "</style>\n",
       "<table border=\"1\" class=\"dataframe\">\n",
       "  <thead>\n",
       "    <tr style=\"text-align: right;\">\n",
       "      <th></th>\n",
       "      <th>customerID</th>\n",
       "      <th>InternetService</th>\n",
       "      <th>OnlineSecurity</th>\n",
       "      <th>OnlineBackup</th>\n",
       "      <th>DeviceProtection</th>\n",
       "      <th>TechSupport</th>\n",
       "      <th>StreamingTV</th>\n",
       "      <th>StreamingMovies</th>\n",
       "    </tr>\n",
       "  </thead>\n",
       "  <tbody>\n",
       "    <tr>\n",
       "      <th>5216</th>\n",
       "      <td>4940-KHCWD</td>\n",
       "      <td>DSL</td>\n",
       "      <td>Yes</td>\n",
       "      <td>Yes</td>\n",
       "      <td>No</td>\n",
       "      <td>Yes</td>\n",
       "      <td>No</td>\n",
       "      <td>No</td>\n",
       "    </tr>\n",
       "  </tbody>\n",
       "</table>\n",
       "</div>"
      ],
      "text/plain": [
       "      customerID InternetService OnlineSecurity OnlineBackup DeviceProtection  \\\n",
       "5216  4940-KHCWD             DSL            Yes          Yes               No   \n",
       "\n",
       "     TechSupport StreamingTV StreamingMovies  \n",
       "5216         Yes          No              No  "
      ]
     },
     "execution_count": 88,
     "metadata": {},
     "output_type": "execute_result"
    }
   ],
   "source": [
    "internet.sample()"
   ]
  },
  {
   "cell_type": "code",
   "execution_count": 89,
   "metadata": {},
   "outputs": [
    {
     "data": {
      "text/plain": [
       "0"
      ]
     },
     "execution_count": 89,
     "metadata": {},
     "output_type": "execute_result"
    }
   ],
   "source": [
    "internet.duplicated().sum()"
   ]
  },
  {
   "cell_type": "markdown",
   "metadata": {},
   "source": [
    "### phone"
   ]
  },
  {
   "cell_type": "code",
   "execution_count": 90,
   "metadata": {},
   "outputs": [
    {
     "name": "stdout",
     "output_type": "stream",
     "text": [
      "<class 'pandas.core.frame.DataFrame'>\n",
      "RangeIndex: 6361 entries, 0 to 6360\n",
      "Data columns (total 2 columns):\n",
      " #   Column         Non-Null Count  Dtype \n",
      "---  ------         --------------  ----- \n",
      " 0   customerID     6361 non-null   object\n",
      " 1   MultipleLines  6361 non-null   object\n",
      "dtypes: object(2)\n",
      "memory usage: 99.5+ KB\n"
     ]
    }
   ],
   "source": [
    "phone.info()"
   ]
  },
  {
   "cell_type": "code",
   "execution_count": 91,
   "metadata": {
    "scrolled": true
   },
   "outputs": [
    {
     "data": {
      "text/html": [
       "<div>\n",
       "<style scoped>\n",
       "    .dataframe tbody tr th:only-of-type {\n",
       "        vertical-align: middle;\n",
       "    }\n",
       "\n",
       "    .dataframe tbody tr th {\n",
       "        vertical-align: top;\n",
       "    }\n",
       "\n",
       "    .dataframe thead th {\n",
       "        text-align: right;\n",
       "    }\n",
       "</style>\n",
       "<table border=\"1\" class=\"dataframe\">\n",
       "  <thead>\n",
       "    <tr style=\"text-align: right;\">\n",
       "      <th></th>\n",
       "      <th>customerID</th>\n",
       "      <th>MultipleLines</th>\n",
       "    </tr>\n",
       "  </thead>\n",
       "  <tbody>\n",
       "    <tr>\n",
       "      <th>1155</th>\n",
       "      <td>8780-IHCRN</td>\n",
       "      <td>Yes</td>\n",
       "    </tr>\n",
       "  </tbody>\n",
       "</table>\n",
       "</div>"
      ],
      "text/plain": [
       "      customerID MultipleLines\n",
       "1155  8780-IHCRN           Yes"
      ]
     },
     "execution_count": 91,
     "metadata": {},
     "output_type": "execute_result"
    }
   ],
   "source": [
    "phone.sample()"
   ]
  },
  {
   "cell_type": "code",
   "execution_count": 92,
   "metadata": {},
   "outputs": [
    {
     "data": {
      "text/plain": [
       "0"
      ]
     },
     "execution_count": 92,
     "metadata": {},
     "output_type": "execute_result"
    }
   ],
   "source": [
    "phone.duplicated().sum()"
   ]
  },
  {
   "cell_type": "markdown",
   "metadata": {},
   "source": [
    "### Conclusion\n",
    "Hasta ahora no hay datos ausentes, la mayoria de los clientes paga menos de 30 o 70 al mes y no son adultos mayores."
   ]
  },
  {
   "cell_type": "markdown",
   "metadata": {},
   "source": [
    "## Nombres de columnas"
   ]
  },
  {
   "cell_type": "code",
   "execution_count": 93,
   "metadata": {},
   "outputs": [
    {
     "data": {
      "text/plain": [
       "Index(['customerID', 'BeginDate', 'EndDate', 'Type', 'PaperlessBilling',\n",
       "       'PaymentMethod', 'MonthlyCharges', 'TotalCharges'],\n",
       "      dtype='object')"
      ]
     },
     "execution_count": 93,
     "metadata": {},
     "output_type": "execute_result"
    }
   ],
   "source": [
    "contract.columns"
   ]
  },
  {
   "cell_type": "code",
   "execution_count": 94,
   "metadata": {},
   "outputs": [
    {
     "data": {
      "text/plain": [
       "Index(['customer_id', 'begin_date', 'end_date', 'type', 'paperless_billing',\n",
       "       'payment_method', 'monthly_charges', 'total_charges'],\n",
       "      dtype='object')"
      ]
     },
     "execution_count": 94,
     "metadata": {},
     "output_type": "execute_result"
    }
   ],
   "source": [
    "contract=contract.rename(columns={'customerID':'customer_id','BeginDate':'begin_date','EndDate':'end_date','Type':'type',\n",
    "                                  'PaperlessBilling':'paperless_billing','PaymentMethod':'payment_method',\n",
    "                                  'MonthlyCharges':'monthly_charges','TotalCharges':'total_charges'})\n",
    "contract.columns"
   ]
  },
  {
   "cell_type": "code",
   "execution_count": 95,
   "metadata": {},
   "outputs": [
    {
     "data": {
      "text/plain": [
       "Index(['customerID', 'gender', 'SeniorCitizen', 'Partner', 'Dependents'], dtype='object')"
      ]
     },
     "execution_count": 95,
     "metadata": {},
     "output_type": "execute_result"
    }
   ],
   "source": [
    "personal.columns"
   ]
  },
  {
   "cell_type": "code",
   "execution_count": 96,
   "metadata": {},
   "outputs": [
    {
     "data": {
      "text/plain": [
       "Index(['customer_id', 'gender', 'senior_citizen', 'partner', 'dependents'], dtype='object')"
      ]
     },
     "execution_count": 96,
     "metadata": {},
     "output_type": "execute_result"
    }
   ],
   "source": [
    "personal=personal.rename(columns={'customerID':'customer_id','SeniorCitizen':'senior_citizen','Partner':'partner','Dependents':'dependents'})\n",
    "personal.columns"
   ]
  },
  {
   "cell_type": "code",
   "execution_count": 97,
   "metadata": {},
   "outputs": [
    {
     "data": {
      "text/plain": [
       "Index(['customerID', 'InternetService', 'OnlineSecurity', 'OnlineBackup',\n",
       "       'DeviceProtection', 'TechSupport', 'StreamingTV', 'StreamingMovies'],\n",
       "      dtype='object')"
      ]
     },
     "execution_count": 97,
     "metadata": {},
     "output_type": "execute_result"
    }
   ],
   "source": [
    "internet.columns"
   ]
  },
  {
   "cell_type": "code",
   "execution_count": 98,
   "metadata": {},
   "outputs": [
    {
     "data": {
      "text/plain": [
       "Index(['customer_id', 'internet_service', 'online_security', 'online_backup',\n",
       "       'device_protection', 'teach_support', 'streaming_tv',\n",
       "       'streaming_movies'],\n",
       "      dtype='object')"
      ]
     },
     "execution_count": 98,
     "metadata": {},
     "output_type": "execute_result"
    }
   ],
   "source": [
    "internet=internet.rename(columns={'customerID':'customer_id','InternetService':'internet_service','OnlineSecurity':'online_security',\n",
    "                                  'OnlineBackup':'online_backup','DeviceProtection':'device_protection','TechSupport':'teach_support',\n",
    "                                  'StreamingTV':'streaming_tv','StreamingMovies':'streaming_movies'})\n",
    "internet.columns"
   ]
  },
  {
   "cell_type": "code",
   "execution_count": 99,
   "metadata": {},
   "outputs": [
    {
     "data": {
      "text/plain": [
       "Index(['customerID', 'MultipleLines'], dtype='object')"
      ]
     },
     "execution_count": 99,
     "metadata": {},
     "output_type": "execute_result"
    }
   ],
   "source": [
    "phone.columns"
   ]
  },
  {
   "cell_type": "code",
   "execution_count": 100,
   "metadata": {},
   "outputs": [
    {
     "data": {
      "text/plain": [
       "Index(['customer_id', 'multiple_lines'], dtype='object')"
      ]
     },
     "execution_count": 100,
     "metadata": {},
     "output_type": "execute_result"
    }
   ],
   "source": [
    "phone=phone.rename(columns={'customerID':'customer_id','MultipleLines':'multiple_lines'})\n",
    "phone.columns"
   ]
  },
  {
   "cell_type": "markdown",
   "metadata": {},
   "source": [
    "## Datos ausentes\n",
    "Es muy probable que algunos clientes no tienen alguno de los dos servicios: internet o teléfono. Necesito saber si alguno no tiene ninguno de estos dos servicios."
   ]
  },
  {
   "cell_type": "code",
   "execution_count": 101,
   "metadata": {},
   "outputs": [],
   "source": [
    "p_id=personal.customer_id\n",
    "c_id=contract.customer_id\n",
    "i_id=internet.customer_id\n",
    "ph_id=phone.customer_id"
   ]
  },
  {
   "cell_type": "code",
   "execution_count": 102,
   "metadata": {},
   "outputs": [
    {
     "data": {
      "text/plain": [
       "True"
      ]
     },
     "execution_count": 102,
     "metadata": {},
     "output_type": "execute_result"
    }
   ],
   "source": [
    "# ¿todos los clientes registrados en la tabla 'personal' estan en la tabla 'contract'?\n",
    "all([True if item in contract.customer_id.values else False for item in p_id.values])"
   ]
  },
  {
   "cell_type": "code",
   "execution_count": 103,
   "metadata": {},
   "outputs": [
    {
     "data": {
      "text/plain": [
       "False"
      ]
     },
     "execution_count": 103,
     "metadata": {},
     "output_type": "execute_result"
    }
   ],
   "source": [
    "# ¿todos los clientes registrados en la tabla 'personal' estan en la tabla 'internet'?\n",
    "all([True if item in internet.customer_id.values else False for item in p_id.values])"
   ]
  },
  {
   "cell_type": "code",
   "execution_count": 104,
   "metadata": {},
   "outputs": [
    {
     "data": {
      "text/plain": [
       "False"
      ]
     },
     "execution_count": 104,
     "metadata": {},
     "output_type": "execute_result"
    }
   ],
   "source": [
    "# ¿todos los clientes registrados en la tabla 'personal' estan en la tabla 'phone'?\n",
    "all([True if item in phone.customer_id.values else False for item in p_id.values])"
   ]
  },
  {
   "cell_type": "code",
   "execution_count": 105,
   "metadata": {},
   "outputs": [
    {
     "data": {
      "text/plain": [
       "4835"
      ]
     },
     "execution_count": 105,
     "metadata": {},
     "output_type": "execute_result"
    }
   ],
   "source": [
    "# ¿cuantos clientes tienen ambos servicios, internet y teléfono?\n",
    "internet_and_phone=personal[(personal.customer_id.isin(i_id))&(personal.customer_id.isin(ph_id))]['customer_id']\n",
    "len(internet_and_phone)"
   ]
  },
  {
   "cell_type": "code",
   "execution_count": 106,
   "metadata": {},
   "outputs": [
    {
     "data": {
      "text/plain": [
       "1526"
      ]
     },
     "execution_count": 106,
     "metadata": {},
     "output_type": "execute_result"
    }
   ],
   "source": [
    "# ¿quienes son los clientes que no tienen internet?\n",
    "not_internet=personal[~personal.customer_id.isin(i_id)]['customer_id']\n",
    "\n",
    "len(not_internet)"
   ]
  },
  {
   "cell_type": "code",
   "execution_count": 107,
   "metadata": {},
   "outputs": [
    {
     "data": {
      "text/plain": [
       "682"
      ]
     },
     "execution_count": 107,
     "metadata": {},
     "output_type": "execute_result"
    }
   ],
   "source": [
    "# ¿quienes son los clientes que no tienen teléfono?\n",
    "not_phone=personal[~personal.customer_id.isin(ph_id)]['customer_id']\n",
    "len(not_phone)"
   ]
  },
  {
   "cell_type": "code",
   "execution_count": 108,
   "metadata": {},
   "outputs": [
    {
     "data": {
      "text/plain": [
       "False"
      ]
     },
     "execution_count": 108,
     "metadata": {},
     "output_type": "execute_result"
    }
   ],
   "source": [
    "# ¿los clientes sin internet tampoco tienen teléfono?\n",
    "any([True if item in not_internet.values else False for item in not_phone.values])"
   ]
  },
  {
   "cell_type": "code",
   "execution_count": 109,
   "metadata": {},
   "outputs": [
    {
     "data": {
      "text/plain": [
       "False"
      ]
     },
     "execution_count": 109,
     "metadata": {},
     "output_type": "execute_result"
    }
   ],
   "source": [
    "# ¿los clientes sin teléfono tampoco tienen internet?\n",
    "any([True if item in not_phone.values else False for item in not_internet.values])"
   ]
  },
  {
   "cell_type": "code",
   "execution_count": 110,
   "metadata": {},
   "outputs": [
    {
     "data": {
      "text/plain": [
       "Index(['customer_id', 'gender', 'senior_citizen', 'partner', 'dependents'], dtype='object')"
      ]
     },
     "execution_count": 110,
     "metadata": {},
     "output_type": "execute_result"
    }
   ],
   "source": [
    "personal.columns"
   ]
  },
  {
   "cell_type": "code",
   "execution_count": 111,
   "metadata": {},
   "outputs": [
    {
     "data": {
      "text/plain": [
       "Index(['customer_id', 'begin_date', 'end_date', 'type', 'paperless_billing',\n",
       "       'payment_method', 'monthly_charges', 'total_charges'],\n",
       "      dtype='object')"
      ]
     },
     "execution_count": 111,
     "metadata": {},
     "output_type": "execute_result"
    }
   ],
   "source": [
    "contract.columns"
   ]
  },
  {
   "cell_type": "markdown",
   "metadata": {},
   "source": [
    "### Conclusion\n",
    "- Los clientes son los mismos en la tabla ´personal' y 'çontract'. Esto significa que todos los clientes tienen registrado un contrato. Y tambien todos tienen alguno de los dos servicios: teléfono o internet.\n",
    "- 4835 clientes tienen ambos servivios: internet y teléfono\n",
    "- 1526 clientes no tienen internet\n",
    "- 682 clientes no tienen teléfono.\n",
    "\n",
    "Usaré esta información para combinar las cuatro tablas de datos."
   ]
  },
  {
   "cell_type": "markdown",
   "metadata": {},
   "source": [
    "# Preprocesamiento"
   ]
  },
  {
   "cell_type": "markdown",
   "metadata": {},
   "source": [
    "A continuación, haré algunos cambios en los datos. Para no perder información, haré una copia de los datos originales."
   ]
  },
  {
   "cell_type": "code",
   "execution_count": 112,
   "metadata": {},
   "outputs": [],
   "source": [
    "# Antes de comenzar, haré una copia de las tablas originales\n",
    "contract_original=contract.copy()\n",
    "personal_original=personal.copy()\n",
    "internet_original=internet.copy()\n",
    "phone_original=phone.copy()"
   ]
  },
  {
   "cell_type": "code",
   "execution_count": 113,
   "metadata": {},
   "outputs": [
    {
     "data": {
      "text/plain": [
       "Index(['customer_id', 'begin_date', 'end_date', 'type', 'paperless_billing',\n",
       "       'payment_method', 'monthly_charges', 'total_charges'],\n",
       "      dtype='object')"
      ]
     },
     "execution_count": 113,
     "metadata": {},
     "output_type": "execute_result"
    }
   ],
   "source": [
    "contract.columns"
   ]
  },
  {
   "cell_type": "code",
   "execution_count": 114,
   "metadata": {},
   "outputs": [
    {
     "data": {
      "text/plain": [
       "Index(['customer_id', 'gender', 'senior_citizen', 'partner', 'dependents'], dtype='object')"
      ]
     },
     "execution_count": 114,
     "metadata": {},
     "output_type": "execute_result"
    }
   ],
   "source": [
    "personal.columns"
   ]
  },
  {
   "cell_type": "code",
   "execution_count": 115,
   "metadata": {},
   "outputs": [
    {
     "data": {
      "text/plain": [
       "Index(['customer_id', 'internet_service', 'online_security', 'online_backup',\n",
       "       'device_protection', 'teach_support', 'streaming_tv',\n",
       "       'streaming_movies'],\n",
       "      dtype='object')"
      ]
     },
     "execution_count": 115,
     "metadata": {},
     "output_type": "execute_result"
    }
   ],
   "source": [
    "internet.columns"
   ]
  },
  {
   "cell_type": "code",
   "execution_count": 116,
   "metadata": {},
   "outputs": [
    {
     "data": {
      "text/plain": [
       "Index(['customer_id', 'multiple_lines'], dtype='object')"
      ]
     },
     "execution_count": 116,
     "metadata": {},
     "output_type": "execute_result"
    }
   ],
   "source": [
    "phone.columns"
   ]
  },
  {
   "cell_type": "code",
   "execution_count": 117,
   "metadata": {},
   "outputs": [
    {
     "data": {
      "text/plain": [
       "(7043, 20)"
      ]
     },
     "execution_count": 117,
     "metadata": {},
     "output_type": "execute_result"
    }
   ],
   "source": [
    "# Combino las tablas 'contract', 'personal', 'internet' y 'phone'\n",
    "interconnect_data=contract.merge(personal, on='customer_id',how='outer')\n",
    "interconnect_data=interconnect_data.merge(internet, on='customer_id',how='outer')\n",
    "interconnect_data=interconnect_data.merge(phone, on='customer_id',how='outer')\n",
    "interconnect_data.shape"
   ]
  },
  {
   "cell_type": "code",
   "execution_count": 118,
   "metadata": {},
   "outputs": [
    {
     "data": {
      "text/plain": [
       "Index(['customer_id', 'begin_date', 'end_date', 'type', 'paperless_billing',\n",
       "       'payment_method', 'monthly_charges', 'total_charges', 'gender',\n",
       "       'senior_citizen', 'partner', 'dependents', 'internet_service',\n",
       "       'online_security', 'online_backup', 'device_protection',\n",
       "       'teach_support', 'streaming_tv', 'streaming_movies', 'multiple_lines'],\n",
       "      dtype='object')"
      ]
     },
     "execution_count": 118,
     "metadata": {},
     "output_type": "execute_result"
    }
   ],
   "source": [
    "interconnect_data.columns"
   ]
  },
  {
   "cell_type": "markdown",
   "metadata": {},
   "source": [
    "Para revisar que las tablas estan combinadas correctamente, repito la conclusión de la seccion anterior:\n",
    "\n",
    "- Los clientes son los mismos en la tabla ´personal' y 'çontract'. Esto significa que todos los clientes tienen registrado un contrato. Y tambien todos tienen alguno de los dos servicios: teléfono o internet.\n",
    "- 4835 clientes tienen ambos servivios: internet y teléfono\n",
    "- 1526 clientes no tienen internet\n",
    "- 682 clientes no tienen teléfono."
   ]
  },
  {
   "cell_type": "code",
   "execution_count": 119,
   "metadata": {},
   "outputs": [
    {
     "data": {
      "text/plain": [
       "7043"
      ]
     },
     "execution_count": 119,
     "metadata": {},
     "output_type": "execute_result"
    }
   ],
   "source": [
    "len(interconnect_data)"
   ]
  },
  {
   "cell_type": "code",
   "execution_count": 120,
   "metadata": {},
   "outputs": [
    {
     "data": {
      "text/plain": [
       "True"
      ]
     },
     "execution_count": 120,
     "metadata": {},
     "output_type": "execute_result"
    }
   ],
   "source": [
    "# la cantidad de datos no ausentes:\n",
    "# ¿es la misma para los clientes de las columnas de la tabla 'contract' que las de la tabla 'personal'\n",
    "# si es así, significa que todos los clientes tienen registrado un contrato\n",
    "interconnect_data['begin_date'].notna().count()==interconnect_data['gender'].notna().count()"
   ]
  },
  {
   "cell_type": "code",
   "execution_count": 121,
   "metadata": {},
   "outputs": [
    {
     "data": {
      "text/plain": [
       "4835"
      ]
     },
     "execution_count": 121,
     "metadata": {},
     "output_type": "execute_result"
    }
   ],
   "source": [
    "both_services=interconnect_data[interconnect_data['internet_service'].notna()&\n",
    "                                interconnect_data['multiple_lines'].notna()]\n",
    "len(both_services)"
   ]
  },
  {
   "cell_type": "code",
   "execution_count": 122,
   "metadata": {},
   "outputs": [
    {
     "data": {
      "text/plain": [
       "1526"
      ]
     },
     "execution_count": 122,
     "metadata": {},
     "output_type": "execute_result"
    }
   ],
   "source": [
    "not_internet=interconnect_data[interconnect_data['internet_service'].isna()]\n",
    "len(not_internet)"
   ]
  },
  {
   "cell_type": "code",
   "execution_count": 123,
   "metadata": {},
   "outputs": [
    {
     "data": {
      "text/plain": [
       "682"
      ]
     },
     "execution_count": 123,
     "metadata": {},
     "output_type": "execute_result"
    }
   ],
   "source": [
    "not_phone=interconnect_data[interconnect_data['multiple_lines'].isna()]\n",
    "len(not_phone)"
   ]
  },
  {
   "cell_type": "markdown",
   "metadata": {},
   "source": [
    "## Conclusion\n",
    "La tabla se combinó correctamente. Aun falta procesar los datos de cada columna. Ultimos hallazgos:\n",
    "- Todos los datos ausentes corresponden a clientes que no han contratado alguno de los servicios. \n",
    "- Son 7043 clientes en total, de ellos:\n",
    "- 4835 clientes han contratado ambos servicios: internet y teléfono.\n",
    "- 1526 no tienen internet.\n",
    "- 682 no tienen teléfono."
   ]
  },
  {
   "cell_type": "markdown",
   "metadata": {},
   "source": [
    "## Tipos de datos"
   ]
  },
  {
   "cell_type": "code",
   "execution_count": 124,
   "metadata": {},
   "outputs": [
    {
     "name": "stdout",
     "output_type": "stream",
     "text": [
      "<class 'pandas.core.frame.DataFrame'>\n",
      "RangeIndex: 7043 entries, 0 to 7042\n",
      "Data columns (total 20 columns):\n",
      " #   Column             Non-Null Count  Dtype  \n",
      "---  ------             --------------  -----  \n",
      " 0   customer_id        7043 non-null   object \n",
      " 1   begin_date         7043 non-null   object \n",
      " 2   end_date           7043 non-null   object \n",
      " 3   type               7043 non-null   object \n",
      " 4   paperless_billing  7043 non-null   object \n",
      " 5   payment_method     7043 non-null   object \n",
      " 6   monthly_charges    7043 non-null   float64\n",
      " 7   total_charges      7043 non-null   object \n",
      " 8   gender             7043 non-null   object \n",
      " 9   senior_citizen     7043 non-null   int64  \n",
      " 10  partner            7043 non-null   object \n",
      " 11  dependents         7043 non-null   object \n",
      " 12  internet_service   5517 non-null   object \n",
      " 13  online_security    5517 non-null   object \n",
      " 14  online_backup      5517 non-null   object \n",
      " 15  device_protection  5517 non-null   object \n",
      " 16  teach_support      5517 non-null   object \n",
      " 17  streaming_tv       5517 non-null   object \n",
      " 18  streaming_movies   5517 non-null   object \n",
      " 19  multiple_lines     6361 non-null   object \n",
      "dtypes: float64(1), int64(1), object(18)\n",
      "memory usage: 1.1+ MB\n"
     ]
    }
   ],
   "source": [
    "interconnect_data.info()"
   ]
  },
  {
   "cell_type": "code",
   "execution_count": 125,
   "metadata": {},
   "outputs": [
    {
     "data": {
      "text/html": [
       "<div>\n",
       "<style scoped>\n",
       "    .dataframe tbody tr th:only-of-type {\n",
       "        vertical-align: middle;\n",
       "    }\n",
       "\n",
       "    .dataframe tbody tr th {\n",
       "        vertical-align: top;\n",
       "    }\n",
       "\n",
       "    .dataframe thead th {\n",
       "        text-align: right;\n",
       "    }\n",
       "</style>\n",
       "<table border=\"1\" class=\"dataframe\">\n",
       "  <thead>\n",
       "    <tr style=\"text-align: right;\">\n",
       "      <th></th>\n",
       "      <th>customer_id</th>\n",
       "      <th>begin_date</th>\n",
       "      <th>end_date</th>\n",
       "      <th>type</th>\n",
       "      <th>paperless_billing</th>\n",
       "      <th>payment_method</th>\n",
       "      <th>monthly_charges</th>\n",
       "      <th>total_charges</th>\n",
       "      <th>gender</th>\n",
       "      <th>senior_citizen</th>\n",
       "      <th>partner</th>\n",
       "      <th>dependents</th>\n",
       "      <th>internet_service</th>\n",
       "      <th>online_security</th>\n",
       "      <th>online_backup</th>\n",
       "      <th>device_protection</th>\n",
       "      <th>teach_support</th>\n",
       "      <th>streaming_tv</th>\n",
       "      <th>streaming_movies</th>\n",
       "      <th>multiple_lines</th>\n",
       "    </tr>\n",
       "  </thead>\n",
       "  <tbody>\n",
       "    <tr>\n",
       "      <th>6264</th>\n",
       "      <td>2578-JQPHZ</td>\n",
       "      <td>2016-06-01</td>\n",
       "      <td>No</td>\n",
       "      <td>Two year</td>\n",
       "      <td>No</td>\n",
       "      <td>Bank transfer (automatic)</td>\n",
       "      <td>100.1</td>\n",
       "      <td>4378.35</td>\n",
       "      <td>Male</td>\n",
       "      <td>0</td>\n",
       "      <td>No</td>\n",
       "      <td>No</td>\n",
       "      <td>Fiber optic</td>\n",
       "      <td>No</td>\n",
       "      <td>No</td>\n",
       "      <td>Yes</td>\n",
       "      <td>Yes</td>\n",
       "      <td>Yes</td>\n",
       "      <td>Yes</td>\n",
       "      <td>No</td>\n",
       "    </tr>\n",
       "  </tbody>\n",
       "</table>\n",
       "</div>"
      ],
      "text/plain": [
       "     customer_id  begin_date end_date      type paperless_billing  \\\n",
       "6264  2578-JQPHZ  2016-06-01       No  Two year                No   \n",
       "\n",
       "                 payment_method  monthly_charges total_charges gender  \\\n",
       "6264  Bank transfer (automatic)            100.1       4378.35   Male   \n",
       "\n",
       "      senior_citizen partner dependents internet_service online_security  \\\n",
       "6264               0      No         No      Fiber optic              No   \n",
       "\n",
       "     online_backup device_protection teach_support streaming_tv  \\\n",
       "6264            No               Yes           Yes          Yes   \n",
       "\n",
       "     streaming_movies multiple_lines  \n",
       "6264              Yes             No  "
      ]
     },
     "execution_count": 125,
     "metadata": {},
     "output_type": "execute_result"
    }
   ],
   "source": [
    "interconnect_data.sample()"
   ]
  },
  {
   "cell_type": "code",
   "execution_count": 126,
   "metadata": {},
   "outputs": [],
   "source": [
    "# haré una copia de esta tabla, pues le haré muchos cambios\n",
    "interconnect_original=interconnect_data.copy()"
   ]
  },
  {
   "cell_type": "markdown",
   "metadata": {},
   "source": [
    "## Fechas"
   ]
  },
  {
   "cell_type": "markdown",
   "metadata": {},
   "source": [
    "### begin_date\n",
    "\n",
    "Es difícil adivinar el formato de las fechas de salida de los clientes, pues podría ser:\n",
    "- año, mes, día\n",
    "o bien:\n",
    "- año, dia, mes\n",
    "Sin embargo, seria muy extraño que los clientes solo se inscriban durante el mes de Enero de cada año. Es mas probable que inicien su contrato el primer día de cada mes. Entonces, voy a suponer que el formato de fecha es el primero: año, mes, día. Así, las fechas 1 de Enero del 2020, 1 de Abril del 2017, y 1 de Octubre del 2019, parecen mas normales.\n",
    "\n",
    "- 'begin_date' contiene muchos datos diferentes tipo cadena. Es mas conveniente que el formato sea de fecha para poder ordenarlos, y mas adelante codificarlos como variables ordinales. **Los convertiré a fechas, revisaré la fecha mas antigua y la mas nueva, y ordenaré las fechas por días**. Hago esto para ayudar a los modelos a predecir correctamente usando estas fechas.\n",
    "\n",
    "Por lo pronto en esta seccion procesaré la columna con fechas 'begin_date'"
   ]
  },
  {
   "cell_type": "code",
   "execution_count": 127,
   "metadata": {},
   "outputs": [
    {
     "data": {
      "text/plain": [
       "array(['2020-01-01', '2017-04-01', '2019-10-01', '2016-05-01',\n",
       "       '2019-09-01', '2019-03-01', '2018-04-01', '2019-04-01',\n",
       "       '2017-07-01', '2014-12-01', '2019-01-01', '2018-10-01',\n",
       "       '2015-04-01', '2015-09-01', '2018-01-01', '2014-05-01',\n",
       "       '2015-10-01', '2014-03-01', '2018-05-01', '2019-11-01',\n",
       "       '2019-02-01', '2016-01-01', '2017-08-01', '2015-12-01',\n",
       "       '2014-02-01', '2018-06-01', '2019-12-01', '2017-11-01',\n",
       "       '2019-06-01', '2016-04-01', '2017-02-01', '2018-12-01',\n",
       "       '2014-04-01', '2018-09-01', '2014-11-01', '2016-07-01',\n",
       "       '2015-02-01', '2018-07-01', '2014-08-01', '2016-03-01',\n",
       "       '2018-08-01', '2014-10-01', '2015-06-01', '2016-08-01',\n",
       "       '2019-05-01', '2017-03-01', '2016-02-01', '2017-09-01',\n",
       "       '2014-09-01', '2017-12-01', '2016-12-01', '2017-06-01',\n",
       "       '2015-05-01', '2016-10-01', '2016-09-01', '2019-08-01',\n",
       "       '2019-07-01', '2017-05-01', '2017-10-01', '2014-07-01',\n",
       "       '2018-03-01', '2015-01-01', '2018-11-01', '2015-03-01',\n",
       "       '2018-02-01', '2016-06-01', '2015-08-01', '2015-11-01',\n",
       "       '2014-06-01', '2017-01-01', '2015-07-01', '2020-02-01',\n",
       "       '2016-11-01', '2013-11-01', '2014-01-01', '2013-10-01',\n",
       "       '2013-12-01'], dtype=object)"
      ]
     },
     "execution_count": 127,
     "metadata": {},
     "output_type": "execute_result"
    }
   ],
   "source": [
    "interconnect_data['begin_date'].unique()"
   ]
  },
  {
   "cell_type": "code",
   "execution_count": 128,
   "metadata": {},
   "outputs": [
    {
     "data": {
      "text/plain": [
       "pandas._libs.tslibs.timestamps.Timestamp"
      ]
     },
     "execution_count": 128,
     "metadata": {},
     "output_type": "execute_result"
    }
   ],
   "source": [
    "# cambio a formato fecha y me aseguro que los datos de las celdas tienen el formato correcto\n",
    "interconnect_data['begin_date']=pd.to_datetime(interconnect_data['begin_date'], format='%Y-%m-%d')\n",
    "type(interconnect_data['begin_date'][0])"
   ]
  },
  {
   "cell_type": "markdown",
   "metadata": {},
   "source": [
    "#### codificación ordinal"
   ]
  },
  {
   "cell_type": "code",
   "execution_count": 129,
   "metadata": {},
   "outputs": [
    {
     "data": {
      "text/plain": [
       "Timestamp('2020-02-01 00:00:00')"
      ]
     },
     "execution_count": 129,
     "metadata": {},
     "output_type": "execute_result"
    }
   ],
   "source": [
    "# necesito saber la última fecha\n",
    "max(interconnect_data['begin_date'])"
   ]
  },
  {
   "cell_type": "code",
   "execution_count": 130,
   "metadata": {},
   "outputs": [
    {
     "data": {
      "text/plain": [
       "Timestamp('2013-10-01 00:00:00')"
      ]
     },
     "execution_count": 130,
     "metadata": {},
     "output_type": "execute_result"
    }
   ],
   "source": [
    "# necesito saber la primera fecha\n",
    "min(interconnect_data['begin_date'])"
   ]
  },
  {
   "cell_type": "markdown",
   "metadata": {},
   "source": [
    "Bien, la última fecha es el 1 de Febrero del 2020, y la mas antigua es el 1 de Octubre del 2013.\n",
    "\n",
    "Agregaré una columna con la fecha mas antigua para poder codificar las fechas de manera ordinal, hago esto para entrenar los modelos."
   ]
  },
  {
   "cell_type": "code",
   "execution_count": 131,
   "metadata": {},
   "outputs": [],
   "source": [
    "# crearé una columna con la fecha mas antiguas\n",
    "interconnect_data['old_date_']=pd.to_datetime('2013-10-01', format='%Y-%m-%d')"
   ]
  },
  {
   "cell_type": "code",
   "execution_count": 132,
   "metadata": {},
   "outputs": [
    {
     "data": {
      "text/plain": [
       "0       2283\n",
       "1       1278\n",
       "2       2191\n",
       "3        943\n",
       "4       2161\n",
       "        ... \n",
       "7038    1584\n",
       "7039     123\n",
       "7040    1977\n",
       "7041    2099\n",
       "7042     304\n",
       "Name: begin_date_, Length: 7043, dtype: int64"
      ]
     },
     "execution_count": 132,
     "metadata": {},
     "output_type": "execute_result"
    }
   ],
   "source": [
    "# voy a codificar estas fechas como variables ordinales\n",
    "interconnect_data['begin_date_']=(interconnect_data['begin_date']-interconnect_data['old_date_']).dt.days\n",
    "interconnect_data['begin_date_']"
   ]
  },
  {
   "cell_type": "code",
   "execution_count": 133,
   "metadata": {},
   "outputs": [
    {
     "data": {
      "text/html": [
       "<div>\n",
       "<style scoped>\n",
       "    .dataframe tbody tr th:only-of-type {\n",
       "        vertical-align: middle;\n",
       "    }\n",
       "\n",
       "    .dataframe tbody tr th {\n",
       "        vertical-align: top;\n",
       "    }\n",
       "\n",
       "    .dataframe thead th {\n",
       "        text-align: right;\n",
       "    }\n",
       "</style>\n",
       "<table border=\"1\" class=\"dataframe\">\n",
       "  <thead>\n",
       "    <tr style=\"text-align: right;\">\n",
       "      <th></th>\n",
       "      <th>customer_id</th>\n",
       "      <th>begin_date</th>\n",
       "      <th>end_date</th>\n",
       "      <th>type</th>\n",
       "      <th>paperless_billing</th>\n",
       "      <th>payment_method</th>\n",
       "      <th>monthly_charges</th>\n",
       "      <th>total_charges</th>\n",
       "      <th>gender</th>\n",
       "      <th>senior_citizen</th>\n",
       "      <th>...</th>\n",
       "      <th>internet_service</th>\n",
       "      <th>online_security</th>\n",
       "      <th>online_backup</th>\n",
       "      <th>device_protection</th>\n",
       "      <th>teach_support</th>\n",
       "      <th>streaming_tv</th>\n",
       "      <th>streaming_movies</th>\n",
       "      <th>multiple_lines</th>\n",
       "      <th>old_date_</th>\n",
       "      <th>begin_date_</th>\n",
       "    </tr>\n",
       "  </thead>\n",
       "  <tbody>\n",
       "    <tr>\n",
       "      <th>4513</th>\n",
       "      <td>8580-QVLOC</td>\n",
       "      <td>2013-10-01</td>\n",
       "      <td>2019-10-01 00:00:00</td>\n",
       "      <td>Two year</td>\n",
       "      <td>No</td>\n",
       "      <td>Credit card (automatic)</td>\n",
       "      <td>92.45</td>\n",
       "      <td>6440.25</td>\n",
       "      <td>Female</td>\n",
       "      <td>1</td>\n",
       "      <td>...</td>\n",
       "      <td>DSL</td>\n",
       "      <td>Yes</td>\n",
       "      <td>Yes</td>\n",
       "      <td>Yes</td>\n",
       "      <td>Yes</td>\n",
       "      <td>Yes</td>\n",
       "      <td>Yes</td>\n",
       "      <td>Yes</td>\n",
       "      <td>2013-10-01</td>\n",
       "      <td>0</td>\n",
       "    </tr>\n",
       "    <tr>\n",
       "      <th>4610</th>\n",
       "      <td>2889-FPWRM</td>\n",
       "      <td>2013-10-01</td>\n",
       "      <td>2019-10-01 00:00:00</td>\n",
       "      <td>One year</td>\n",
       "      <td>Yes</td>\n",
       "      <td>Bank transfer (automatic)</td>\n",
       "      <td>117.80</td>\n",
       "      <td>8684.8</td>\n",
       "      <td>Male</td>\n",
       "      <td>0</td>\n",
       "      <td>...</td>\n",
       "      <td>Fiber optic</td>\n",
       "      <td>Yes</td>\n",
       "      <td>Yes</td>\n",
       "      <td>Yes</td>\n",
       "      <td>Yes</td>\n",
       "      <td>Yes</td>\n",
       "      <td>Yes</td>\n",
       "      <td>Yes</td>\n",
       "      <td>2013-10-01</td>\n",
       "      <td>0</td>\n",
       "    </tr>\n",
       "    <tr>\n",
       "      <th>3439</th>\n",
       "      <td>0917-EZOLA</td>\n",
       "      <td>2013-10-01</td>\n",
       "      <td>2019-10-01 00:00:00</td>\n",
       "      <td>Two year</td>\n",
       "      <td>Yes</td>\n",
       "      <td>Bank transfer (automatic)</td>\n",
       "      <td>104.15</td>\n",
       "      <td>7689.95</td>\n",
       "      <td>Male</td>\n",
       "      <td>1</td>\n",
       "      <td>...</td>\n",
       "      <td>Fiber optic</td>\n",
       "      <td>No</td>\n",
       "      <td>Yes</td>\n",
       "      <td>Yes</td>\n",
       "      <td>No</td>\n",
       "      <td>Yes</td>\n",
       "      <td>Yes</td>\n",
       "      <td>Yes</td>\n",
       "      <td>2013-10-01</td>\n",
       "      <td>0</td>\n",
       "    </tr>\n",
       "    <tr>\n",
       "      <th>975</th>\n",
       "      <td>2834-JRTUA</td>\n",
       "      <td>2013-11-01</td>\n",
       "      <td>2019-10-01 00:00:00</td>\n",
       "      <td>Two year</td>\n",
       "      <td>Yes</td>\n",
       "      <td>Electronic check</td>\n",
       "      <td>108.05</td>\n",
       "      <td>7532.15</td>\n",
       "      <td>Male</td>\n",
       "      <td>0</td>\n",
       "      <td>...</td>\n",
       "      <td>Fiber optic</td>\n",
       "      <td>Yes</td>\n",
       "      <td>No</td>\n",
       "      <td>Yes</td>\n",
       "      <td>Yes</td>\n",
       "      <td>Yes</td>\n",
       "      <td>Yes</td>\n",
       "      <td>Yes</td>\n",
       "      <td>2013-10-01</td>\n",
       "      <td>31</td>\n",
       "    </tr>\n",
       "    <tr>\n",
       "      <th>3040</th>\n",
       "      <td>7317-GGVPB</td>\n",
       "      <td>2013-11-01</td>\n",
       "      <td>2019-10-01 00:00:00</td>\n",
       "      <td>Two year</td>\n",
       "      <td>Yes</td>\n",
       "      <td>Credit card (automatic)</td>\n",
       "      <td>108.60</td>\n",
       "      <td>7690.9</td>\n",
       "      <td>Male</td>\n",
       "      <td>0</td>\n",
       "      <td>...</td>\n",
       "      <td>Fiber optic</td>\n",
       "      <td>No</td>\n",
       "      <td>Yes</td>\n",
       "      <td>Yes</td>\n",
       "      <td>Yes</td>\n",
       "      <td>Yes</td>\n",
       "      <td>Yes</td>\n",
       "      <td>Yes</td>\n",
       "      <td>2013-10-01</td>\n",
       "      <td>31</td>\n",
       "    </tr>\n",
       "  </tbody>\n",
       "</table>\n",
       "<p>5 rows × 22 columns</p>\n",
       "</div>"
      ],
      "text/plain": [
       "     customer_id begin_date             end_date      type paperless_billing  \\\n",
       "4513  8580-QVLOC 2013-10-01  2019-10-01 00:00:00  Two year                No   \n",
       "4610  2889-FPWRM 2013-10-01  2019-10-01 00:00:00  One year               Yes   \n",
       "3439  0917-EZOLA 2013-10-01  2019-10-01 00:00:00  Two year               Yes   \n",
       "975   2834-JRTUA 2013-11-01  2019-10-01 00:00:00  Two year               Yes   \n",
       "3040  7317-GGVPB 2013-11-01  2019-10-01 00:00:00  Two year               Yes   \n",
       "\n",
       "                 payment_method  monthly_charges total_charges  gender  \\\n",
       "4513    Credit card (automatic)            92.45       6440.25  Female   \n",
       "4610  Bank transfer (automatic)           117.80        8684.8    Male   \n",
       "3439  Bank transfer (automatic)           104.15       7689.95    Male   \n",
       "975            Electronic check           108.05       7532.15    Male   \n",
       "3040    Credit card (automatic)           108.60        7690.9    Male   \n",
       "\n",
       "      senior_citizen  ... internet_service online_security online_backup  \\\n",
       "4513               1  ...              DSL             Yes           Yes   \n",
       "4610               0  ...      Fiber optic             Yes           Yes   \n",
       "3439               1  ...      Fiber optic              No           Yes   \n",
       "975                0  ...      Fiber optic             Yes            No   \n",
       "3040               0  ...      Fiber optic              No           Yes   \n",
       "\n",
       "     device_protection teach_support streaming_tv streaming_movies  \\\n",
       "4513               Yes           Yes          Yes              Yes   \n",
       "4610               Yes           Yes          Yes              Yes   \n",
       "3439               Yes            No          Yes              Yes   \n",
       "975                Yes           Yes          Yes              Yes   \n",
       "3040               Yes           Yes          Yes              Yes   \n",
       "\n",
       "     multiple_lines  old_date_ begin_date_  \n",
       "4513            Yes 2013-10-01           0  \n",
       "4610            Yes 2013-10-01           0  \n",
       "3439            Yes 2013-10-01           0  \n",
       "975             Yes 2013-10-01          31  \n",
       "3040            Yes 2013-10-01          31  \n",
       "\n",
       "[5 rows x 22 columns]"
      ]
     },
     "execution_count": 133,
     "metadata": {},
     "output_type": "execute_result"
    }
   ],
   "source": [
    "# ¿quienes fueron los primeros 5 clientes en contratar el servicio?\n",
    "interconnect_data.sort_values('begin_date_').head()"
   ]
  },
  {
   "cell_type": "code",
   "execution_count": 134,
   "metadata": {},
   "outputs": [],
   "source": [
    "# Elimino la columna 'old_date_', pues ya no la necesito\n",
    "interconnect_data.drop('old_date_', axis=1, inplace=True)\n"
   ]
  },
  {
   "cell_type": "markdown",
   "metadata": {},
   "source": [
    "#### Conclusion\n",
    "Bien, la columna 'begin_date_' contiene las fechas de inscripción codificadas en número de días, listas para los modelos. Tomando en cuenta la fecha de captura de estos datos, Contiene los días transcurridos desde el primer cliente inscrito hasta el cliente inscrito en cada fila.\n",
    "\n",
    "La última fecha es el 1 de Febrero del 2020, y la mas antigua es el 1 de Octubre del 2013."
   ]
  },
  {
   "cell_type": "markdown",
   "metadata": {},
   "source": [
    "### end_date"
   ]
  },
  {
   "cell_type": "code",
   "execution_count": 135,
   "metadata": {},
   "outputs": [
    {
     "data": {
      "text/plain": [
       "array(['No', '2019-12-01 00:00:00', '2019-11-01 00:00:00',\n",
       "       '2019-10-01 00:00:00', '2020-01-01 00:00:00'], dtype=object)"
      ]
     },
     "execution_count": 135,
     "metadata": {},
     "output_type": "execute_result"
    }
   ],
   "source": [
    "interconnect_data['end_date'].unique()"
   ]
  },
  {
   "cell_type": "code",
   "execution_count": 136,
   "metadata": {},
   "outputs": [
    {
     "data": {
      "text/plain": [
       "end_date\n",
       "2019-10-01 00:00:00     458\n",
       "2019-11-01 00:00:00     485\n",
       "2019-12-01 00:00:00     466\n",
       "2020-01-01 00:00:00     460\n",
       "No                     5174\n",
       "Name: customer_id, dtype: int64"
      ]
     },
     "execution_count": 136,
     "metadata": {},
     "output_type": "execute_result"
    }
   ],
   "source": [
    "interconnect_data.groupby('end_date')['customer_id'].count()"
   ]
  },
  {
   "cell_type": "markdown",
   "metadata": {},
   "source": [
    "### Conclusion\n",
    "Es difícil adivinar el formato de las fechas de salida de los clientes, pues podría ser:\n",
    "- año, mes, día\n",
    "o bien:\n",
    "- año, dia, mes\n",
    "Sin embargo, seria muy extraño que tantos clientes se hayan ido durante tres días seguidos: 10, 11 y 12 de Enero del 2019. Entonces, voy a suponer que el formato de fecha es el primero: año, mes, día. Así, las fechas 1 de Octubre, 1 de Noviembre, 1 de Diciembre y 1 de Enero parecen mas normales.\n",
    "- otro dato: en esta columna 'end_date' la última fecha es el 1 de Enero del 2020. Mientras que en la columna 'begin_date' **la última fecha es el 1 de Febrero del 2020. Tomaré esta última como la última fecha estimada de captura todos estos datos.**\n",
    "\n",
    "De cualquier manera, tendré que hacer algunos cambios de formato:\n",
    "- 'end_date' es la columna objetivo, solo importa saber si el cliente se ha ido o no. No hay datos ausentes, si hubiera podría pensar que los datos ausentes son de clientes que siguen en la empresa o que no se han ido. Conclusión: **convertiré esta columna a datos booleanos. Si el dato es la cadena es 'No', el dato será negativo (0), si es cualquier otro valor, el dato será positivo (1).**"
   ]
  },
  {
   "cell_type": "markdown",
   "metadata": {},
   "source": [
    "## Cadenas"
   ]
  },
  {
   "cell_type": "code",
   "execution_count": 137,
   "metadata": {},
   "outputs": [
    {
     "data": {
      "text/plain": [
       "array(['Month-to-month', 'One year', 'Two year'], dtype=object)"
      ]
     },
     "execution_count": 137,
     "metadata": {},
     "output_type": "execute_result"
    }
   ],
   "source": [
    "interconnect_data['type'].unique()"
   ]
  },
  {
   "cell_type": "code",
   "execution_count": 138,
   "metadata": {},
   "outputs": [],
   "source": [
    "interconnect_data['type'].replace('Month-to-month','Month to month',inplace=True)"
   ]
  },
  {
   "cell_type": "code",
   "execution_count": 139,
   "metadata": {},
   "outputs": [
    {
     "data": {
      "text/plain": [
       "array(['Month to month', 'One year', 'Two year'], dtype=object)"
      ]
     },
     "execution_count": 139,
     "metadata": {},
     "output_type": "execute_result"
    }
   ],
   "source": [
    "interconnect_data['type'].unique()"
   ]
  },
  {
   "cell_type": "code",
   "execution_count": 140,
   "metadata": {},
   "outputs": [
    {
     "data": {
      "text/plain": [
       "array(['Electronic check', 'Mailed check', 'Bank transfer (automatic)',\n",
       "       'Credit card (automatic)'], dtype=object)"
      ]
     },
     "execution_count": 140,
     "metadata": {},
     "output_type": "execute_result"
    }
   ],
   "source": [
    "interconnect_data['payment_method'].unique()"
   ]
  },
  {
   "cell_type": "code",
   "execution_count": 141,
   "metadata": {},
   "outputs": [
    {
     "data": {
      "text/plain": [
       "array(['Female', 'Male'], dtype=object)"
      ]
     },
     "execution_count": 141,
     "metadata": {},
     "output_type": "execute_result"
    }
   ],
   "source": [
    "interconnect_data['gender'].unique()"
   ]
  },
  {
   "cell_type": "code",
   "execution_count": 142,
   "metadata": {},
   "outputs": [
    {
     "data": {
      "text/plain": [
       "array(['DSL', 'Fiber optic', nan], dtype=object)"
      ]
     },
     "execution_count": 142,
     "metadata": {},
     "output_type": "execute_result"
    }
   ],
   "source": [
    "interconnect_data['internet_service'].unique()"
   ]
  },
  {
   "cell_type": "code",
   "execution_count": 143,
   "metadata": {},
   "outputs": [
    {
     "data": {
      "text/html": [
       "<div>\n",
       "<style scoped>\n",
       "    .dataframe tbody tr th:only-of-type {\n",
       "        vertical-align: middle;\n",
       "    }\n",
       "\n",
       "    .dataframe tbody tr th {\n",
       "        vertical-align: top;\n",
       "    }\n",
       "\n",
       "    .dataframe thead th {\n",
       "        text-align: right;\n",
       "    }\n",
       "</style>\n",
       "<table border=\"1\" class=\"dataframe\">\n",
       "  <thead>\n",
       "    <tr style=\"text-align: right;\">\n",
       "      <th></th>\n",
       "      <th>customer_id</th>\n",
       "      <th>begin_date</th>\n",
       "      <th>end_date</th>\n",
       "      <th>type</th>\n",
       "      <th>paperless_billing</th>\n",
       "      <th>payment_method</th>\n",
       "      <th>monthly_charges</th>\n",
       "      <th>total_charges</th>\n",
       "      <th>gender</th>\n",
       "      <th>senior_citizen</th>\n",
       "      <th>...</th>\n",
       "      <th>dependents</th>\n",
       "      <th>internet_service</th>\n",
       "      <th>online_security</th>\n",
       "      <th>online_backup</th>\n",
       "      <th>device_protection</th>\n",
       "      <th>teach_support</th>\n",
       "      <th>streaming_tv</th>\n",
       "      <th>streaming_movies</th>\n",
       "      <th>multiple_lines</th>\n",
       "      <th>begin_date_</th>\n",
       "    </tr>\n",
       "  </thead>\n",
       "  <tbody>\n",
       "  </tbody>\n",
       "</table>\n",
       "<p>0 rows × 21 columns</p>\n",
       "</div>"
      ],
      "text/plain": [
       "Empty DataFrame\n",
       "Columns: [customer_id, begin_date, end_date, type, paperless_billing, payment_method, monthly_charges, total_charges, gender, senior_citizen, partner, dependents, internet_service, online_security, online_backup, device_protection, teach_support, streaming_tv, streaming_movies, multiple_lines, begin_date_]\n",
       "Index: []\n",
       "\n",
       "[0 rows x 21 columns]"
      ]
     },
     "execution_count": 143,
     "metadata": {},
     "output_type": "execute_result"
    }
   ],
   "source": [
    "interconnect_data[interconnect_data['internet_service']=='nan']"
   ]
  },
  {
   "cell_type": "code",
   "execution_count": 144,
   "metadata": {},
   "outputs": [
    {
     "data": {
      "text/plain": [
       "1526"
      ]
     },
     "execution_count": 144,
     "metadata": {},
     "output_type": "execute_result"
    }
   ],
   "source": [
    "len(interconnect_data[interconnect_data['internet_service'].isna()])"
   ]
  },
  {
   "cell_type": "markdown",
   "metadata": {},
   "source": [
    "Contando datos ausentes, el resultado es de 1526 clientes con datos ausentes en la columna 'internet_service', es decir, que no tienen onternet. Esto coincide con el dato de secciones anteriores:\n",
    "- 1526 clientes no tienen internet\n",
    "- 682 clientes no tienen teléfono."
   ]
  },
  {
   "cell_type": "markdown",
   "metadata": {},
   "source": [
    "### Conclusion\n",
    "Estas son las columnas que deben contener cadenas de texto. Todas contienen pocos datos completamente diferentes unos de otros, ninguno se parece por variaciones en la ortografía. Y aunque hay datos ausentes en la columna 'internet_service', la razón es que se trata de los clientes que no tienen internet.\n",
    "\n",
    "No habrá ningun problema para codificar los datos de texto. \n",
    "\n",
    "Probablemente mas adelante, antes de entrenar modelos, ordenaré numéricamente los datos d ela columna 'type' ('Month to month', 'One year', 'Two year'). Esto para una mejor calidad de las predicciones de los modelos."
   ]
  },
  {
   "cell_type": "markdown",
   "metadata": {},
   "source": [
    "## Booleanos\n",
    "columna objetivo, senior citizn y otros binarios"
   ]
  },
  {
   "cell_type": "code",
   "execution_count": 145,
   "metadata": {},
   "outputs": [
    {
     "data": {
      "text/plain": [
       "Index(['customer_id', 'begin_date', 'end_date', 'type', 'paperless_billing',\n",
       "       'payment_method', 'monthly_charges', 'total_charges', 'gender',\n",
       "       'senior_citizen', 'partner', 'dependents', 'internet_service',\n",
       "       'online_security', 'online_backup', 'device_protection',\n",
       "       'teach_support', 'streaming_tv', 'streaming_movies', 'multiple_lines',\n",
       "       'begin_date_'],\n",
       "      dtype='object')"
      ]
     },
     "execution_count": 145,
     "metadata": {},
     "output_type": "execute_result"
    }
   ],
   "source": [
    "# Recordaré las columnas para saber cuales son los datos booleanos que falta procesar\n",
    "interconnect_data.columns"
   ]
  },
  {
   "cell_type": "markdown",
   "metadata": {},
   "source": [
    "### 'end_date' y 'senior_citizen'\n",
    "En realidad, estas dos columnas contienen datos booleanos: 'end_date' contiene cadenas y 'senior_citizen' números enteros. Ambos significan verdadero o falso.\n",
    "\n",
    "Hasta ahora no me interesa conocer la fecha de cancelación de los clientes, solo necesito distinguir los clientes que se fugan de los que se quedan. Por otro lado, los números enteros en 'senior_citizen' tambien significan verdadero o falso, con el mismo significado.\n",
    "\n",
    "Procesaré estas dos columnas por separado, pues todas las demas columnas con datos booleanos contienen únicamente las cadenas 'Yes' y 'No'. Estas últimas las abordaré en la siguiente seccion."
   ]
  },
  {
   "cell_type": "code",
   "execution_count": 146,
   "metadata": {},
   "outputs": [
    {
     "data": {
      "text/plain": [
       "array(['No', '2019-12-01 00:00:00', '2019-11-01 00:00:00',\n",
       "       '2019-10-01 00:00:00', '2020-01-01 00:00:00'], dtype=object)"
      ]
     },
     "execution_count": 146,
     "metadata": {},
     "output_type": "execute_result"
    }
   ],
   "source": [
    "interconnect_data['end_date'].unique()"
   ]
  },
  {
   "cell_type": "code",
   "execution_count": 147,
   "metadata": {},
   "outputs": [],
   "source": [
    "def Not(data):\n",
    "    if data=='No':\n",
    "        bool=False\n",
    "    else:\n",
    "        bool=True\n",
    "    return bool"
   ]
  },
  {
   "cell_type": "code",
   "execution_count": 148,
   "metadata": {},
   "outputs": [
    {
     "data": {
      "text/plain": [
       "array([False,  True])"
      ]
     },
     "execution_count": 148,
     "metadata": {},
     "output_type": "execute_result"
    }
   ],
   "source": [
    "interconnect_data['end_date_']=interconnect_data['end_date'].apply(Not)\n",
    "interconnect_data['end_date_'].unique()"
   ]
  },
  {
   "cell_type": "code",
   "execution_count": 149,
   "metadata": {},
   "outputs": [
    {
     "data": {
      "text/plain": [
       "array([0, 1], dtype=int64)"
      ]
     },
     "execution_count": 149,
     "metadata": {},
     "output_type": "execute_result"
    }
   ],
   "source": [
    "interconnect_data['senior_citizen'].unique()"
   ]
  },
  {
   "cell_type": "code",
   "execution_count": 150,
   "metadata": {},
   "outputs": [
    {
     "data": {
      "text/plain": [
       "array([False,  True])"
      ]
     },
     "execution_count": 150,
     "metadata": {},
     "output_type": "execute_result"
    }
   ],
   "source": [
    "interconnect_data['senior_citizen'].replace({0:False,1:True},inplace=True)\n",
    "interconnect_data['senior_citizen'].unique()"
   ]
  },
  {
   "cell_type": "code",
   "execution_count": 151,
   "metadata": {},
   "outputs": [
    {
     "data": {
      "text/plain": [
       "Index(['customer_id', 'multiple_lines'], dtype='object')"
      ]
     },
     "execution_count": 151,
     "metadata": {},
     "output_type": "execute_result"
    }
   ],
   "source": [
    "phone.columns"
   ]
  },
  {
   "cell_type": "markdown",
   "metadata": {},
   "source": [
    "### 'Yes', 'No'\n",
    "Debido a que son muchas las celdas que contienen como únicos datos las cadenas 'Yes' y 'No', usaré una función para convertir estos datos en True y False.\n",
    "Hago aqui unas pqueñas, pero importantes, aclaraciones:\n",
    "\n",
    "- Los datos ausentes 'Nan' son de personas que no tienen alguno d elos servicios: internet o teléfono. Permanecerá como está: dato 'Nan'.\n",
    "\n",
    "- 'Yes' y 'No', por el contrario, son datos de personas que tienen o no alguna variación del internet ('online_security', 'online_backup','device_protection', 'teach_support', 'streaming_tv','streaming_movies'). Tambien significa que el cliente tiene teléfono pero no tiene o no el servicio 'multiple_lines'. Seran convertidos en datos booleanos 'True' 'False'.\n",
    "\n",
    "- En pocas palabras: los datos 'Yes', 'No' y 'Nan' son completamente diferentes. Por lo tanto, 'Yes' será convertido en 'True', 'No\" será 'False' y 'Nan' no será modificado."
   ]
  },
  {
   "cell_type": "code",
   "execution_count": 152,
   "metadata": {},
   "outputs": [],
   "source": [
    "# Dado que hay muchas columnas con los mismos datos 'Yes' y 'No, usaré una funcion:\n",
    "def Yes_No (data):\n",
    "    if data=='Yes':\n",
    "        return True\n",
    "    elif data=='No':\n",
    "        return False"
   ]
  },
  {
   "cell_type": "code",
   "execution_count": 153,
   "metadata": {},
   "outputs": [
    {
     "data": {
      "text/plain": [
       "array(['Yes', 'No'], dtype=object)"
      ]
     },
     "execution_count": 153,
     "metadata": {},
     "output_type": "execute_result"
    }
   ],
   "source": [
    "interconnect_data['paperless_billing'].unique()"
   ]
  },
  {
   "cell_type": "code",
   "execution_count": 154,
   "metadata": {},
   "outputs": [
    {
     "data": {
      "text/plain": [
       "array([ True, False])"
      ]
     },
     "execution_count": 154,
     "metadata": {},
     "output_type": "execute_result"
    }
   ],
   "source": [
    "interconnect_data['paperless_billing']=interconnect_data['paperless_billing'].apply(Yes_No)\n",
    "interconnect_data['paperless_billing'].unique()"
   ]
  },
  {
   "cell_type": "code",
   "execution_count": 155,
   "metadata": {},
   "outputs": [
    {
     "data": {
      "text/plain": [
       "array(['Yes', 'No'], dtype=object)"
      ]
     },
     "execution_count": 155,
     "metadata": {},
     "output_type": "execute_result"
    }
   ],
   "source": [
    "interconnect_data['partner'].unique()"
   ]
  },
  {
   "cell_type": "code",
   "execution_count": 156,
   "metadata": {},
   "outputs": [
    {
     "data": {
      "text/plain": [
       "array([ True, False])"
      ]
     },
     "execution_count": 156,
     "metadata": {},
     "output_type": "execute_result"
    }
   ],
   "source": [
    "interconnect_data['partner']=interconnect_data['partner'].apply(Yes_No)\n",
    "interconnect_data['partner'].unique()"
   ]
  },
  {
   "cell_type": "code",
   "execution_count": 157,
   "metadata": {},
   "outputs": [
    {
     "data": {
      "text/plain": [
       "array(['No', 'Yes'], dtype=object)"
      ]
     },
     "execution_count": 157,
     "metadata": {},
     "output_type": "execute_result"
    }
   ],
   "source": [
    "interconnect_data['dependents'].unique()"
   ]
  },
  {
   "cell_type": "code",
   "execution_count": 158,
   "metadata": {},
   "outputs": [
    {
     "data": {
      "text/plain": [
       "array([False,  True])"
      ]
     },
     "execution_count": 158,
     "metadata": {},
     "output_type": "execute_result"
    }
   ],
   "source": [
    "interconnect_data['dependents']=interconnect_data['dependents'].apply(Yes_No)\n",
    "interconnect_data['dependents'].unique()"
   ]
  },
  {
   "cell_type": "code",
   "execution_count": 159,
   "metadata": {},
   "outputs": [
    {
     "data": {
      "text/plain": [
       "array(['No', 'Yes', nan], dtype=object)"
      ]
     },
     "execution_count": 159,
     "metadata": {},
     "output_type": "execute_result"
    }
   ],
   "source": [
    "interconnect_data['online_security'].unique()"
   ]
  },
  {
   "cell_type": "code",
   "execution_count": 160,
   "metadata": {},
   "outputs": [
    {
     "data": {
      "text/plain": [
       "array([False, True, None], dtype=object)"
      ]
     },
     "execution_count": 160,
     "metadata": {},
     "output_type": "execute_result"
    }
   ],
   "source": [
    "interconnect_data['online_security']=interconnect_data['online_security'].apply(Yes_No)\n",
    "interconnect_data['online_security'].unique()"
   ]
  },
  {
   "cell_type": "code",
   "execution_count": 161,
   "metadata": {},
   "outputs": [
    {
     "data": {
      "text/plain": [
       "array(['Yes', 'No', nan], dtype=object)"
      ]
     },
     "execution_count": 161,
     "metadata": {},
     "output_type": "execute_result"
    }
   ],
   "source": [
    "interconnect_data['online_backup'].unique()"
   ]
  },
  {
   "cell_type": "code",
   "execution_count": 162,
   "metadata": {},
   "outputs": [
    {
     "data": {
      "text/plain": [
       "array([True, False, None], dtype=object)"
      ]
     },
     "execution_count": 162,
     "metadata": {},
     "output_type": "execute_result"
    }
   ],
   "source": [
    "interconnect_data['online_backup']=interconnect_data['online_backup'].apply(Yes_No)\n",
    "interconnect_data['online_backup'].unique()"
   ]
  },
  {
   "cell_type": "code",
   "execution_count": 163,
   "metadata": {},
   "outputs": [
    {
     "data": {
      "text/plain": [
       "array(['No', 'Yes', nan], dtype=object)"
      ]
     },
     "execution_count": 163,
     "metadata": {},
     "output_type": "execute_result"
    }
   ],
   "source": [
    "interconnect_data['device_protection'].unique()"
   ]
  },
  {
   "cell_type": "code",
   "execution_count": 164,
   "metadata": {},
   "outputs": [
    {
     "data": {
      "text/plain": [
       "array([False, True, None], dtype=object)"
      ]
     },
     "execution_count": 164,
     "metadata": {},
     "output_type": "execute_result"
    }
   ],
   "source": [
    "interconnect_data['device_protection']=interconnect_data['device_protection'].apply(Yes_No)\n",
    "interconnect_data['device_protection'].unique()"
   ]
  },
  {
   "cell_type": "code",
   "execution_count": 165,
   "metadata": {},
   "outputs": [
    {
     "data": {
      "text/plain": [
       "array(['No', 'Yes', nan], dtype=object)"
      ]
     },
     "execution_count": 165,
     "metadata": {},
     "output_type": "execute_result"
    }
   ],
   "source": [
    "interconnect_data['teach_support'].unique()"
   ]
  },
  {
   "cell_type": "code",
   "execution_count": 166,
   "metadata": {},
   "outputs": [
    {
     "data": {
      "text/plain": [
       "array([False, True, None], dtype=object)"
      ]
     },
     "execution_count": 166,
     "metadata": {},
     "output_type": "execute_result"
    }
   ],
   "source": [
    "interconnect_data['teach_support']=interconnect_data['teach_support'].apply(Yes_No)\n",
    "interconnect_data['teach_support'].unique()"
   ]
  },
  {
   "cell_type": "code",
   "execution_count": 167,
   "metadata": {},
   "outputs": [
    {
     "data": {
      "text/plain": [
       "array(['No', 'Yes', nan], dtype=object)"
      ]
     },
     "execution_count": 167,
     "metadata": {},
     "output_type": "execute_result"
    }
   ],
   "source": [
    "interconnect_data['streaming_tv'].unique()"
   ]
  },
  {
   "cell_type": "code",
   "execution_count": 168,
   "metadata": {},
   "outputs": [
    {
     "data": {
      "text/plain": [
       "array([False, True, None], dtype=object)"
      ]
     },
     "execution_count": 168,
     "metadata": {},
     "output_type": "execute_result"
    }
   ],
   "source": [
    "interconnect_data['streaming_tv']=interconnect_data['streaming_tv'].apply(Yes_No)\n",
    "interconnect_data['streaming_tv'].unique()"
   ]
  },
  {
   "cell_type": "code",
   "execution_count": 169,
   "metadata": {},
   "outputs": [
    {
     "data": {
      "text/plain": [
       "array(['No', 'Yes', nan], dtype=object)"
      ]
     },
     "execution_count": 169,
     "metadata": {},
     "output_type": "execute_result"
    }
   ],
   "source": [
    "interconnect_data['streaming_movies'].unique()"
   ]
  },
  {
   "cell_type": "code",
   "execution_count": 170,
   "metadata": {},
   "outputs": [
    {
     "data": {
      "text/plain": [
       "array([False, True, None], dtype=object)"
      ]
     },
     "execution_count": 170,
     "metadata": {},
     "output_type": "execute_result"
    }
   ],
   "source": [
    "interconnect_data['streaming_movies']=interconnect_data['streaming_movies'].apply(Yes_No)\n",
    "interconnect_data['streaming_movies'].unique()"
   ]
  },
  {
   "cell_type": "code",
   "execution_count": 171,
   "metadata": {},
   "outputs": [
    {
     "data": {
      "text/plain": [
       "array([nan, 'No', 'Yes'], dtype=object)"
      ]
     },
     "execution_count": 171,
     "metadata": {},
     "output_type": "execute_result"
    }
   ],
   "source": [
    "interconnect_data['multiple_lines'].unique()"
   ]
  },
  {
   "cell_type": "code",
   "execution_count": 172,
   "metadata": {},
   "outputs": [
    {
     "data": {
      "text/plain": [
       "array([None, False, True], dtype=object)"
      ]
     },
     "execution_count": 172,
     "metadata": {},
     "output_type": "execute_result"
    }
   ],
   "source": [
    "interconnect_data['multiple_lines']=interconnect_data['multiple_lines'].apply(Yes_No)\n",
    "interconnect_data['multiple_lines'].unique()"
   ]
  },
  {
   "cell_type": "markdown",
   "metadata": {},
   "source": [
    "## Flotantes\n",
    "El tipo esperado de datos en la columna 'total_charges' es flotante, sin embargo son cadenas de texto."
   ]
  },
  {
   "cell_type": "code",
   "execution_count": 173,
   "metadata": {},
   "outputs": [
    {
     "data": {
      "text/plain": [
       "6531"
      ]
     },
     "execution_count": 173,
     "metadata": {},
     "output_type": "execute_result"
    }
   ],
   "source": [
    "len(interconnect_data.total_charges.unique())"
   ]
  },
  {
   "cell_type": "markdown",
   "metadata": {},
   "source": [
    "Son demasiados datos diferentes para manejarlos a mano. Necesitaré un cambio de formato automático."
   ]
  },
  {
   "cell_type": "code",
   "execution_count": 174,
   "metadata": {},
   "outputs": [],
   "source": [
    "interconnect_data['total_charges']=interconnect_data['total_charges'].str.strip()\n",
    "\n",
    "#interconnect_data['total_charges']=interconnect_data['total_charges'].str.isdigit()\n",
    "\n",
    "#interconnect_data['total_charges']=interconnect_data['total_charges'].astype(float)"
   ]
  },
  {
   "cell_type": "code",
   "execution_count": 175,
   "metadata": {},
   "outputs": [
    {
     "data": {
      "text/plain": [
       "11"
      ]
     },
     "execution_count": 175,
     "metadata": {},
     "output_type": "execute_result"
    }
   ],
   "source": [
    "len(interconnect_data[interconnect_data['total_charges']==''])"
   ]
  },
  {
   "cell_type": "markdown",
   "metadata": {},
   "source": [
    "11 de loc clientes tienen una cadena vacía en su pago acumulado. Veamos porqué, examinaré los datos."
   ]
  },
  {
   "cell_type": "code",
   "execution_count": 176,
   "metadata": {},
   "outputs": [
    {
     "data": {
      "text/html": [
       "<div>\n",
       "<style scoped>\n",
       "    .dataframe tbody tr th:only-of-type {\n",
       "        vertical-align: middle;\n",
       "    }\n",
       "\n",
       "    .dataframe tbody tr th {\n",
       "        vertical-align: top;\n",
       "    }\n",
       "\n",
       "    .dataframe thead th {\n",
       "        text-align: right;\n",
       "    }\n",
       "</style>\n",
       "<table border=\"1\" class=\"dataframe\">\n",
       "  <thead>\n",
       "    <tr style=\"text-align: right;\">\n",
       "      <th></th>\n",
       "      <th>customer_id</th>\n",
       "      <th>begin_date</th>\n",
       "      <th>end_date</th>\n",
       "      <th>type</th>\n",
       "      <th>paperless_billing</th>\n",
       "      <th>payment_method</th>\n",
       "      <th>monthly_charges</th>\n",
       "      <th>total_charges</th>\n",
       "      <th>gender</th>\n",
       "      <th>senior_citizen</th>\n",
       "      <th>...</th>\n",
       "      <th>internet_service</th>\n",
       "      <th>online_security</th>\n",
       "      <th>online_backup</th>\n",
       "      <th>device_protection</th>\n",
       "      <th>teach_support</th>\n",
       "      <th>streaming_tv</th>\n",
       "      <th>streaming_movies</th>\n",
       "      <th>multiple_lines</th>\n",
       "      <th>begin_date_</th>\n",
       "      <th>end_date_</th>\n",
       "    </tr>\n",
       "  </thead>\n",
       "  <tbody>\n",
       "    <tr>\n",
       "      <th>488</th>\n",
       "      <td>4472-LVYGI</td>\n",
       "      <td>2020-02-01</td>\n",
       "      <td>No</td>\n",
       "      <td>Two year</td>\n",
       "      <td>True</td>\n",
       "      <td>Bank transfer (automatic)</td>\n",
       "      <td>52.55</td>\n",
       "      <td></td>\n",
       "      <td>Female</td>\n",
       "      <td>False</td>\n",
       "      <td>...</td>\n",
       "      <td>DSL</td>\n",
       "      <td>True</td>\n",
       "      <td>False</td>\n",
       "      <td>True</td>\n",
       "      <td>True</td>\n",
       "      <td>True</td>\n",
       "      <td>False</td>\n",
       "      <td>None</td>\n",
       "      <td>2314</td>\n",
       "      <td>False</td>\n",
       "    </tr>\n",
       "    <tr>\n",
       "      <th>753</th>\n",
       "      <td>3115-CZMZD</td>\n",
       "      <td>2020-02-01</td>\n",
       "      <td>No</td>\n",
       "      <td>Two year</td>\n",
       "      <td>False</td>\n",
       "      <td>Mailed check</td>\n",
       "      <td>20.25</td>\n",
       "      <td></td>\n",
       "      <td>Male</td>\n",
       "      <td>False</td>\n",
       "      <td>...</td>\n",
       "      <td>NaN</td>\n",
       "      <td>None</td>\n",
       "      <td>None</td>\n",
       "      <td>None</td>\n",
       "      <td>None</td>\n",
       "      <td>None</td>\n",
       "      <td>None</td>\n",
       "      <td>False</td>\n",
       "      <td>2314</td>\n",
       "      <td>False</td>\n",
       "    </tr>\n",
       "    <tr>\n",
       "      <th>936</th>\n",
       "      <td>5709-LVOEQ</td>\n",
       "      <td>2020-02-01</td>\n",
       "      <td>No</td>\n",
       "      <td>Two year</td>\n",
       "      <td>False</td>\n",
       "      <td>Mailed check</td>\n",
       "      <td>80.85</td>\n",
       "      <td></td>\n",
       "      <td>Female</td>\n",
       "      <td>False</td>\n",
       "      <td>...</td>\n",
       "      <td>DSL</td>\n",
       "      <td>True</td>\n",
       "      <td>True</td>\n",
       "      <td>True</td>\n",
       "      <td>False</td>\n",
       "      <td>True</td>\n",
       "      <td>True</td>\n",
       "      <td>False</td>\n",
       "      <td>2314</td>\n",
       "      <td>False</td>\n",
       "    </tr>\n",
       "    <tr>\n",
       "      <th>1082</th>\n",
       "      <td>4367-NUYAO</td>\n",
       "      <td>2020-02-01</td>\n",
       "      <td>No</td>\n",
       "      <td>Two year</td>\n",
       "      <td>False</td>\n",
       "      <td>Mailed check</td>\n",
       "      <td>25.75</td>\n",
       "      <td></td>\n",
       "      <td>Male</td>\n",
       "      <td>False</td>\n",
       "      <td>...</td>\n",
       "      <td>NaN</td>\n",
       "      <td>None</td>\n",
       "      <td>None</td>\n",
       "      <td>None</td>\n",
       "      <td>None</td>\n",
       "      <td>None</td>\n",
       "      <td>None</td>\n",
       "      <td>True</td>\n",
       "      <td>2314</td>\n",
       "      <td>False</td>\n",
       "    </tr>\n",
       "    <tr>\n",
       "      <th>1340</th>\n",
       "      <td>1371-DWPAZ</td>\n",
       "      <td>2020-02-01</td>\n",
       "      <td>No</td>\n",
       "      <td>Two year</td>\n",
       "      <td>False</td>\n",
       "      <td>Credit card (automatic)</td>\n",
       "      <td>56.05</td>\n",
       "      <td></td>\n",
       "      <td>Female</td>\n",
       "      <td>False</td>\n",
       "      <td>...</td>\n",
       "      <td>DSL</td>\n",
       "      <td>True</td>\n",
       "      <td>True</td>\n",
       "      <td>True</td>\n",
       "      <td>True</td>\n",
       "      <td>True</td>\n",
       "      <td>False</td>\n",
       "      <td>None</td>\n",
       "      <td>2314</td>\n",
       "      <td>False</td>\n",
       "    </tr>\n",
       "    <tr>\n",
       "      <th>3331</th>\n",
       "      <td>7644-OMVMY</td>\n",
       "      <td>2020-02-01</td>\n",
       "      <td>No</td>\n",
       "      <td>Two year</td>\n",
       "      <td>False</td>\n",
       "      <td>Mailed check</td>\n",
       "      <td>19.85</td>\n",
       "      <td></td>\n",
       "      <td>Male</td>\n",
       "      <td>False</td>\n",
       "      <td>...</td>\n",
       "      <td>NaN</td>\n",
       "      <td>None</td>\n",
       "      <td>None</td>\n",
       "      <td>None</td>\n",
       "      <td>None</td>\n",
       "      <td>None</td>\n",
       "      <td>None</td>\n",
       "      <td>False</td>\n",
       "      <td>2314</td>\n",
       "      <td>False</td>\n",
       "    </tr>\n",
       "    <tr>\n",
       "      <th>3826</th>\n",
       "      <td>3213-VVOLG</td>\n",
       "      <td>2020-02-01</td>\n",
       "      <td>No</td>\n",
       "      <td>Two year</td>\n",
       "      <td>False</td>\n",
       "      <td>Mailed check</td>\n",
       "      <td>25.35</td>\n",
       "      <td></td>\n",
       "      <td>Male</td>\n",
       "      <td>False</td>\n",
       "      <td>...</td>\n",
       "      <td>NaN</td>\n",
       "      <td>None</td>\n",
       "      <td>None</td>\n",
       "      <td>None</td>\n",
       "      <td>None</td>\n",
       "      <td>None</td>\n",
       "      <td>None</td>\n",
       "      <td>True</td>\n",
       "      <td>2314</td>\n",
       "      <td>False</td>\n",
       "    </tr>\n",
       "    <tr>\n",
       "      <th>4380</th>\n",
       "      <td>2520-SGTTA</td>\n",
       "      <td>2020-02-01</td>\n",
       "      <td>No</td>\n",
       "      <td>Two year</td>\n",
       "      <td>False</td>\n",
       "      <td>Mailed check</td>\n",
       "      <td>20.00</td>\n",
       "      <td></td>\n",
       "      <td>Female</td>\n",
       "      <td>False</td>\n",
       "      <td>...</td>\n",
       "      <td>NaN</td>\n",
       "      <td>None</td>\n",
       "      <td>None</td>\n",
       "      <td>None</td>\n",
       "      <td>None</td>\n",
       "      <td>None</td>\n",
       "      <td>None</td>\n",
       "      <td>False</td>\n",
       "      <td>2314</td>\n",
       "      <td>False</td>\n",
       "    </tr>\n",
       "    <tr>\n",
       "      <th>5218</th>\n",
       "      <td>2923-ARZLG</td>\n",
       "      <td>2020-02-01</td>\n",
       "      <td>No</td>\n",
       "      <td>One year</td>\n",
       "      <td>True</td>\n",
       "      <td>Mailed check</td>\n",
       "      <td>19.70</td>\n",
       "      <td></td>\n",
       "      <td>Male</td>\n",
       "      <td>False</td>\n",
       "      <td>...</td>\n",
       "      <td>NaN</td>\n",
       "      <td>None</td>\n",
       "      <td>None</td>\n",
       "      <td>None</td>\n",
       "      <td>None</td>\n",
       "      <td>None</td>\n",
       "      <td>None</td>\n",
       "      <td>False</td>\n",
       "      <td>2314</td>\n",
       "      <td>False</td>\n",
       "    </tr>\n",
       "    <tr>\n",
       "      <th>6670</th>\n",
       "      <td>4075-WKNIU</td>\n",
       "      <td>2020-02-01</td>\n",
       "      <td>No</td>\n",
       "      <td>Two year</td>\n",
       "      <td>False</td>\n",
       "      <td>Mailed check</td>\n",
       "      <td>73.35</td>\n",
       "      <td></td>\n",
       "      <td>Female</td>\n",
       "      <td>False</td>\n",
       "      <td>...</td>\n",
       "      <td>DSL</td>\n",
       "      <td>False</td>\n",
       "      <td>True</td>\n",
       "      <td>True</td>\n",
       "      <td>True</td>\n",
       "      <td>True</td>\n",
       "      <td>False</td>\n",
       "      <td>True</td>\n",
       "      <td>2314</td>\n",
       "      <td>False</td>\n",
       "    </tr>\n",
       "    <tr>\n",
       "      <th>6754</th>\n",
       "      <td>2775-SEFEE</td>\n",
       "      <td>2020-02-01</td>\n",
       "      <td>No</td>\n",
       "      <td>Two year</td>\n",
       "      <td>True</td>\n",
       "      <td>Bank transfer (automatic)</td>\n",
       "      <td>61.90</td>\n",
       "      <td></td>\n",
       "      <td>Male</td>\n",
       "      <td>False</td>\n",
       "      <td>...</td>\n",
       "      <td>DSL</td>\n",
       "      <td>True</td>\n",
       "      <td>True</td>\n",
       "      <td>False</td>\n",
       "      <td>True</td>\n",
       "      <td>False</td>\n",
       "      <td>False</td>\n",
       "      <td>True</td>\n",
       "      <td>2314</td>\n",
       "      <td>False</td>\n",
       "    </tr>\n",
       "  </tbody>\n",
       "</table>\n",
       "<p>11 rows × 22 columns</p>\n",
       "</div>"
      ],
      "text/plain": [
       "     customer_id begin_date end_date      type  paperless_billing  \\\n",
       "488   4472-LVYGI 2020-02-01       No  Two year               True   \n",
       "753   3115-CZMZD 2020-02-01       No  Two year              False   \n",
       "936   5709-LVOEQ 2020-02-01       No  Two year              False   \n",
       "1082  4367-NUYAO 2020-02-01       No  Two year              False   \n",
       "1340  1371-DWPAZ 2020-02-01       No  Two year              False   \n",
       "3331  7644-OMVMY 2020-02-01       No  Two year              False   \n",
       "3826  3213-VVOLG 2020-02-01       No  Two year              False   \n",
       "4380  2520-SGTTA 2020-02-01       No  Two year              False   \n",
       "5218  2923-ARZLG 2020-02-01       No  One year               True   \n",
       "6670  4075-WKNIU 2020-02-01       No  Two year              False   \n",
       "6754  2775-SEFEE 2020-02-01       No  Two year               True   \n",
       "\n",
       "                 payment_method  monthly_charges total_charges  gender  \\\n",
       "488   Bank transfer (automatic)            52.55                Female   \n",
       "753                Mailed check            20.25                  Male   \n",
       "936                Mailed check            80.85                Female   \n",
       "1082               Mailed check            25.75                  Male   \n",
       "1340    Credit card (automatic)            56.05                Female   \n",
       "3331               Mailed check            19.85                  Male   \n",
       "3826               Mailed check            25.35                  Male   \n",
       "4380               Mailed check            20.00                Female   \n",
       "5218               Mailed check            19.70                  Male   \n",
       "6670               Mailed check            73.35                Female   \n",
       "6754  Bank transfer (automatic)            61.90                  Male   \n",
       "\n",
       "      senior_citizen  ...  internet_service  online_security online_backup  \\\n",
       "488            False  ...               DSL             True         False   \n",
       "753            False  ...               NaN             None          None   \n",
       "936            False  ...               DSL             True          True   \n",
       "1082           False  ...               NaN             None          None   \n",
       "1340           False  ...               DSL             True          True   \n",
       "3331           False  ...               NaN             None          None   \n",
       "3826           False  ...               NaN             None          None   \n",
       "4380           False  ...               NaN             None          None   \n",
       "5218           False  ...               NaN             None          None   \n",
       "6670           False  ...               DSL            False          True   \n",
       "6754           False  ...               DSL             True          True   \n",
       "\n",
       "     device_protection teach_support streaming_tv streaming_movies  \\\n",
       "488               True          True         True            False   \n",
       "753               None          None         None             None   \n",
       "936               True         False         True             True   \n",
       "1082              None          None         None             None   \n",
       "1340              True          True         True            False   \n",
       "3331              None          None         None             None   \n",
       "3826              None          None         None             None   \n",
       "4380              None          None         None             None   \n",
       "5218              None          None         None             None   \n",
       "6670              True          True         True            False   \n",
       "6754             False          True        False            False   \n",
       "\n",
       "     multiple_lines begin_date_ end_date_  \n",
       "488            None        2314     False  \n",
       "753           False        2314     False  \n",
       "936           False        2314     False  \n",
       "1082           True        2314     False  \n",
       "1340           None        2314     False  \n",
       "3331          False        2314     False  \n",
       "3826           True        2314     False  \n",
       "4380          False        2314     False  \n",
       "5218          False        2314     False  \n",
       "6670           True        2314     False  \n",
       "6754           True        2314     False  \n",
       "\n",
       "[11 rows x 22 columns]"
      ]
     },
     "execution_count": 176,
     "metadata": {},
     "output_type": "execute_result"
    }
   ],
   "source": [
    "table1=interconnect_data[interconnect_data['total_charges']=='']\n",
    "table1"
   ]
  },
  {
   "cell_type": "code",
   "execution_count": 177,
   "metadata": {},
   "outputs": [
    {
     "data": {
      "text/html": [
       "<div>\n",
       "<style scoped>\n",
       "    .dataframe tbody tr th:only-of-type {\n",
       "        vertical-align: middle;\n",
       "    }\n",
       "\n",
       "    .dataframe tbody tr th {\n",
       "        vertical-align: top;\n",
       "    }\n",
       "\n",
       "    .dataframe thead th {\n",
       "        text-align: right;\n",
       "    }\n",
       "</style>\n",
       "<table border=\"1\" class=\"dataframe\">\n",
       "  <thead>\n",
       "    <tr style=\"text-align: right;\">\n",
       "      <th></th>\n",
       "      <th>customer_id</th>\n",
       "      <th>begin_date</th>\n",
       "      <th>end_date</th>\n",
       "      <th>type</th>\n",
       "      <th>paperless_billing</th>\n",
       "      <th>payment_method</th>\n",
       "      <th>monthly_charges</th>\n",
       "      <th>total_charges</th>\n",
       "      <th>gender</th>\n",
       "      <th>senior_citizen</th>\n",
       "      <th>...</th>\n",
       "      <th>internet_service</th>\n",
       "      <th>online_security</th>\n",
       "      <th>online_backup</th>\n",
       "      <th>device_protection</th>\n",
       "      <th>teach_support</th>\n",
       "      <th>streaming_tv</th>\n",
       "      <th>streaming_movies</th>\n",
       "      <th>multiple_lines</th>\n",
       "      <th>begin_date_</th>\n",
       "      <th>end_date_</th>\n",
       "    </tr>\n",
       "  </thead>\n",
       "  <tbody>\n",
       "    <tr>\n",
       "      <th>488</th>\n",
       "      <td>4472-LVYGI</td>\n",
       "      <td>2020-02-01</td>\n",
       "      <td>No</td>\n",
       "      <td>Two year</td>\n",
       "      <td>True</td>\n",
       "      <td>Bank transfer (automatic)</td>\n",
       "      <td>52.55</td>\n",
       "      <td></td>\n",
       "      <td>Female</td>\n",
       "      <td>False</td>\n",
       "      <td>...</td>\n",
       "      <td>DSL</td>\n",
       "      <td>True</td>\n",
       "      <td>False</td>\n",
       "      <td>True</td>\n",
       "      <td>True</td>\n",
       "      <td>True</td>\n",
       "      <td>False</td>\n",
       "      <td>None</td>\n",
       "      <td>2314</td>\n",
       "      <td>False</td>\n",
       "    </tr>\n",
       "    <tr>\n",
       "      <th>753</th>\n",
       "      <td>3115-CZMZD</td>\n",
       "      <td>2020-02-01</td>\n",
       "      <td>No</td>\n",
       "      <td>Two year</td>\n",
       "      <td>False</td>\n",
       "      <td>Mailed check</td>\n",
       "      <td>20.25</td>\n",
       "      <td></td>\n",
       "      <td>Male</td>\n",
       "      <td>False</td>\n",
       "      <td>...</td>\n",
       "      <td>NaN</td>\n",
       "      <td>None</td>\n",
       "      <td>None</td>\n",
       "      <td>None</td>\n",
       "      <td>None</td>\n",
       "      <td>None</td>\n",
       "      <td>None</td>\n",
       "      <td>False</td>\n",
       "      <td>2314</td>\n",
       "      <td>False</td>\n",
       "    </tr>\n",
       "    <tr>\n",
       "      <th>936</th>\n",
       "      <td>5709-LVOEQ</td>\n",
       "      <td>2020-02-01</td>\n",
       "      <td>No</td>\n",
       "      <td>Two year</td>\n",
       "      <td>False</td>\n",
       "      <td>Mailed check</td>\n",
       "      <td>80.85</td>\n",
       "      <td></td>\n",
       "      <td>Female</td>\n",
       "      <td>False</td>\n",
       "      <td>...</td>\n",
       "      <td>DSL</td>\n",
       "      <td>True</td>\n",
       "      <td>True</td>\n",
       "      <td>True</td>\n",
       "      <td>False</td>\n",
       "      <td>True</td>\n",
       "      <td>True</td>\n",
       "      <td>False</td>\n",
       "      <td>2314</td>\n",
       "      <td>False</td>\n",
       "    </tr>\n",
       "    <tr>\n",
       "      <th>1082</th>\n",
       "      <td>4367-NUYAO</td>\n",
       "      <td>2020-02-01</td>\n",
       "      <td>No</td>\n",
       "      <td>Two year</td>\n",
       "      <td>False</td>\n",
       "      <td>Mailed check</td>\n",
       "      <td>25.75</td>\n",
       "      <td></td>\n",
       "      <td>Male</td>\n",
       "      <td>False</td>\n",
       "      <td>...</td>\n",
       "      <td>NaN</td>\n",
       "      <td>None</td>\n",
       "      <td>None</td>\n",
       "      <td>None</td>\n",
       "      <td>None</td>\n",
       "      <td>None</td>\n",
       "      <td>None</td>\n",
       "      <td>True</td>\n",
       "      <td>2314</td>\n",
       "      <td>False</td>\n",
       "    </tr>\n",
       "    <tr>\n",
       "      <th>1340</th>\n",
       "      <td>1371-DWPAZ</td>\n",
       "      <td>2020-02-01</td>\n",
       "      <td>No</td>\n",
       "      <td>Two year</td>\n",
       "      <td>False</td>\n",
       "      <td>Credit card (automatic)</td>\n",
       "      <td>56.05</td>\n",
       "      <td></td>\n",
       "      <td>Female</td>\n",
       "      <td>False</td>\n",
       "      <td>...</td>\n",
       "      <td>DSL</td>\n",
       "      <td>True</td>\n",
       "      <td>True</td>\n",
       "      <td>True</td>\n",
       "      <td>True</td>\n",
       "      <td>True</td>\n",
       "      <td>False</td>\n",
       "      <td>None</td>\n",
       "      <td>2314</td>\n",
       "      <td>False</td>\n",
       "    </tr>\n",
       "    <tr>\n",
       "      <th>3331</th>\n",
       "      <td>7644-OMVMY</td>\n",
       "      <td>2020-02-01</td>\n",
       "      <td>No</td>\n",
       "      <td>Two year</td>\n",
       "      <td>False</td>\n",
       "      <td>Mailed check</td>\n",
       "      <td>19.85</td>\n",
       "      <td></td>\n",
       "      <td>Male</td>\n",
       "      <td>False</td>\n",
       "      <td>...</td>\n",
       "      <td>NaN</td>\n",
       "      <td>None</td>\n",
       "      <td>None</td>\n",
       "      <td>None</td>\n",
       "      <td>None</td>\n",
       "      <td>None</td>\n",
       "      <td>None</td>\n",
       "      <td>False</td>\n",
       "      <td>2314</td>\n",
       "      <td>False</td>\n",
       "    </tr>\n",
       "    <tr>\n",
       "      <th>3826</th>\n",
       "      <td>3213-VVOLG</td>\n",
       "      <td>2020-02-01</td>\n",
       "      <td>No</td>\n",
       "      <td>Two year</td>\n",
       "      <td>False</td>\n",
       "      <td>Mailed check</td>\n",
       "      <td>25.35</td>\n",
       "      <td></td>\n",
       "      <td>Male</td>\n",
       "      <td>False</td>\n",
       "      <td>...</td>\n",
       "      <td>NaN</td>\n",
       "      <td>None</td>\n",
       "      <td>None</td>\n",
       "      <td>None</td>\n",
       "      <td>None</td>\n",
       "      <td>None</td>\n",
       "      <td>None</td>\n",
       "      <td>True</td>\n",
       "      <td>2314</td>\n",
       "      <td>False</td>\n",
       "    </tr>\n",
       "    <tr>\n",
       "      <th>4380</th>\n",
       "      <td>2520-SGTTA</td>\n",
       "      <td>2020-02-01</td>\n",
       "      <td>No</td>\n",
       "      <td>Two year</td>\n",
       "      <td>False</td>\n",
       "      <td>Mailed check</td>\n",
       "      <td>20.00</td>\n",
       "      <td></td>\n",
       "      <td>Female</td>\n",
       "      <td>False</td>\n",
       "      <td>...</td>\n",
       "      <td>NaN</td>\n",
       "      <td>None</td>\n",
       "      <td>None</td>\n",
       "      <td>None</td>\n",
       "      <td>None</td>\n",
       "      <td>None</td>\n",
       "      <td>None</td>\n",
       "      <td>False</td>\n",
       "      <td>2314</td>\n",
       "      <td>False</td>\n",
       "    </tr>\n",
       "    <tr>\n",
       "      <th>5218</th>\n",
       "      <td>2923-ARZLG</td>\n",
       "      <td>2020-02-01</td>\n",
       "      <td>No</td>\n",
       "      <td>One year</td>\n",
       "      <td>True</td>\n",
       "      <td>Mailed check</td>\n",
       "      <td>19.70</td>\n",
       "      <td></td>\n",
       "      <td>Male</td>\n",
       "      <td>False</td>\n",
       "      <td>...</td>\n",
       "      <td>NaN</td>\n",
       "      <td>None</td>\n",
       "      <td>None</td>\n",
       "      <td>None</td>\n",
       "      <td>None</td>\n",
       "      <td>None</td>\n",
       "      <td>None</td>\n",
       "      <td>False</td>\n",
       "      <td>2314</td>\n",
       "      <td>False</td>\n",
       "    </tr>\n",
       "    <tr>\n",
       "      <th>6670</th>\n",
       "      <td>4075-WKNIU</td>\n",
       "      <td>2020-02-01</td>\n",
       "      <td>No</td>\n",
       "      <td>Two year</td>\n",
       "      <td>False</td>\n",
       "      <td>Mailed check</td>\n",
       "      <td>73.35</td>\n",
       "      <td></td>\n",
       "      <td>Female</td>\n",
       "      <td>False</td>\n",
       "      <td>...</td>\n",
       "      <td>DSL</td>\n",
       "      <td>False</td>\n",
       "      <td>True</td>\n",
       "      <td>True</td>\n",
       "      <td>True</td>\n",
       "      <td>True</td>\n",
       "      <td>False</td>\n",
       "      <td>True</td>\n",
       "      <td>2314</td>\n",
       "      <td>False</td>\n",
       "    </tr>\n",
       "    <tr>\n",
       "      <th>6754</th>\n",
       "      <td>2775-SEFEE</td>\n",
       "      <td>2020-02-01</td>\n",
       "      <td>No</td>\n",
       "      <td>Two year</td>\n",
       "      <td>True</td>\n",
       "      <td>Bank transfer (automatic)</td>\n",
       "      <td>61.90</td>\n",
       "      <td></td>\n",
       "      <td>Male</td>\n",
       "      <td>False</td>\n",
       "      <td>...</td>\n",
       "      <td>DSL</td>\n",
       "      <td>True</td>\n",
       "      <td>True</td>\n",
       "      <td>False</td>\n",
       "      <td>True</td>\n",
       "      <td>False</td>\n",
       "      <td>False</td>\n",
       "      <td>True</td>\n",
       "      <td>2314</td>\n",
       "      <td>False</td>\n",
       "    </tr>\n",
       "  </tbody>\n",
       "</table>\n",
       "<p>11 rows × 22 columns</p>\n",
       "</div>"
      ],
      "text/plain": [
       "     customer_id begin_date end_date      type  paperless_billing  \\\n",
       "488   4472-LVYGI 2020-02-01       No  Two year               True   \n",
       "753   3115-CZMZD 2020-02-01       No  Two year              False   \n",
       "936   5709-LVOEQ 2020-02-01       No  Two year              False   \n",
       "1082  4367-NUYAO 2020-02-01       No  Two year              False   \n",
       "1340  1371-DWPAZ 2020-02-01       No  Two year              False   \n",
       "3331  7644-OMVMY 2020-02-01       No  Two year              False   \n",
       "3826  3213-VVOLG 2020-02-01       No  Two year              False   \n",
       "4380  2520-SGTTA 2020-02-01       No  Two year              False   \n",
       "5218  2923-ARZLG 2020-02-01       No  One year               True   \n",
       "6670  4075-WKNIU 2020-02-01       No  Two year              False   \n",
       "6754  2775-SEFEE 2020-02-01       No  Two year               True   \n",
       "\n",
       "                 payment_method  monthly_charges total_charges  gender  \\\n",
       "488   Bank transfer (automatic)            52.55                Female   \n",
       "753                Mailed check            20.25                  Male   \n",
       "936                Mailed check            80.85                Female   \n",
       "1082               Mailed check            25.75                  Male   \n",
       "1340    Credit card (automatic)            56.05                Female   \n",
       "3331               Mailed check            19.85                  Male   \n",
       "3826               Mailed check            25.35                  Male   \n",
       "4380               Mailed check            20.00                Female   \n",
       "5218               Mailed check            19.70                  Male   \n",
       "6670               Mailed check            73.35                Female   \n",
       "6754  Bank transfer (automatic)            61.90                  Male   \n",
       "\n",
       "      senior_citizen  ...  internet_service  online_security online_backup  \\\n",
       "488            False  ...               DSL             True         False   \n",
       "753            False  ...               NaN             None          None   \n",
       "936            False  ...               DSL             True          True   \n",
       "1082           False  ...               NaN             None          None   \n",
       "1340           False  ...               DSL             True          True   \n",
       "3331           False  ...               NaN             None          None   \n",
       "3826           False  ...               NaN             None          None   \n",
       "4380           False  ...               NaN             None          None   \n",
       "5218           False  ...               NaN             None          None   \n",
       "6670           False  ...               DSL            False          True   \n",
       "6754           False  ...               DSL             True          True   \n",
       "\n",
       "     device_protection teach_support streaming_tv streaming_movies  \\\n",
       "488               True          True         True            False   \n",
       "753               None          None         None             None   \n",
       "936               True         False         True             True   \n",
       "1082              None          None         None             None   \n",
       "1340              True          True         True            False   \n",
       "3331              None          None         None             None   \n",
       "3826              None          None         None             None   \n",
       "4380              None          None         None             None   \n",
       "5218              None          None         None             None   \n",
       "6670              True          True         True            False   \n",
       "6754             False          True        False            False   \n",
       "\n",
       "     multiple_lines begin_date_ end_date_  \n",
       "488            None        2314     False  \n",
       "753           False        2314     False  \n",
       "936           False        2314     False  \n",
       "1082           True        2314     False  \n",
       "1340           None        2314     False  \n",
       "3331          False        2314     False  \n",
       "3826           True        2314     False  \n",
       "4380          False        2314     False  \n",
       "5218          False        2314     False  \n",
       "6670           True        2314     False  \n",
       "6754           True        2314     False  \n",
       "\n",
       "[11 rows x 22 columns]"
      ]
     },
     "execution_count": 177,
     "metadata": {},
     "output_type": "execute_result"
    }
   ],
   "source": [
    "date=pd.to_datetime('2020-02-01', format='%Y-%m-%d')\n",
    "table2=interconnect_data[interconnect_data['begin_date']==date]\n",
    "table2"
   ]
  },
  {
   "cell_type": "code",
   "execution_count": 178,
   "metadata": {},
   "outputs": [
    {
     "data": {
      "text/html": [
       "<div>\n",
       "<style scoped>\n",
       "    .dataframe tbody tr th:only-of-type {\n",
       "        vertical-align: middle;\n",
       "    }\n",
       "\n",
       "    .dataframe tbody tr th {\n",
       "        vertical-align: top;\n",
       "    }\n",
       "\n",
       "    .dataframe thead th {\n",
       "        text-align: right;\n",
       "    }\n",
       "</style>\n",
       "<table border=\"1\" class=\"dataframe\">\n",
       "  <thead>\n",
       "    <tr style=\"text-align: right;\">\n",
       "      <th></th>\n",
       "      <th>customer_id</th>\n",
       "      <th>begin_date</th>\n",
       "      <th>end_date</th>\n",
       "      <th>type</th>\n",
       "      <th>paperless_billing</th>\n",
       "      <th>payment_method</th>\n",
       "      <th>monthly_charges</th>\n",
       "      <th>total_charges</th>\n",
       "      <th>gender</th>\n",
       "      <th>senior_citizen</th>\n",
       "      <th>...</th>\n",
       "      <th>internet_service</th>\n",
       "      <th>online_security</th>\n",
       "      <th>online_backup</th>\n",
       "      <th>device_protection</th>\n",
       "      <th>teach_support</th>\n",
       "      <th>streaming_tv</th>\n",
       "      <th>streaming_movies</th>\n",
       "      <th>multiple_lines</th>\n",
       "      <th>begin_date_</th>\n",
       "      <th>end_date_</th>\n",
       "    </tr>\n",
       "  </thead>\n",
       "  <tbody>\n",
       "    <tr>\n",
       "      <th>488</th>\n",
       "      <td>True</td>\n",
       "      <td>True</td>\n",
       "      <td>True</td>\n",
       "      <td>True</td>\n",
       "      <td>True</td>\n",
       "      <td>True</td>\n",
       "      <td>True</td>\n",
       "      <td>True</td>\n",
       "      <td>True</td>\n",
       "      <td>True</td>\n",
       "      <td>...</td>\n",
       "      <td>True</td>\n",
       "      <td>True</td>\n",
       "      <td>True</td>\n",
       "      <td>True</td>\n",
       "      <td>True</td>\n",
       "      <td>True</td>\n",
       "      <td>True</td>\n",
       "      <td>False</td>\n",
       "      <td>True</td>\n",
       "      <td>True</td>\n",
       "    </tr>\n",
       "    <tr>\n",
       "      <th>753</th>\n",
       "      <td>True</td>\n",
       "      <td>True</td>\n",
       "      <td>True</td>\n",
       "      <td>True</td>\n",
       "      <td>True</td>\n",
       "      <td>True</td>\n",
       "      <td>True</td>\n",
       "      <td>True</td>\n",
       "      <td>True</td>\n",
       "      <td>True</td>\n",
       "      <td>...</td>\n",
       "      <td>False</td>\n",
       "      <td>False</td>\n",
       "      <td>False</td>\n",
       "      <td>False</td>\n",
       "      <td>False</td>\n",
       "      <td>False</td>\n",
       "      <td>False</td>\n",
       "      <td>True</td>\n",
       "      <td>True</td>\n",
       "      <td>True</td>\n",
       "    </tr>\n",
       "    <tr>\n",
       "      <th>936</th>\n",
       "      <td>True</td>\n",
       "      <td>True</td>\n",
       "      <td>True</td>\n",
       "      <td>True</td>\n",
       "      <td>True</td>\n",
       "      <td>True</td>\n",
       "      <td>True</td>\n",
       "      <td>True</td>\n",
       "      <td>True</td>\n",
       "      <td>True</td>\n",
       "      <td>...</td>\n",
       "      <td>True</td>\n",
       "      <td>True</td>\n",
       "      <td>True</td>\n",
       "      <td>True</td>\n",
       "      <td>True</td>\n",
       "      <td>True</td>\n",
       "      <td>True</td>\n",
       "      <td>True</td>\n",
       "      <td>True</td>\n",
       "      <td>True</td>\n",
       "    </tr>\n",
       "    <tr>\n",
       "      <th>1082</th>\n",
       "      <td>True</td>\n",
       "      <td>True</td>\n",
       "      <td>True</td>\n",
       "      <td>True</td>\n",
       "      <td>True</td>\n",
       "      <td>True</td>\n",
       "      <td>True</td>\n",
       "      <td>True</td>\n",
       "      <td>True</td>\n",
       "      <td>True</td>\n",
       "      <td>...</td>\n",
       "      <td>False</td>\n",
       "      <td>False</td>\n",
       "      <td>False</td>\n",
       "      <td>False</td>\n",
       "      <td>False</td>\n",
       "      <td>False</td>\n",
       "      <td>False</td>\n",
       "      <td>True</td>\n",
       "      <td>True</td>\n",
       "      <td>True</td>\n",
       "    </tr>\n",
       "    <tr>\n",
       "      <th>1340</th>\n",
       "      <td>True</td>\n",
       "      <td>True</td>\n",
       "      <td>True</td>\n",
       "      <td>True</td>\n",
       "      <td>True</td>\n",
       "      <td>True</td>\n",
       "      <td>True</td>\n",
       "      <td>True</td>\n",
       "      <td>True</td>\n",
       "      <td>True</td>\n",
       "      <td>...</td>\n",
       "      <td>True</td>\n",
       "      <td>True</td>\n",
       "      <td>True</td>\n",
       "      <td>True</td>\n",
       "      <td>True</td>\n",
       "      <td>True</td>\n",
       "      <td>True</td>\n",
       "      <td>False</td>\n",
       "      <td>True</td>\n",
       "      <td>True</td>\n",
       "    </tr>\n",
       "    <tr>\n",
       "      <th>3331</th>\n",
       "      <td>True</td>\n",
       "      <td>True</td>\n",
       "      <td>True</td>\n",
       "      <td>True</td>\n",
       "      <td>True</td>\n",
       "      <td>True</td>\n",
       "      <td>True</td>\n",
       "      <td>True</td>\n",
       "      <td>True</td>\n",
       "      <td>True</td>\n",
       "      <td>...</td>\n",
       "      <td>False</td>\n",
       "      <td>False</td>\n",
       "      <td>False</td>\n",
       "      <td>False</td>\n",
       "      <td>False</td>\n",
       "      <td>False</td>\n",
       "      <td>False</td>\n",
       "      <td>True</td>\n",
       "      <td>True</td>\n",
       "      <td>True</td>\n",
       "    </tr>\n",
       "    <tr>\n",
       "      <th>3826</th>\n",
       "      <td>True</td>\n",
       "      <td>True</td>\n",
       "      <td>True</td>\n",
       "      <td>True</td>\n",
       "      <td>True</td>\n",
       "      <td>True</td>\n",
       "      <td>True</td>\n",
       "      <td>True</td>\n",
       "      <td>True</td>\n",
       "      <td>True</td>\n",
       "      <td>...</td>\n",
       "      <td>False</td>\n",
       "      <td>False</td>\n",
       "      <td>False</td>\n",
       "      <td>False</td>\n",
       "      <td>False</td>\n",
       "      <td>False</td>\n",
       "      <td>False</td>\n",
       "      <td>True</td>\n",
       "      <td>True</td>\n",
       "      <td>True</td>\n",
       "    </tr>\n",
       "    <tr>\n",
       "      <th>4380</th>\n",
       "      <td>True</td>\n",
       "      <td>True</td>\n",
       "      <td>True</td>\n",
       "      <td>True</td>\n",
       "      <td>True</td>\n",
       "      <td>True</td>\n",
       "      <td>True</td>\n",
       "      <td>True</td>\n",
       "      <td>True</td>\n",
       "      <td>True</td>\n",
       "      <td>...</td>\n",
       "      <td>False</td>\n",
       "      <td>False</td>\n",
       "      <td>False</td>\n",
       "      <td>False</td>\n",
       "      <td>False</td>\n",
       "      <td>False</td>\n",
       "      <td>False</td>\n",
       "      <td>True</td>\n",
       "      <td>True</td>\n",
       "      <td>True</td>\n",
       "    </tr>\n",
       "    <tr>\n",
       "      <th>5218</th>\n",
       "      <td>True</td>\n",
       "      <td>True</td>\n",
       "      <td>True</td>\n",
       "      <td>True</td>\n",
       "      <td>True</td>\n",
       "      <td>True</td>\n",
       "      <td>True</td>\n",
       "      <td>True</td>\n",
       "      <td>True</td>\n",
       "      <td>True</td>\n",
       "      <td>...</td>\n",
       "      <td>False</td>\n",
       "      <td>False</td>\n",
       "      <td>False</td>\n",
       "      <td>False</td>\n",
       "      <td>False</td>\n",
       "      <td>False</td>\n",
       "      <td>False</td>\n",
       "      <td>True</td>\n",
       "      <td>True</td>\n",
       "      <td>True</td>\n",
       "    </tr>\n",
       "    <tr>\n",
       "      <th>6670</th>\n",
       "      <td>True</td>\n",
       "      <td>True</td>\n",
       "      <td>True</td>\n",
       "      <td>True</td>\n",
       "      <td>True</td>\n",
       "      <td>True</td>\n",
       "      <td>True</td>\n",
       "      <td>True</td>\n",
       "      <td>True</td>\n",
       "      <td>True</td>\n",
       "      <td>...</td>\n",
       "      <td>True</td>\n",
       "      <td>True</td>\n",
       "      <td>True</td>\n",
       "      <td>True</td>\n",
       "      <td>True</td>\n",
       "      <td>True</td>\n",
       "      <td>True</td>\n",
       "      <td>True</td>\n",
       "      <td>True</td>\n",
       "      <td>True</td>\n",
       "    </tr>\n",
       "    <tr>\n",
       "      <th>6754</th>\n",
       "      <td>True</td>\n",
       "      <td>True</td>\n",
       "      <td>True</td>\n",
       "      <td>True</td>\n",
       "      <td>True</td>\n",
       "      <td>True</td>\n",
       "      <td>True</td>\n",
       "      <td>True</td>\n",
       "      <td>True</td>\n",
       "      <td>True</td>\n",
       "      <td>...</td>\n",
       "      <td>True</td>\n",
       "      <td>True</td>\n",
       "      <td>True</td>\n",
       "      <td>True</td>\n",
       "      <td>True</td>\n",
       "      <td>True</td>\n",
       "      <td>True</td>\n",
       "      <td>True</td>\n",
       "      <td>True</td>\n",
       "      <td>True</td>\n",
       "    </tr>\n",
       "  </tbody>\n",
       "</table>\n",
       "<p>11 rows × 22 columns</p>\n",
       "</div>"
      ],
      "text/plain": [
       "      customer_id  begin_date  end_date  type  paperless_billing  \\\n",
       "488          True        True      True  True               True   \n",
       "753          True        True      True  True               True   \n",
       "936          True        True      True  True               True   \n",
       "1082         True        True      True  True               True   \n",
       "1340         True        True      True  True               True   \n",
       "3331         True        True      True  True               True   \n",
       "3826         True        True      True  True               True   \n",
       "4380         True        True      True  True               True   \n",
       "5218         True        True      True  True               True   \n",
       "6670         True        True      True  True               True   \n",
       "6754         True        True      True  True               True   \n",
       "\n",
       "      payment_method  monthly_charges  total_charges  gender  senior_citizen  \\\n",
       "488             True             True           True    True            True   \n",
       "753             True             True           True    True            True   \n",
       "936             True             True           True    True            True   \n",
       "1082            True             True           True    True            True   \n",
       "1340            True             True           True    True            True   \n",
       "3331            True             True           True    True            True   \n",
       "3826            True             True           True    True            True   \n",
       "4380            True             True           True    True            True   \n",
       "5218            True             True           True    True            True   \n",
       "6670            True             True           True    True            True   \n",
       "6754            True             True           True    True            True   \n",
       "\n",
       "      ...  internet_service  online_security  online_backup  \\\n",
       "488   ...              True             True           True   \n",
       "753   ...             False            False          False   \n",
       "936   ...              True             True           True   \n",
       "1082  ...             False            False          False   \n",
       "1340  ...              True             True           True   \n",
       "3331  ...             False            False          False   \n",
       "3826  ...             False            False          False   \n",
       "4380  ...             False            False          False   \n",
       "5218  ...             False            False          False   \n",
       "6670  ...              True             True           True   \n",
       "6754  ...              True             True           True   \n",
       "\n",
       "      device_protection  teach_support  streaming_tv  streaming_movies  \\\n",
       "488                True           True          True              True   \n",
       "753               False          False         False             False   \n",
       "936                True           True          True              True   \n",
       "1082              False          False         False             False   \n",
       "1340               True           True          True              True   \n",
       "3331              False          False         False             False   \n",
       "3826              False          False         False             False   \n",
       "4380              False          False         False             False   \n",
       "5218              False          False         False             False   \n",
       "6670               True           True          True              True   \n",
       "6754               True           True          True              True   \n",
       "\n",
       "      multiple_lines  begin_date_  end_date_  \n",
       "488            False         True       True  \n",
       "753             True         True       True  \n",
       "936             True         True       True  \n",
       "1082            True         True       True  \n",
       "1340           False         True       True  \n",
       "3331            True         True       True  \n",
       "3826            True         True       True  \n",
       "4380            True         True       True  \n",
       "5218            True         True       True  \n",
       "6670            True         True       True  \n",
       "6754            True         True       True  \n",
       "\n",
       "[11 rows x 22 columns]"
      ]
     },
     "execution_count": 178,
     "metadata": {},
     "output_type": "execute_result"
    }
   ],
   "source": [
    "table1==table2"
   ]
  },
  {
   "cell_type": "markdown",
   "metadata": {},
   "source": [
    "Los clientes que tienen una cadena vacía en la columna 'total_charges' es porque aun no realizan su pago porque son clientes nuevos. Entonces, su pago acumulado debería ser igual a 0. Reemplazaré las cadenas vacías por un 0."
   ]
  },
  {
   "cell_type": "code",
   "execution_count": 179,
   "metadata": {},
   "outputs": [
    {
     "data": {
      "text/html": [
       "<div>\n",
       "<style scoped>\n",
       "    .dataframe tbody tr th:only-of-type {\n",
       "        vertical-align: middle;\n",
       "    }\n",
       "\n",
       "    .dataframe tbody tr th {\n",
       "        vertical-align: top;\n",
       "    }\n",
       "\n",
       "    .dataframe thead th {\n",
       "        text-align: right;\n",
       "    }\n",
       "</style>\n",
       "<table border=\"1\" class=\"dataframe\">\n",
       "  <thead>\n",
       "    <tr style=\"text-align: right;\">\n",
       "      <th></th>\n",
       "      <th>customer_id</th>\n",
       "      <th>begin_date</th>\n",
       "      <th>end_date</th>\n",
       "      <th>type</th>\n",
       "      <th>paperless_billing</th>\n",
       "      <th>payment_method</th>\n",
       "      <th>monthly_charges</th>\n",
       "      <th>total_charges</th>\n",
       "      <th>gender</th>\n",
       "      <th>senior_citizen</th>\n",
       "      <th>...</th>\n",
       "      <th>internet_service</th>\n",
       "      <th>online_security</th>\n",
       "      <th>online_backup</th>\n",
       "      <th>device_protection</th>\n",
       "      <th>teach_support</th>\n",
       "      <th>streaming_tv</th>\n",
       "      <th>streaming_movies</th>\n",
       "      <th>multiple_lines</th>\n",
       "      <th>begin_date_</th>\n",
       "      <th>end_date_</th>\n",
       "    </tr>\n",
       "  </thead>\n",
       "  <tbody>\n",
       "    <tr>\n",
       "      <th>488</th>\n",
       "      <td>4472-LVYGI</td>\n",
       "      <td>2020-02-01</td>\n",
       "      <td>No</td>\n",
       "      <td>Two year</td>\n",
       "      <td>True</td>\n",
       "      <td>Bank transfer (automatic)</td>\n",
       "      <td>52.55</td>\n",
       "      <td>0</td>\n",
       "      <td>Female</td>\n",
       "      <td>False</td>\n",
       "      <td>...</td>\n",
       "      <td>DSL</td>\n",
       "      <td>True</td>\n",
       "      <td>False</td>\n",
       "      <td>True</td>\n",
       "      <td>True</td>\n",
       "      <td>True</td>\n",
       "      <td>False</td>\n",
       "      <td>None</td>\n",
       "      <td>2314</td>\n",
       "      <td>False</td>\n",
       "    </tr>\n",
       "    <tr>\n",
       "      <th>753</th>\n",
       "      <td>3115-CZMZD</td>\n",
       "      <td>2020-02-01</td>\n",
       "      <td>No</td>\n",
       "      <td>Two year</td>\n",
       "      <td>False</td>\n",
       "      <td>Mailed check</td>\n",
       "      <td>20.25</td>\n",
       "      <td>0</td>\n",
       "      <td>Male</td>\n",
       "      <td>False</td>\n",
       "      <td>...</td>\n",
       "      <td>NaN</td>\n",
       "      <td>None</td>\n",
       "      <td>None</td>\n",
       "      <td>None</td>\n",
       "      <td>None</td>\n",
       "      <td>None</td>\n",
       "      <td>None</td>\n",
       "      <td>False</td>\n",
       "      <td>2314</td>\n",
       "      <td>False</td>\n",
       "    </tr>\n",
       "    <tr>\n",
       "      <th>936</th>\n",
       "      <td>5709-LVOEQ</td>\n",
       "      <td>2020-02-01</td>\n",
       "      <td>No</td>\n",
       "      <td>Two year</td>\n",
       "      <td>False</td>\n",
       "      <td>Mailed check</td>\n",
       "      <td>80.85</td>\n",
       "      <td>0</td>\n",
       "      <td>Female</td>\n",
       "      <td>False</td>\n",
       "      <td>...</td>\n",
       "      <td>DSL</td>\n",
       "      <td>True</td>\n",
       "      <td>True</td>\n",
       "      <td>True</td>\n",
       "      <td>False</td>\n",
       "      <td>True</td>\n",
       "      <td>True</td>\n",
       "      <td>False</td>\n",
       "      <td>2314</td>\n",
       "      <td>False</td>\n",
       "    </tr>\n",
       "    <tr>\n",
       "      <th>1082</th>\n",
       "      <td>4367-NUYAO</td>\n",
       "      <td>2020-02-01</td>\n",
       "      <td>No</td>\n",
       "      <td>Two year</td>\n",
       "      <td>False</td>\n",
       "      <td>Mailed check</td>\n",
       "      <td>25.75</td>\n",
       "      <td>0</td>\n",
       "      <td>Male</td>\n",
       "      <td>False</td>\n",
       "      <td>...</td>\n",
       "      <td>NaN</td>\n",
       "      <td>None</td>\n",
       "      <td>None</td>\n",
       "      <td>None</td>\n",
       "      <td>None</td>\n",
       "      <td>None</td>\n",
       "      <td>None</td>\n",
       "      <td>True</td>\n",
       "      <td>2314</td>\n",
       "      <td>False</td>\n",
       "    </tr>\n",
       "    <tr>\n",
       "      <th>1340</th>\n",
       "      <td>1371-DWPAZ</td>\n",
       "      <td>2020-02-01</td>\n",
       "      <td>No</td>\n",
       "      <td>Two year</td>\n",
       "      <td>False</td>\n",
       "      <td>Credit card (automatic)</td>\n",
       "      <td>56.05</td>\n",
       "      <td>0</td>\n",
       "      <td>Female</td>\n",
       "      <td>False</td>\n",
       "      <td>...</td>\n",
       "      <td>DSL</td>\n",
       "      <td>True</td>\n",
       "      <td>True</td>\n",
       "      <td>True</td>\n",
       "      <td>True</td>\n",
       "      <td>True</td>\n",
       "      <td>False</td>\n",
       "      <td>None</td>\n",
       "      <td>2314</td>\n",
       "      <td>False</td>\n",
       "    </tr>\n",
       "    <tr>\n",
       "      <th>3331</th>\n",
       "      <td>7644-OMVMY</td>\n",
       "      <td>2020-02-01</td>\n",
       "      <td>No</td>\n",
       "      <td>Two year</td>\n",
       "      <td>False</td>\n",
       "      <td>Mailed check</td>\n",
       "      <td>19.85</td>\n",
       "      <td>0</td>\n",
       "      <td>Male</td>\n",
       "      <td>False</td>\n",
       "      <td>...</td>\n",
       "      <td>NaN</td>\n",
       "      <td>None</td>\n",
       "      <td>None</td>\n",
       "      <td>None</td>\n",
       "      <td>None</td>\n",
       "      <td>None</td>\n",
       "      <td>None</td>\n",
       "      <td>False</td>\n",
       "      <td>2314</td>\n",
       "      <td>False</td>\n",
       "    </tr>\n",
       "    <tr>\n",
       "      <th>3826</th>\n",
       "      <td>3213-VVOLG</td>\n",
       "      <td>2020-02-01</td>\n",
       "      <td>No</td>\n",
       "      <td>Two year</td>\n",
       "      <td>False</td>\n",
       "      <td>Mailed check</td>\n",
       "      <td>25.35</td>\n",
       "      <td>0</td>\n",
       "      <td>Male</td>\n",
       "      <td>False</td>\n",
       "      <td>...</td>\n",
       "      <td>NaN</td>\n",
       "      <td>None</td>\n",
       "      <td>None</td>\n",
       "      <td>None</td>\n",
       "      <td>None</td>\n",
       "      <td>None</td>\n",
       "      <td>None</td>\n",
       "      <td>True</td>\n",
       "      <td>2314</td>\n",
       "      <td>False</td>\n",
       "    </tr>\n",
       "    <tr>\n",
       "      <th>4380</th>\n",
       "      <td>2520-SGTTA</td>\n",
       "      <td>2020-02-01</td>\n",
       "      <td>No</td>\n",
       "      <td>Two year</td>\n",
       "      <td>False</td>\n",
       "      <td>Mailed check</td>\n",
       "      <td>20.00</td>\n",
       "      <td>0</td>\n",
       "      <td>Female</td>\n",
       "      <td>False</td>\n",
       "      <td>...</td>\n",
       "      <td>NaN</td>\n",
       "      <td>None</td>\n",
       "      <td>None</td>\n",
       "      <td>None</td>\n",
       "      <td>None</td>\n",
       "      <td>None</td>\n",
       "      <td>None</td>\n",
       "      <td>False</td>\n",
       "      <td>2314</td>\n",
       "      <td>False</td>\n",
       "    </tr>\n",
       "    <tr>\n",
       "      <th>5218</th>\n",
       "      <td>2923-ARZLG</td>\n",
       "      <td>2020-02-01</td>\n",
       "      <td>No</td>\n",
       "      <td>One year</td>\n",
       "      <td>True</td>\n",
       "      <td>Mailed check</td>\n",
       "      <td>19.70</td>\n",
       "      <td>0</td>\n",
       "      <td>Male</td>\n",
       "      <td>False</td>\n",
       "      <td>...</td>\n",
       "      <td>NaN</td>\n",
       "      <td>None</td>\n",
       "      <td>None</td>\n",
       "      <td>None</td>\n",
       "      <td>None</td>\n",
       "      <td>None</td>\n",
       "      <td>None</td>\n",
       "      <td>False</td>\n",
       "      <td>2314</td>\n",
       "      <td>False</td>\n",
       "    </tr>\n",
       "    <tr>\n",
       "      <th>6670</th>\n",
       "      <td>4075-WKNIU</td>\n",
       "      <td>2020-02-01</td>\n",
       "      <td>No</td>\n",
       "      <td>Two year</td>\n",
       "      <td>False</td>\n",
       "      <td>Mailed check</td>\n",
       "      <td>73.35</td>\n",
       "      <td>0</td>\n",
       "      <td>Female</td>\n",
       "      <td>False</td>\n",
       "      <td>...</td>\n",
       "      <td>DSL</td>\n",
       "      <td>False</td>\n",
       "      <td>True</td>\n",
       "      <td>True</td>\n",
       "      <td>True</td>\n",
       "      <td>True</td>\n",
       "      <td>False</td>\n",
       "      <td>True</td>\n",
       "      <td>2314</td>\n",
       "      <td>False</td>\n",
       "    </tr>\n",
       "    <tr>\n",
       "      <th>6754</th>\n",
       "      <td>2775-SEFEE</td>\n",
       "      <td>2020-02-01</td>\n",
       "      <td>No</td>\n",
       "      <td>Two year</td>\n",
       "      <td>True</td>\n",
       "      <td>Bank transfer (automatic)</td>\n",
       "      <td>61.90</td>\n",
       "      <td>0</td>\n",
       "      <td>Male</td>\n",
       "      <td>False</td>\n",
       "      <td>...</td>\n",
       "      <td>DSL</td>\n",
       "      <td>True</td>\n",
       "      <td>True</td>\n",
       "      <td>False</td>\n",
       "      <td>True</td>\n",
       "      <td>False</td>\n",
       "      <td>False</td>\n",
       "      <td>True</td>\n",
       "      <td>2314</td>\n",
       "      <td>False</td>\n",
       "    </tr>\n",
       "  </tbody>\n",
       "</table>\n",
       "<p>11 rows × 22 columns</p>\n",
       "</div>"
      ],
      "text/plain": [
       "     customer_id begin_date end_date      type  paperless_billing  \\\n",
       "488   4472-LVYGI 2020-02-01       No  Two year               True   \n",
       "753   3115-CZMZD 2020-02-01       No  Two year              False   \n",
       "936   5709-LVOEQ 2020-02-01       No  Two year              False   \n",
       "1082  4367-NUYAO 2020-02-01       No  Two year              False   \n",
       "1340  1371-DWPAZ 2020-02-01       No  Two year              False   \n",
       "3331  7644-OMVMY 2020-02-01       No  Two year              False   \n",
       "3826  3213-VVOLG 2020-02-01       No  Two year              False   \n",
       "4380  2520-SGTTA 2020-02-01       No  Two year              False   \n",
       "5218  2923-ARZLG 2020-02-01       No  One year               True   \n",
       "6670  4075-WKNIU 2020-02-01       No  Two year              False   \n",
       "6754  2775-SEFEE 2020-02-01       No  Two year               True   \n",
       "\n",
       "                 payment_method  monthly_charges total_charges  gender  \\\n",
       "488   Bank transfer (automatic)            52.55             0  Female   \n",
       "753                Mailed check            20.25             0    Male   \n",
       "936                Mailed check            80.85             0  Female   \n",
       "1082               Mailed check            25.75             0    Male   \n",
       "1340    Credit card (automatic)            56.05             0  Female   \n",
       "3331               Mailed check            19.85             0    Male   \n",
       "3826               Mailed check            25.35             0    Male   \n",
       "4380               Mailed check            20.00             0  Female   \n",
       "5218               Mailed check            19.70             0    Male   \n",
       "6670               Mailed check            73.35             0  Female   \n",
       "6754  Bank transfer (automatic)            61.90             0    Male   \n",
       "\n",
       "      senior_citizen  ...  internet_service  online_security online_backup  \\\n",
       "488            False  ...               DSL             True         False   \n",
       "753            False  ...               NaN             None          None   \n",
       "936            False  ...               DSL             True          True   \n",
       "1082           False  ...               NaN             None          None   \n",
       "1340           False  ...               DSL             True          True   \n",
       "3331           False  ...               NaN             None          None   \n",
       "3826           False  ...               NaN             None          None   \n",
       "4380           False  ...               NaN             None          None   \n",
       "5218           False  ...               NaN             None          None   \n",
       "6670           False  ...               DSL            False          True   \n",
       "6754           False  ...               DSL             True          True   \n",
       "\n",
       "     device_protection teach_support streaming_tv streaming_movies  \\\n",
       "488               True          True         True            False   \n",
       "753               None          None         None             None   \n",
       "936               True         False         True             True   \n",
       "1082              None          None         None             None   \n",
       "1340              True          True         True            False   \n",
       "3331              None          None         None             None   \n",
       "3826              None          None         None             None   \n",
       "4380              None          None         None             None   \n",
       "5218              None          None         None             None   \n",
       "6670              True          True         True            False   \n",
       "6754             False          True        False            False   \n",
       "\n",
       "     multiple_lines begin_date_ end_date_  \n",
       "488            None        2314     False  \n",
       "753           False        2314     False  \n",
       "936           False        2314     False  \n",
       "1082           True        2314     False  \n",
       "1340           None        2314     False  \n",
       "3331          False        2314     False  \n",
       "3826           True        2314     False  \n",
       "4380          False        2314     False  \n",
       "5218          False        2314     False  \n",
       "6670           True        2314     False  \n",
       "6754           True        2314     False  \n",
       "\n",
       "[11 rows x 22 columns]"
      ]
     },
     "execution_count": 179,
     "metadata": {},
     "output_type": "execute_result"
    }
   ],
   "source": [
    "table1=interconnect_data[interconnect_data['total_charges']=='']\n",
    "table1\n",
    "\n",
    "interconnect_data['total_charges']=interconnect_data['total_charges'].replace('',0)\n",
    "interconnect_data[interconnect_data['total_charges']==0]"
   ]
  },
  {
   "cell_type": "code",
   "execution_count": 180,
   "metadata": {},
   "outputs": [],
   "source": [
    "# ya puedo convertir los datos a tipo float\n",
    "interconnect_data['total_charges']=interconnect_data['total_charges'].astype(float)"
   ]
  },
  {
   "cell_type": "code",
   "execution_count": 181,
   "metadata": {},
   "outputs": [
    {
     "name": "stdout",
     "output_type": "stream",
     "text": [
      "<class 'pandas.core.frame.DataFrame'>\n",
      "RangeIndex: 7043 entries, 0 to 7042\n",
      "Data columns (total 22 columns):\n",
      " #   Column             Non-Null Count  Dtype         \n",
      "---  ------             --------------  -----         \n",
      " 0   customer_id        7043 non-null   object        \n",
      " 1   begin_date         7043 non-null   datetime64[ns]\n",
      " 2   end_date           7043 non-null   object        \n",
      " 3   type               7043 non-null   object        \n",
      " 4   paperless_billing  7043 non-null   bool          \n",
      " 5   payment_method     7043 non-null   object        \n",
      " 6   monthly_charges    7043 non-null   float64       \n",
      " 7   total_charges      7043 non-null   float64       \n",
      " 8   gender             7043 non-null   object        \n",
      " 9   senior_citizen     7043 non-null   bool          \n",
      " 10  partner            7043 non-null   bool          \n",
      " 11  dependents         7043 non-null   bool          \n",
      " 12  internet_service   5517 non-null   object        \n",
      " 13  online_security    5517 non-null   object        \n",
      " 14  online_backup      5517 non-null   object        \n",
      " 15  device_protection  5517 non-null   object        \n",
      " 16  teach_support      5517 non-null   object        \n",
      " 17  streaming_tv       5517 non-null   object        \n",
      " 18  streaming_movies   5517 non-null   object        \n",
      " 19  multiple_lines     6361 non-null   object        \n",
      " 20  begin_date_        7043 non-null   int64         \n",
      " 21  end_date_          7043 non-null   bool          \n",
      "dtypes: bool(5), datetime64[ns](1), float64(2), int64(1), object(13)\n",
      "memory usage: 969.9+ KB\n"
     ]
    }
   ],
   "source": [
    "interconnect_data.info() # me aseguro que los datos han sido cambiados de formato"
   ]
  },
  {
   "cell_type": "markdown",
   "metadata": {},
   "source": [
    "## Columnas no necesarias\n",
    "La columna 'customer_id' no es importante para las predicciones. 'begin_date' y 'end_date' las he modificado en columnas aparte buscando mejores predicciones.\n",
    "\n",
    "Por lo tanto elimino estas columnas pro ahora. Si las necesito mas adelante, estan guardadas en la tabla original 'interconnect_original'."
   ]
  },
  {
   "cell_type": "code",
   "execution_count": 182,
   "metadata": {},
   "outputs": [
    {
     "data": {
      "text/plain": [
       "Index(['type', 'paperless_billing', 'payment_method', 'monthly_charges',\n",
       "       'total_charges', 'gender', 'senior_citizen', 'partner', 'dependents',\n",
       "       'internet_service', 'online_security', 'online_backup',\n",
       "       'device_protection', 'teach_support', 'streaming_tv',\n",
       "       'streaming_movies', 'multiple_lines', 'begin_date_', 'end_date_'],\n",
       "      dtype='object')"
      ]
     },
     "execution_count": 182,
     "metadata": {},
     "output_type": "execute_result"
    }
   ],
   "source": [
    "interconnect_data.drop(['customer_id','begin_date','end_date'],axis=1,inplace=True)\n",
    "interconnect_data.columns\n"
   ]
  },
  {
   "cell_type": "markdown",
   "metadata": {},
   "source": [
    "## Relaciones"
   ]
  },
  {
   "cell_type": "markdown",
   "metadata": {},
   "source": [
    "### Cadenas"
   ]
  },
  {
   "cell_type": "markdown",
   "metadata": {},
   "source": [
    "#### type"
   ]
  },
  {
   "cell_type": "code",
   "execution_count": 108,
   "metadata": {},
   "outputs": [
    {
     "name": "stdout",
     "output_type": "stream",
     "text": [
      "end_date_       False  True \n",
      "type                        \n",
      "Month to month   2220   1655\n",
      "One year         1307    166\n",
      "Two year         1647     48\n"
     ]
    },
    {
     "data": {
      "image/png": "[encoded data removed]",
      "text/plain": [
       "<Figure size 640x480 with 1 Axes>"
      ]
     },
     "metadata": {},
     "output_type": "display_data"
    }
   ],
   "source": [
    "# Crear la tabla de contingencia (tabla cruzada)\n",
    "contingency_table = pd.crosstab(interconnect_data['type'], interconnect_data['end_date_'])\n",
    "\n",
    "# Mostrar la tabla de contingencia\n",
    "#print(\"Tabla de Contingencia:\")\n",
    "print(contingency_table)\n",
    "\n",
    "# Graficar la tabla de contingencia\n",
    "contingency_table.plot(kind='bar', stacked=True)\n",
    "plt.title('Tabla de Contingencia')\n",
    "plt.xlabel('Variable A')\n",
    "plt.ylabel('Frecuencia')\n",
    "plt.xticks(rotation=0)\n",
    "plt.legend(title='Variable B')\n",
    "plt.show()"
   ]
  },
  {
   "cell_type": "markdown",
   "metadata": {},
   "source": [
    "#### payment_method"
   ]
  },
  {
   "cell_type": "code",
   "execution_count": 109,
   "metadata": {},
   "outputs": [
    {
     "name": "stdout",
     "output_type": "stream",
     "text": [
      "end_date_                  False  True \n",
      "payment_method                         \n",
      "Bank transfer (automatic)   1286    258\n",
      "Credit card (automatic)     1290    232\n",
      "Electronic check            1294   1071\n",
      "Mailed check                1304    308\n"
     ]
    },
    {
     "data": {
      "image/png": "[encoded data removed]",
      "text/plain": [
       "<Figure size 640x480 with 1 Axes>"
      ]
     },
     "metadata": {},
     "output_type": "display_data"
    }
   ],
   "source": [
    "# Crear la tabla de contingencia (tabla cruzada)\n",
    "contingency_table = pd.crosstab(interconnect_data['payment_method'], interconnect_data['end_date_'])\n",
    "\n",
    "# Mostrar la tabla de contingencia\n",
    "#print(\"Tabla de Contingencia:\")\n",
    "print(contingency_table)\n",
    "\n",
    "# Graficar la tabla de contingencia\n",
    "contingency_table.plot(kind='bar', stacked=True)\n",
    "plt.title('Tabla de Contingencia')\n",
    "plt.xlabel('Variable A')\n",
    "plt.ylabel('Frecuencia')\n",
    "plt.xticks(rotation=0)\n",
    "plt.legend(title='Variable B')\n",
    "plt.show()"
   ]
  },
  {
   "cell_type": "markdown",
   "metadata": {},
   "source": [
    "#### gender"
   ]
  },
  {
   "cell_type": "code",
   "execution_count": 110,
   "metadata": {},
   "outputs": [
    {
     "name": "stdout",
     "output_type": "stream",
     "text": [
      "end_date_  False  True \n",
      "gender                 \n",
      "Female      2549    939\n",
      "Male        2625    930\n"
     ]
    },
    {
     "data": {
      "image/png": "[encoded data removed]",
      "text/plain": [
       "<Figure size 640x480 with 1 Axes>"
      ]
     },
     "metadata": {},
     "output_type": "display_data"
    }
   ],
   "source": [
    "# Crear la tabla de contingencia (tabla cruzada)\n",
    "contingency_table = pd.crosstab(interconnect_data['gender'], interconnect_data['end_date_'])\n",
    "\n",
    "# Mostrar la tabla de contingencia\n",
    "#print(\"Tabla de Contingencia:\")\n",
    "print(contingency_table)\n",
    "\n",
    "# Graficar la tabla de contingencia\n",
    "contingency_table.plot(kind='bar', stacked=True)\n",
    "plt.title('Tabla de Contingencia')\n",
    "plt.xlabel('Variable A')\n",
    "plt.ylabel('Frecuencia')\n",
    "plt.xticks(rotation=0)\n",
    "plt.legend(title='Variable B')\n",
    "plt.show()"
   ]
  },
  {
   "cell_type": "markdown",
   "metadata": {},
   "source": [
    "#### internet_service"
   ]
  },
  {
   "cell_type": "code",
   "execution_count": 111,
   "metadata": {},
   "outputs": [
    {
     "name": "stdout",
     "output_type": "stream",
     "text": [
      "end_date_         False  True \n",
      "internet_service              \n",
      "DSL                1962    459\n",
      "Fiber optic        1799   1297\n"
     ]
    },
    {
     "data": {
      "image/png": "[encoded data removed]",
      "text/plain": [
       "<Figure size 640x480 with 1 Axes>"
      ]
     },
     "metadata": {},
     "output_type": "display_data"
    }
   ],
   "source": [
    "# Crear la tabla de contingencia (tabla cruzada)\n",
    "contingency_table = pd.crosstab(interconnect_data['internet_service'], interconnect_data['end_date_'])\n",
    "\n",
    "# Mostrar la tabla de contingencia\n",
    "#print(\"Tabla de Contingencia:\")\n",
    "print(contingency_table)\n",
    "\n",
    "# Graficar la tabla de contingencia\n",
    "contingency_table.plot(kind='bar', stacked=True)\n",
    "plt.title('Tabla de Contingencia')\n",
    "plt.xlabel('Variable A')\n",
    "plt.ylabel('Frecuencia')\n",
    "plt.xticks(rotation=0)\n",
    "plt.legend(title='Variable B')\n",
    "plt.show()"
   ]
  },
  {
   "cell_type": "markdown",
   "metadata": {},
   "source": [
    "#### online_security"
   ]
  },
  {
   "cell_type": "code",
   "execution_count": 112,
   "metadata": {},
   "outputs": [
    {
     "name": "stdout",
     "output_type": "stream",
     "text": [
      "end_date_        False  True \n",
      "online_security              \n",
      "False             2037   1461\n",
      "True              1724    295\n"
     ]
    },
    {
     "data": {
      "image/png": "[encoded data removed]",
      "text/plain": [
       "<Figure size 640x480 with 1 Axes>"
      ]
     },
     "metadata": {},
     "output_type": "display_data"
    }
   ],
   "source": [
    "# Crear la tabla de contingencia (tabla cruzada)\n",
    "contingency_table = pd.crosstab(interconnect_data['online_security'], interconnect_data['end_date_'])\n",
    "\n",
    "# Mostrar la tabla de contingencia\n",
    "#print(\"Tabla de Contingencia:\")\n",
    "print(contingency_table)\n",
    "\n",
    "# Graficar la tabla de contingencia\n",
    "contingency_table.plot(kind='bar', stacked=True)\n",
    "plt.title('Tabla de Contingencia')\n",
    "plt.xlabel('Variable A')\n",
    "plt.ylabel('Frecuencia')\n",
    "plt.xticks(rotation=0)\n",
    "plt.legend(title='Variable B')\n",
    "plt.show()"
   ]
  },
  {
   "cell_type": "markdown",
   "metadata": {},
   "source": [
    "#### online_backup"
   ]
  },
  {
   "cell_type": "code",
   "execution_count": 113,
   "metadata": {},
   "outputs": [
    {
     "name": "stdout",
     "output_type": "stream",
     "text": [
      "end_date_      False  True \n",
      "online_backup              \n",
      "False           1855   1233\n",
      "True            1906    523\n"
     ]
    },
    {
     "data": {
      "image/png": "[encoded data removed]",
      "text/plain": [
       "<Figure size 640x480 with 1 Axes>"
      ]
     },
     "metadata": {},
     "output_type": "display_data"
    }
   ],
   "source": [
    "# Crear la tabla de contingencia (tabla cruzada)\n",
    "contingency_table = pd.crosstab(interconnect_data['online_backup'], interconnect_data['end_date_'])\n",
    "\n",
    "# Mostrar la tabla de contingencia\n",
    "#print(\"Tabla de Contingencia:\")\n",
    "print(contingency_table)\n",
    "\n",
    "# Graficar la tabla de contingencia\n",
    "contingency_table.plot(kind='bar', stacked=True)\n",
    "plt.title('Tabla de Contingencia')\n",
    "plt.xlabel('Variable A')\n",
    "plt.ylabel('Frecuencia')\n",
    "plt.xticks(rotation=0)\n",
    "plt.legend(title='Variable B')\n",
    "plt.show()"
   ]
  },
  {
   "cell_type": "markdown",
   "metadata": {},
   "source": [
    "#### device_protection"
   ]
  },
  {
   "cell_type": "code",
   "execution_count": 114,
   "metadata": {},
   "outputs": [
    {
     "name": "stdout",
     "output_type": "stream",
     "text": [
      "end_date_          False  True \n",
      "device_protection              \n",
      "False               1884   1211\n",
      "True                1877    545\n"
     ]
    },
    {
     "data": {
      "image/png": "[encoded data removed]",
      "text/plain": [
       "<Figure size 640x480 with 1 Axes>"
      ]
     },
     "metadata": {},
     "output_type": "display_data"
    }
   ],
   "source": [
    "# Crear la tabla de contingencia (tabla cruzada)\n",
    "contingency_table = pd.crosstab(interconnect_data['device_protection'], interconnect_data['end_date_'])\n",
    "\n",
    "# Mostrar la tabla de contingencia\n",
    "#print(\"Tabla de Contingencia:\")\n",
    "print(contingency_table)\n",
    "\n",
    "# Graficar la tabla de contingencia\n",
    "contingency_table.plot(kind='bar', stacked=True)\n",
    "plt.title('Tabla de Contingencia')\n",
    "plt.xlabel('Variable A')\n",
    "plt.ylabel('Frecuencia')\n",
    "plt.xticks(rotation=0)\n",
    "plt.legend(title='Variable B')\n",
    "plt.show()"
   ]
  },
  {
   "cell_type": "markdown",
   "metadata": {},
   "source": [
    "#### teach_support"
   ]
  },
  {
   "cell_type": "code",
   "execution_count": 115,
   "metadata": {},
   "outputs": [
    {
     "name": "stdout",
     "output_type": "stream",
     "text": [
      "end_date_      False  True \n",
      "teach_support              \n",
      "False           2027   1446\n",
      "True            1734    310\n"
     ]
    },
    {
     "data": {
      "image/png": "[encoded data removed]",
      "text/plain": [
       "<Figure size 640x480 with 1 Axes>"
      ]
     },
     "metadata": {},
     "output_type": "display_data"
    }
   ],
   "source": [
    "# Crear la tabla de contingencia (tabla cruzada)\n",
    "contingency_table = pd.crosstab(interconnect_data['teach_support'], interconnect_data['end_date_'])\n",
    "\n",
    "# Mostrar la tabla de contingencia\n",
    "#print(\"Tabla de Contingencia:\")\n",
    "print(contingency_table)\n",
    "\n",
    "# Graficar la tabla de contingencia\n",
    "contingency_table.plot(kind='bar', stacked=True)\n",
    "plt.title('Tabla de Contingencia')\n",
    "plt.xlabel('Variable A')\n",
    "plt.ylabel('Frecuencia')\n",
    "plt.xticks(rotation=0)\n",
    "plt.legend(title='Variable B')\n",
    "plt.show()"
   ]
  },
  {
   "cell_type": "markdown",
   "metadata": {},
   "source": [
    "#### streaming_tv"
   ]
  },
  {
   "cell_type": "code",
   "execution_count": 116,
   "metadata": {},
   "outputs": [
    {
     "name": "stdout",
     "output_type": "stream",
     "text": [
      "end_date_     False  True \n",
      "streaming_tv              \n",
      "False          1868    942\n",
      "True           1893    814\n"
     ]
    },
    {
     "data": {
      "image/png": "[encoded data removed]",
      "text/plain": [
       "<Figure size 640x480 with 1 Axes>"
      ]
     },
     "metadata": {},
     "output_type": "display_data"
    }
   ],
   "source": [
    "# Crear la tabla de contingencia (tabla cruzada)\n",
    "contingency_table = pd.crosstab(interconnect_data['streaming_tv'], interconnect_data['end_date_'])\n",
    "\n",
    "# Mostrar la tabla de contingencia\n",
    "#print(\"Tabla de Contingencia:\")\n",
    "print(contingency_table)\n",
    "\n",
    "# Graficar la tabla de contingencia\n",
    "contingency_table.plot(kind='bar', stacked=True)\n",
    "plt.title('Tabla de Contingencia')\n",
    "plt.xlabel('Variable A')\n",
    "plt.ylabel('Frecuencia')\n",
    "plt.xticks(rotation=0)\n",
    "plt.legend(title='Variable B')\n",
    "plt.show()"
   ]
  },
  {
   "cell_type": "markdown",
   "metadata": {},
   "source": [
    "#### streaming_movies"
   ]
  },
  {
   "cell_type": "code",
   "execution_count": 117,
   "metadata": {},
   "outputs": [
    {
     "name": "stdout",
     "output_type": "stream",
     "text": [
      "end_date_         False  True \n",
      "streaming_movies              \n",
      "False              1847    938\n",
      "True               1914    818\n"
     ]
    },
    {
     "data": {
      "image/png": "[encoded data removed]",
      "text/plain": [
       "<Figure size 640x480 with 1 Axes>"
      ]
     },
     "metadata": {},
     "output_type": "display_data"
    }
   ],
   "source": [
    "# Crear la tabla de contingencia (tabla cruzada)\n",
    "contingency_table = pd.crosstab(interconnect_data['streaming_movies'], interconnect_data['end_date_'])\n",
    "\n",
    "# Mostrar la tabla de contingencia\n",
    "#print(\"Tabla de Contingencia:\")\n",
    "print(contingency_table)\n",
    "\n",
    "# Graficar la tabla de contingencia\n",
    "contingency_table.plot(kind='bar', stacked=True)\n",
    "plt.title('Tabla de Contingencia')\n",
    "plt.xlabel('Variable A')\n",
    "plt.ylabel('Frecuencia')\n",
    "plt.xticks(rotation=0)\n",
    "plt.legend(title='Variable B')\n",
    "plt.show()"
   ]
  },
  {
   "cell_type": "markdown",
   "metadata": {},
   "source": [
    "#### multiple_lines"
   ]
  },
  {
   "cell_type": "code",
   "execution_count": 118,
   "metadata": {},
   "outputs": [
    {
     "name": "stdout",
     "output_type": "stream",
     "text": [
      "end_date_       False  True \n",
      "multiple_lines              \n",
      "False            2541    849\n",
      "True             2121    850\n"
     ]
    },
    {
     "data": {
      "image/png": "[encoded data removed]",
      "text/plain": [
       "<Figure size 640x480 with 1 Axes>"
      ]
     },
     "metadata": {},
     "output_type": "display_data"
    }
   ],
   "source": [
    "# Crear la tabla de contingencia (tabla cruzada)\n",
    "contingency_table = pd.crosstab(interconnect_data['multiple_lines'], interconnect_data['end_date_'])\n",
    "\n",
    "# Mostrar la tabla de contingencia\n",
    "#print(\"Tabla de Contingencia:\")\n",
    "print(contingency_table)\n",
    "\n",
    "# Graficar la tabla de contingencia\n",
    "contingency_table.plot(kind='bar', stacked=True)\n",
    "plt.title('Tabla de Contingencia')\n",
    "plt.xlabel('Variable A')\n",
    "plt.ylabel('Frecuencia')\n",
    "plt.xticks(rotation=0)\n",
    "plt.legend(title='Variable B')\n",
    "plt.show()"
   ]
  },
  {
   "cell_type": "markdown",
   "metadata": {},
   "source": [
    "### Booleanos\n",
    "Algunas de las variables anteriores, aunque son cadenas, parecen tener muy poca influencia en el resultado True o False de 'end_date'. Mejor los graficaré en un doagrama pastel como variables booleanas: 'gender', 'streaming_movies', 'streaming_tv' y 'multiple_lines'."
   ]
  },
  {
   "cell_type": "markdown",
   "metadata": {},
   "source": [
    "#### paperless_billing"
   ]
  },
  {
   "cell_type": "code",
   "execution_count": 119,
   "metadata": {},
   "outputs": [
    {
     "name": "stdout",
     "output_type": "stream",
     "text": [
      "end_date_          False  True \n",
      "paperless_billing              \n",
      "False               2403    469\n",
      "True                2771   1400\n"
     ]
    },
    {
     "data": {
      "image/png": "[encoded data removed]",
      "text/plain": [
       "<Figure size 640x480 with 1 Axes>"
      ]
     },
     "metadata": {},
     "output_type": "display_data"
    }
   ],
   "source": [
    "# Crear la tabla de contingencia (tabla cruzada)\n",
    "contingency_table = pd.crosstab(interconnect_data['paperless_billing'], interconnect_data['end_date_'])\n",
    "\n",
    "# Mostrar la tabla de contingencia\n",
    "#print(\"Tabla de Contingencia:\")\n",
    "print(contingency_table)\n",
    "\n",
    "contingency_table.plot.pie(y=True)\n",
    "plt.show()"
   ]
  },
  {
   "cell_type": "markdown",
   "metadata": {},
   "source": [
    "#### senior_citizen"
   ]
  },
  {
   "cell_type": "code",
   "execution_count": 120,
   "metadata": {},
   "outputs": [
    {
     "name": "stdout",
     "output_type": "stream",
     "text": [
      "end_date_       False  True \n",
      "senior_citizen              \n",
      "False            4508   1393\n",
      "True              666    476\n"
     ]
    },
    {
     "data": {
      "image/png": "[encoded data removed]",
      "text/plain": [
       "<Figure size 640x480 with 1 Axes>"
      ]
     },
     "metadata": {},
     "output_type": "display_data"
    }
   ],
   "source": [
    "# Crear la tabla de contingencia (tabla cruzada)\n",
    "contingency_table = pd.crosstab(interconnect_data['senior_citizen'], interconnect_data['end_date_'])\n",
    "\n",
    "# Mostrar la tabla de contingencia\n",
    "#print(\"Tabla de Contingencia:\")\n",
    "print(contingency_table)\n",
    "\n",
    "contingency_table.plot.pie(y=True)\n",
    "plt.show()"
   ]
  },
  {
   "cell_type": "markdown",
   "metadata": {},
   "source": [
    "#### partner"
   ]
  },
  {
   "cell_type": "code",
   "execution_count": 121,
   "metadata": {},
   "outputs": [
    {
     "name": "stdout",
     "output_type": "stream",
     "text": [
      "end_date_  False  True \n",
      "partner                \n",
      "False       2441   1200\n",
      "True        2733    669\n"
     ]
    },
    {
     "data": {
      "image/png": "[encoded data removed]",
      "text/plain": [
       "<Figure size 640x480 with 1 Axes>"
      ]
     },
     "metadata": {},
     "output_type": "display_data"
    }
   ],
   "source": [
    "# Crear la tabla de contingencia (tabla cruzada)\n",
    "contingency_table = pd.crosstab(interconnect_data['partner'], interconnect_data['end_date_'])\n",
    "\n",
    "# Mostrar la tabla de contingencia\n",
    "#print(\"Tabla de Contingencia:\")\n",
    "print(contingency_table)\n",
    "\n",
    "contingency_table.plot.pie(y=True)\n",
    "plt.show()"
   ]
  },
  {
   "cell_type": "markdown",
   "metadata": {},
   "source": [
    "#### dependents"
   ]
  },
  {
   "cell_type": "code",
   "execution_count": 122,
   "metadata": {},
   "outputs": [
    {
     "name": "stdout",
     "output_type": "stream",
     "text": [
      "end_date_   False  True \n",
      "dependents              \n",
      "False        3390   1543\n",
      "True         1784    326\n"
     ]
    },
    {
     "data": {
      "image/png": "[encoded data removed]",
      "text/plain": [
       "<Figure size 640x480 with 1 Axes>"
      ]
     },
     "metadata": {},
     "output_type": "display_data"
    }
   ],
   "source": [
    "# Crear la tabla de contingencia (tabla cruzada)\n",
    "contingency_table = pd.crosstab(interconnect_data['dependents'], interconnect_data['end_date_'])\n",
    "\n",
    "# Mostrar la tabla de contingencia\n",
    "#print(\"Tabla de Contingencia:\")\n",
    "print(contingency_table)\n",
    "\n",
    "contingency_table.plot.pie(y=True)\n",
    "plt.show()"
   ]
  },
  {
   "cell_type": "markdown",
   "metadata": {},
   "source": [
    "#### gender"
   ]
  },
  {
   "cell_type": "code",
   "execution_count": 123,
   "metadata": {},
   "outputs": [
    {
     "name": "stdout",
     "output_type": "stream",
     "text": [
      "end_date_  False  True \n",
      "gender                 \n",
      "Female      2549    939\n",
      "Male        2625    930\n"
     ]
    },
    {
     "data": {
      "image/png": "[encoded data removed]",
      "text/plain": [
       "<Figure size 640x480 with 1 Axes>"
      ]
     },
     "metadata": {},
     "output_type": "display_data"
    }
   ],
   "source": [
    "# Crear la tabla de contingencia (tabla cruzada)\n",
    "contingency_table = pd.crosstab(interconnect_data['gender'], interconnect_data['end_date_'])\n",
    "\n",
    "# Mostrar la tabla de contingencia\n",
    "#print(\"Tabla de Contingencia:\")\n",
    "print(contingency_table)\n",
    "\n",
    "contingency_table.plot.pie(y=True)\n",
    "plt.show()"
   ]
  },
  {
   "cell_type": "code",
   "execution_count": 124,
   "metadata": {},
   "outputs": [
    {
     "data": {
      "text/html": [
       "<div>\n",
       "<style scoped>\n",
       "    .dataframe tbody tr th:only-of-type {\n",
       "        vertical-align: middle;\n",
       "    }\n",
       "\n",
       "    .dataframe tbody tr th {\n",
       "        vertical-align: top;\n",
       "    }\n",
       "\n",
       "    .dataframe thead th {\n",
       "        text-align: right;\n",
       "    }\n",
       "</style>\n",
       "<table border=\"1\" class=\"dataframe\">\n",
       "  <thead>\n",
       "    <tr style=\"text-align: right;\">\n",
       "      <th>end_date_</th>\n",
       "      <th>False</th>\n",
       "      <th>True</th>\n",
       "    </tr>\n",
       "  </thead>\n",
       "  <tbody>\n",
       "    <tr>\n",
       "      <th>count</th>\n",
       "      <td>2.000000</td>\n",
       "      <td>2.000000</td>\n",
       "    </tr>\n",
       "    <tr>\n",
       "      <th>mean</th>\n",
       "      <td>2587.000000</td>\n",
       "      <td>934.500000</td>\n",
       "    </tr>\n",
       "    <tr>\n",
       "      <th>std</th>\n",
       "      <td>53.740115</td>\n",
       "      <td>6.363961</td>\n",
       "    </tr>\n",
       "    <tr>\n",
       "      <th>min</th>\n",
       "      <td>2549.000000</td>\n",
       "      <td>930.000000</td>\n",
       "    </tr>\n",
       "    <tr>\n",
       "      <th>25%</th>\n",
       "      <td>2568.000000</td>\n",
       "      <td>932.250000</td>\n",
       "    </tr>\n",
       "    <tr>\n",
       "      <th>50%</th>\n",
       "      <td>2587.000000</td>\n",
       "      <td>934.500000</td>\n",
       "    </tr>\n",
       "    <tr>\n",
       "      <th>75%</th>\n",
       "      <td>2606.000000</td>\n",
       "      <td>936.750000</td>\n",
       "    </tr>\n",
       "    <tr>\n",
       "      <th>max</th>\n",
       "      <td>2625.000000</td>\n",
       "      <td>939.000000</td>\n",
       "    </tr>\n",
       "  </tbody>\n",
       "</table>\n",
       "</div>"
      ],
      "text/plain": [
       "end_date_        False       True \n",
       "count         2.000000    2.000000\n",
       "mean       2587.000000  934.500000\n",
       "std          53.740115    6.363961\n",
       "min        2549.000000  930.000000\n",
       "25%        2568.000000  932.250000\n",
       "50%        2587.000000  934.500000\n",
       "75%        2606.000000  936.750000\n",
       "max        2625.000000  939.000000"
      ]
     },
     "execution_count": 124,
     "metadata": {},
     "output_type": "execute_result"
    }
   ],
   "source": [
    "contingency_table.describe()"
   ]
  },
  {
   "cell_type": "markdown",
   "metadata": {},
   "source": [
    "#### streaming movies"
   ]
  },
  {
   "cell_type": "code",
   "execution_count": 125,
   "metadata": {},
   "outputs": [
    {
     "name": "stdout",
     "output_type": "stream",
     "text": [
      "end_date_         False  True \n",
      "streaming_movies              \n",
      "False              1847    938\n",
      "True               1914    818\n"
     ]
    },
    {
     "data": {
      "image/png": "[encoded data removed]",
      "text/plain": [
       "<Figure size 640x480 with 1 Axes>"
      ]
     },
     "metadata": {},
     "output_type": "display_data"
    }
   ],
   "source": [
    "# Crear la tabla de contingencia (tabla cruzada)\n",
    "contingency_table = pd.crosstab(interconnect_data['streaming_movies'], interconnect_data['end_date_'])\n",
    "\n",
    "# Mostrar la tabla de contingencia\n",
    "#print(\"Tabla de Contingencia:\")\n",
    "print(contingency_table)\n",
    "\n",
    "contingency_table.plot.pie(y=True)\n",
    "plt.show()"
   ]
  },
  {
   "cell_type": "code",
   "execution_count": 126,
   "metadata": {},
   "outputs": [
    {
     "data": {
      "text/html": [
       "<div>\n",
       "<style scoped>\n",
       "    .dataframe tbody tr th:only-of-type {\n",
       "        vertical-align: middle;\n",
       "    }\n",
       "\n",
       "    .dataframe tbody tr th {\n",
       "        vertical-align: top;\n",
       "    }\n",
       "\n",
       "    .dataframe thead th {\n",
       "        text-align: right;\n",
       "    }\n",
       "</style>\n",
       "<table border=\"1\" class=\"dataframe\">\n",
       "  <thead>\n",
       "    <tr style=\"text-align: right;\">\n",
       "      <th>end_date_</th>\n",
       "      <th>False</th>\n",
       "      <th>True</th>\n",
       "    </tr>\n",
       "  </thead>\n",
       "  <tbody>\n",
       "    <tr>\n",
       "      <th>count</th>\n",
       "      <td>2.000000</td>\n",
       "      <td>2.000000</td>\n",
       "    </tr>\n",
       "    <tr>\n",
       "      <th>mean</th>\n",
       "      <td>1880.500000</td>\n",
       "      <td>878.000000</td>\n",
       "    </tr>\n",
       "    <tr>\n",
       "      <th>std</th>\n",
       "      <td>47.376154</td>\n",
       "      <td>84.852814</td>\n",
       "    </tr>\n",
       "    <tr>\n",
       "      <th>min</th>\n",
       "      <td>1847.000000</td>\n",
       "      <td>818.000000</td>\n",
       "    </tr>\n",
       "    <tr>\n",
       "      <th>25%</th>\n",
       "      <td>1863.750000</td>\n",
       "      <td>848.000000</td>\n",
       "    </tr>\n",
       "    <tr>\n",
       "      <th>50%</th>\n",
       "      <td>1880.500000</td>\n",
       "      <td>878.000000</td>\n",
       "    </tr>\n",
       "    <tr>\n",
       "      <th>75%</th>\n",
       "      <td>1897.250000</td>\n",
       "      <td>908.000000</td>\n",
       "    </tr>\n",
       "    <tr>\n",
       "      <th>max</th>\n",
       "      <td>1914.000000</td>\n",
       "      <td>938.000000</td>\n",
       "    </tr>\n",
       "  </tbody>\n",
       "</table>\n",
       "</div>"
      ],
      "text/plain": [
       "end_date_        False       True \n",
       "count         2.000000    2.000000\n",
       "mean       1880.500000  878.000000\n",
       "std          47.376154   84.852814\n",
       "min        1847.000000  818.000000\n",
       "25%        1863.750000  848.000000\n",
       "50%        1880.500000  878.000000\n",
       "75%        1897.250000  908.000000\n",
       "max        1914.000000  938.000000"
      ]
     },
     "execution_count": 126,
     "metadata": {},
     "output_type": "execute_result"
    }
   ],
   "source": [
    "contingency_table.describe()"
   ]
  },
  {
   "cell_type": "markdown",
   "metadata": {},
   "source": [
    "#### streming tv"
   ]
  },
  {
   "cell_type": "code",
   "execution_count": 127,
   "metadata": {},
   "outputs": [
    {
     "name": "stdout",
     "output_type": "stream",
     "text": [
      "end_date_     False  True \n",
      "streaming_tv              \n",
      "False          1868    942\n",
      "True           1893    814\n"
     ]
    },
    {
     "data": {
      "image/png": "[encoded data removed]",
      "text/plain": [
       "<Figure size 640x480 with 1 Axes>"
      ]
     },
     "metadata": {},
     "output_type": "display_data"
    }
   ],
   "source": [
    "# Crear la tabla de contingencia (tabla cruzada)\n",
    "contingency_table = pd.crosstab(interconnect_data['streaming_tv'], interconnect_data['end_date_'])\n",
    "\n",
    "# Mostrar la tabla de contingencia\n",
    "#print(\"Tabla de Contingencia:\")\n",
    "print(contingency_table)\n",
    "\n",
    "contingency_table.plot.pie(y=True)\n",
    "plt.show()"
   ]
  },
  {
   "cell_type": "code",
   "execution_count": 128,
   "metadata": {},
   "outputs": [
    {
     "data": {
      "text/html": [
       "<div>\n",
       "<style scoped>\n",
       "    .dataframe tbody tr th:only-of-type {\n",
       "        vertical-align: middle;\n",
       "    }\n",
       "\n",
       "    .dataframe tbody tr th {\n",
       "        vertical-align: top;\n",
       "    }\n",
       "\n",
       "    .dataframe thead th {\n",
       "        text-align: right;\n",
       "    }\n",
       "</style>\n",
       "<table border=\"1\" class=\"dataframe\">\n",
       "  <thead>\n",
       "    <tr style=\"text-align: right;\">\n",
       "      <th>end_date_</th>\n",
       "      <th>False</th>\n",
       "      <th>True</th>\n",
       "    </tr>\n",
       "  </thead>\n",
       "  <tbody>\n",
       "    <tr>\n",
       "      <th>count</th>\n",
       "      <td>2.00000</td>\n",
       "      <td>2.000000</td>\n",
       "    </tr>\n",
       "    <tr>\n",
       "      <th>mean</th>\n",
       "      <td>1880.50000</td>\n",
       "      <td>878.000000</td>\n",
       "    </tr>\n",
       "    <tr>\n",
       "      <th>std</th>\n",
       "      <td>17.67767</td>\n",
       "      <td>90.509668</td>\n",
       "    </tr>\n",
       "    <tr>\n",
       "      <th>min</th>\n",
       "      <td>1868.00000</td>\n",
       "      <td>814.000000</td>\n",
       "    </tr>\n",
       "    <tr>\n",
       "      <th>25%</th>\n",
       "      <td>1874.25000</td>\n",
       "      <td>846.000000</td>\n",
       "    </tr>\n",
       "    <tr>\n",
       "      <th>50%</th>\n",
       "      <td>1880.50000</td>\n",
       "      <td>878.000000</td>\n",
       "    </tr>\n",
       "    <tr>\n",
       "      <th>75%</th>\n",
       "      <td>1886.75000</td>\n",
       "      <td>910.000000</td>\n",
       "    </tr>\n",
       "    <tr>\n",
       "      <th>max</th>\n",
       "      <td>1893.00000</td>\n",
       "      <td>942.000000</td>\n",
       "    </tr>\n",
       "  </tbody>\n",
       "</table>\n",
       "</div>"
      ],
      "text/plain": [
       "end_date_       False       True \n",
       "count         2.00000    2.000000\n",
       "mean       1880.50000  878.000000\n",
       "std          17.67767   90.509668\n",
       "min        1868.00000  814.000000\n",
       "25%        1874.25000  846.000000\n",
       "50%        1880.50000  878.000000\n",
       "75%        1886.75000  910.000000\n",
       "max        1893.00000  942.000000"
      ]
     },
     "execution_count": 128,
     "metadata": {},
     "output_type": "execute_result"
    }
   ],
   "source": [
    "contingency_table.describe()"
   ]
  },
  {
   "cell_type": "markdown",
   "metadata": {},
   "source": [
    "#### multiple lines"
   ]
  },
  {
   "cell_type": "code",
   "execution_count": 129,
   "metadata": {},
   "outputs": [
    {
     "name": "stdout",
     "output_type": "stream",
     "text": [
      "end_date_       False  True \n",
      "multiple_lines              \n",
      "False            2541    849\n",
      "True             2121    850\n"
     ]
    },
    {
     "data": {
      "image/png": "[encoded data removed]",
      "text/plain": [
       "<Figure size 640x480 with 1 Axes>"
      ]
     },
     "metadata": {},
     "output_type": "display_data"
    }
   ],
   "source": [
    "# Crear la tabla de contingencia (tabla cruzada)\n",
    "contingency_table = pd.crosstab(interconnect_data['multiple_lines'], interconnect_data['end_date_'])\n",
    "\n",
    "# Mostrar la tabla de contingencia\n",
    "#print(\"Tabla de Contingencia:\")\n",
    "print(contingency_table)\n",
    "\n",
    "contingency_table.plot.pie(y=True)\n",
    "plt.show()"
   ]
  },
  {
   "cell_type": "code",
   "execution_count": 130,
   "metadata": {},
   "outputs": [
    {
     "data": {
      "text/html": [
       "<div>\n",
       "<style scoped>\n",
       "    .dataframe tbody tr th:only-of-type {\n",
       "        vertical-align: middle;\n",
       "    }\n",
       "\n",
       "    .dataframe tbody tr th {\n",
       "        vertical-align: top;\n",
       "    }\n",
       "\n",
       "    .dataframe thead th {\n",
       "        text-align: right;\n",
       "    }\n",
       "</style>\n",
       "<table border=\"1\" class=\"dataframe\">\n",
       "  <thead>\n",
       "    <tr style=\"text-align: right;\">\n",
       "      <th>end_date_</th>\n",
       "      <th>False</th>\n",
       "      <th>True</th>\n",
       "    </tr>\n",
       "  </thead>\n",
       "  <tbody>\n",
       "    <tr>\n",
       "      <th>count</th>\n",
       "      <td>2.000000</td>\n",
       "      <td>2.000000</td>\n",
       "    </tr>\n",
       "    <tr>\n",
       "      <th>mean</th>\n",
       "      <td>2331.000000</td>\n",
       "      <td>849.500000</td>\n",
       "    </tr>\n",
       "    <tr>\n",
       "      <th>std</th>\n",
       "      <td>296.984848</td>\n",
       "      <td>0.707107</td>\n",
       "    </tr>\n",
       "    <tr>\n",
       "      <th>min</th>\n",
       "      <td>2121.000000</td>\n",
       "      <td>849.000000</td>\n",
       "    </tr>\n",
       "    <tr>\n",
       "      <th>25%</th>\n",
       "      <td>2226.000000</td>\n",
       "      <td>849.250000</td>\n",
       "    </tr>\n",
       "    <tr>\n",
       "      <th>50%</th>\n",
       "      <td>2331.000000</td>\n",
       "      <td>849.500000</td>\n",
       "    </tr>\n",
       "    <tr>\n",
       "      <th>75%</th>\n",
       "      <td>2436.000000</td>\n",
       "      <td>849.750000</td>\n",
       "    </tr>\n",
       "    <tr>\n",
       "      <th>max</th>\n",
       "      <td>2541.000000</td>\n",
       "      <td>850.000000</td>\n",
       "    </tr>\n",
       "  </tbody>\n",
       "</table>\n",
       "</div>"
      ],
      "text/plain": [
       "end_date_        False       True \n",
       "count         2.000000    2.000000\n",
       "mean       2331.000000  849.500000\n",
       "std         296.984848    0.707107\n",
       "min        2121.000000  849.000000\n",
       "25%        2226.000000  849.250000\n",
       "50%        2331.000000  849.500000\n",
       "75%        2436.000000  849.750000\n",
       "max        2541.000000  850.000000"
      ]
     },
     "execution_count": 130,
     "metadata": {},
     "output_type": "execute_result"
    }
   ],
   "source": [
    "contingency_table.describe()"
   ]
  },
  {
   "cell_type": "markdown",
   "metadata": {},
   "source": [
    "### Flotantes y Fechas"
   ]
  },
  {
   "cell_type": "markdown",
   "metadata": {},
   "source": [
    "#### monthly charges"
   ]
  },
  {
   "cell_type": "code",
   "execution_count": 131,
   "metadata": {},
   "outputs": [
    {
     "name": "stdout",
     "output_type": "stream",
     "text": [
      "end_date_        False  True \n",
      "monthly_charges              \n",
      "18.25                1      0\n",
      "18.40                1      0\n",
      "18.55                1      0\n",
      "18.70                2      0\n",
      "18.75                1      0\n",
      "...                ...    ...\n",
      "118.20               1      0\n",
      "118.35               0      1\n",
      "118.60               2      0\n",
      "118.65               1      0\n",
      "118.75               1      0\n",
      "\n",
      "[1585 rows x 2 columns]\n"
     ]
    },
    {
     "data": {
      "image/png": "[encoded data removed]",
      "text/plain": [
       "<Figure size 640x480 with 1 Axes>"
      ]
     },
     "metadata": {},
     "output_type": "display_data"
    }
   ],
   "source": [
    "# Crear la tabla de contingencia (tabla cruzada)\n",
    "contingency_table = pd.crosstab(interconnect_data['monthly_charges'], interconnect_data['end_date_'])\n",
    "\n",
    "# Mostrar la tabla de contingencia\n",
    "#print(\"Tabla de Contingencia:\")\n",
    "print(contingency_table)\n",
    "\n",
    "contingency_table[False].plot(kind='hist', bins=30)\n",
    "contingency_table[True].plot(kind='hist', bins=30,alpha=0.7)\n",
    "plt.legend(['False', 'True'])\n",
    "plt.show()"
   ]
  },
  {
   "cell_type": "code",
   "execution_count": 132,
   "metadata": {},
   "outputs": [
    {
     "data": {
      "text/html": [
       "<div>\n",
       "<style scoped>\n",
       "    .dataframe tbody tr th:only-of-type {\n",
       "        vertical-align: middle;\n",
       "    }\n",
       "\n",
       "    .dataframe tbody tr th {\n",
       "        vertical-align: top;\n",
       "    }\n",
       "\n",
       "    .dataframe thead th {\n",
       "        text-align: right;\n",
       "    }\n",
       "</style>\n",
       "<table border=\"1\" class=\"dataframe\">\n",
       "  <thead>\n",
       "    <tr style=\"text-align: right;\">\n",
       "      <th>end_date_</th>\n",
       "      <th>False</th>\n",
       "      <th>True</th>\n",
       "    </tr>\n",
       "  </thead>\n",
       "  <tbody>\n",
       "    <tr>\n",
       "      <th>count</th>\n",
       "      <td>1585.000000</td>\n",
       "      <td>1585.000000</td>\n",
       "    </tr>\n",
       "    <tr>\n",
       "      <th>mean</th>\n",
       "      <td>3.264353</td>\n",
       "      <td>1.179180</td>\n",
       "    </tr>\n",
       "    <tr>\n",
       "      <th>std</th>\n",
       "      <td>4.643084</td>\n",
       "      <td>1.455379</td>\n",
       "    </tr>\n",
       "    <tr>\n",
       "      <th>min</th>\n",
       "      <td>0.000000</td>\n",
       "      <td>0.000000</td>\n",
       "    </tr>\n",
       "    <tr>\n",
       "      <th>25%</th>\n",
       "      <td>1.000000</td>\n",
       "      <td>0.000000</td>\n",
       "    </tr>\n",
       "    <tr>\n",
       "      <th>50%</th>\n",
       "      <td>2.000000</td>\n",
       "      <td>1.000000</td>\n",
       "    </tr>\n",
       "    <tr>\n",
       "      <th>75%</th>\n",
       "      <td>4.000000</td>\n",
       "      <td>2.000000</td>\n",
       "    </tr>\n",
       "    <tr>\n",
       "      <th>max</th>\n",
       "      <td>58.000000</td>\n",
       "      <td>13.000000</td>\n",
       "    </tr>\n",
       "  </tbody>\n",
       "</table>\n",
       "</div>"
      ],
      "text/plain": [
       "end_date_        False        True \n",
       "count      1585.000000  1585.000000\n",
       "mean          3.264353     1.179180\n",
       "std           4.643084     1.455379\n",
       "min           0.000000     0.000000\n",
       "25%           1.000000     0.000000\n",
       "50%           2.000000     1.000000\n",
       "75%           4.000000     2.000000\n",
       "max          58.000000    13.000000"
      ]
     },
     "execution_count": 132,
     "metadata": {},
     "output_type": "execute_result"
    }
   ],
   "source": [
    "contingency_table.describe()"
   ]
  },
  {
   "cell_type": "markdown",
   "metadata": {},
   "source": [
    "#### total_charges"
   ]
  },
  {
   "cell_type": "code",
   "execution_count": 133,
   "metadata": {},
   "outputs": [
    {
     "name": "stdout",
     "output_type": "stream",
     "text": [
      "end_date_      False  True \n",
      "total_charges              \n",
      "0.00              11      0\n",
      "18.80              1      0\n",
      "18.85              1      1\n",
      "18.90              1      0\n",
      "19.00              1      0\n",
      "...              ...    ...\n",
      "8564.75            1      0\n",
      "8594.40            1      0\n",
      "8670.10            1      0\n",
      "8672.45            1      0\n",
      "8684.80            0      1\n",
      "\n",
      "[6531 rows x 2 columns]\n"
     ]
    },
    {
     "data": {
      "image/png": "[encoded data removed]",
      "text/plain": [
       "<Figure size 640x480 with 1 Axes>"
      ]
     },
     "metadata": {},
     "output_type": "display_data"
    }
   ],
   "source": [
    "# Crear la tabla de contingencia (tabla cruzada)\n",
    "contingency_table = pd.crosstab(interconnect_data['total_charges'], interconnect_data['end_date_'])\n",
    "\n",
    "# Mostrar la tabla de contingencia\n",
    "#print(\"Tabla de Contingencia:\")\n",
    "print(contingency_table)\n",
    "\n",
    "contingency_table[False].plot(kind='hist', bins=30)\n",
    "contingency_table[True].plot(kind='hist', bins=30,alpha=0.7)\n",
    "plt.legend(['False', 'True'])\n",
    "plt.show()"
   ]
  },
  {
   "cell_type": "code",
   "execution_count": 134,
   "metadata": {},
   "outputs": [
    {
     "data": {
      "text/html": [
       "<div>\n",
       "<style scoped>\n",
       "    .dataframe tbody tr th:only-of-type {\n",
       "        vertical-align: middle;\n",
       "    }\n",
       "\n",
       "    .dataframe tbody tr th {\n",
       "        vertical-align: top;\n",
       "    }\n",
       "\n",
       "    .dataframe thead th {\n",
       "        text-align: right;\n",
       "    }\n",
       "</style>\n",
       "<table border=\"1\" class=\"dataframe\">\n",
       "  <thead>\n",
       "    <tr style=\"text-align: right;\">\n",
       "      <th>end_date_</th>\n",
       "      <th>False</th>\n",
       "      <th>True</th>\n",
       "    </tr>\n",
       "  </thead>\n",
       "  <tbody>\n",
       "    <tr>\n",
       "      <th>count</th>\n",
       "      <td>6531.000000</td>\n",
       "      <td>6531.000000</td>\n",
       "    </tr>\n",
       "    <tr>\n",
       "      <th>mean</th>\n",
       "      <td>0.792222</td>\n",
       "      <td>0.286174</td>\n",
       "    </tr>\n",
       "    <tr>\n",
       "      <th>std</th>\n",
       "      <td>0.518427</td>\n",
       "      <td>0.510853</td>\n",
       "    </tr>\n",
       "    <tr>\n",
       "      <th>min</th>\n",
       "      <td>0.000000</td>\n",
       "      <td>0.000000</td>\n",
       "    </tr>\n",
       "    <tr>\n",
       "      <th>25%</th>\n",
       "      <td>1.000000</td>\n",
       "      <td>0.000000</td>\n",
       "    </tr>\n",
       "    <tr>\n",
       "      <th>50%</th>\n",
       "      <td>1.000000</td>\n",
       "      <td>0.000000</td>\n",
       "    </tr>\n",
       "    <tr>\n",
       "      <th>75%</th>\n",
       "      <td>1.000000</td>\n",
       "      <td>1.000000</td>\n",
       "    </tr>\n",
       "    <tr>\n",
       "      <th>max</th>\n",
       "      <td>11.000000</td>\n",
       "      <td>6.000000</td>\n",
       "    </tr>\n",
       "  </tbody>\n",
       "</table>\n",
       "</div>"
      ],
      "text/plain": [
       "end_date_        False        True \n",
       "count      6531.000000  6531.000000\n",
       "mean          0.792222     0.286174\n",
       "std           0.518427     0.510853\n",
       "min           0.000000     0.000000\n",
       "25%           1.000000     0.000000\n",
       "50%           1.000000     0.000000\n",
       "75%           1.000000     1.000000\n",
       "max          11.000000     6.000000"
      ]
     },
     "execution_count": 134,
     "metadata": {},
     "output_type": "execute_result"
    }
   ],
   "source": [
    "contingency_table.describe()"
   ]
  },
  {
   "cell_type": "code",
   "execution_count": 135,
   "metadata": {},
   "outputs": [
    {
     "data": {
      "text/html": [
       "<div>\n",
       "<style scoped>\n",
       "    .dataframe tbody tr th:only-of-type {\n",
       "        vertical-align: middle;\n",
       "    }\n",
       "\n",
       "    .dataframe tbody tr th {\n",
       "        vertical-align: top;\n",
       "    }\n",
       "\n",
       "    .dataframe thead th {\n",
       "        text-align: right;\n",
       "    }\n",
       "</style>\n",
       "<table border=\"1\" class=\"dataframe\">\n",
       "  <thead>\n",
       "    <tr style=\"text-align: right;\">\n",
       "      <th>end_date_</th>\n",
       "      <th>False</th>\n",
       "      <th>True</th>\n",
       "    </tr>\n",
       "  </thead>\n",
       "  <tbody>\n",
       "    <tr>\n",
       "      <th>count</th>\n",
       "      <td>6531.000000</td>\n",
       "      <td>6531.000000</td>\n",
       "    </tr>\n",
       "    <tr>\n",
       "      <th>mean</th>\n",
       "      <td>0.792222</td>\n",
       "      <td>0.286174</td>\n",
       "    </tr>\n",
       "    <tr>\n",
       "      <th>std</th>\n",
       "      <td>0.518427</td>\n",
       "      <td>0.510853</td>\n",
       "    </tr>\n",
       "    <tr>\n",
       "      <th>min</th>\n",
       "      <td>0.000000</td>\n",
       "      <td>0.000000</td>\n",
       "    </tr>\n",
       "    <tr>\n",
       "      <th>25%</th>\n",
       "      <td>1.000000</td>\n",
       "      <td>0.000000</td>\n",
       "    </tr>\n",
       "    <tr>\n",
       "      <th>50%</th>\n",
       "      <td>1.000000</td>\n",
       "      <td>0.000000</td>\n",
       "    </tr>\n",
       "    <tr>\n",
       "      <th>75%</th>\n",
       "      <td>1.000000</td>\n",
       "      <td>1.000000</td>\n",
       "    </tr>\n",
       "    <tr>\n",
       "      <th>max</th>\n",
       "      <td>11.000000</td>\n",
       "      <td>6.000000</td>\n",
       "    </tr>\n",
       "  </tbody>\n",
       "</table>\n",
       "</div>"
      ],
      "text/plain": [
       "end_date_        False        True \n",
       "count      6531.000000  6531.000000\n",
       "mean          0.792222     0.286174\n",
       "std           0.518427     0.510853\n",
       "min           0.000000     0.000000\n",
       "25%           1.000000     0.000000\n",
       "50%           1.000000     0.000000\n",
       "75%           1.000000     1.000000\n",
       "max          11.000000     6.000000"
      ]
     },
     "execution_count": 135,
     "metadata": {},
     "output_type": "execute_result"
    }
   ],
   "source": [
    "contingency_table.describe()"
   ]
  },
  {
   "cell_type": "markdown",
   "metadata": {},
   "source": [
    "#### begin_date_"
   ]
  },
  {
   "cell_type": "code",
   "execution_count": 136,
   "metadata": {},
   "outputs": [
    {
     "data": {
      "text/plain": [
       "<Axes: ylabel='Frequency'>"
      ]
     },
     "execution_count": 136,
     "metadata": {},
     "output_type": "execute_result"
    },
    {
     "data": {
      "image/png": "[encoded data removed]",
      "text/plain": [
       "<Figure size 640x480 with 1 Axes>"
      ]
     },
     "metadata": {},
     "output_type": "display_data"
    }
   ],
   "source": [
    "interconnect_data['begin_date_'].plot(kind='hist', bins=50)"
   ]
  },
  {
   "cell_type": "markdown",
   "metadata": {},
   "source": [
    "Segun el gráfico, hay muchos clientes nuevos, pero son aun mas los clientes antiguos. Esto puede significar que la mayoria permanecen en la empresa. Pero esto no dice nada, necesito saber cuantos de ellos se han ido y cuantos se han quedado.\n",
    "\n",
    "Haré otro gráfico."
   ]
  },
  {
   "cell_type": "code",
   "execution_count": 137,
   "metadata": {},
   "outputs": [
    {
     "name": "stdout",
     "output_type": "stream",
     "text": [
      "end_date_    False  True \n",
      "begin_date_              \n",
      "0                0      3\n",
      "31               0      2\n",
      "61               0      3\n",
      "92               0      7\n",
      "123            356     10\n",
      "...            ...    ...\n",
      "2191            93    144\n",
      "2222           106    131\n",
      "2252           115    105\n",
      "2283           233      0\n",
      "2314            11      0\n",
      "\n",
      "[77 rows x 2 columns]\n"
     ]
    }
   ],
   "source": [
    "# Crear la tabla de contingencia (tabla cruzada)\n",
    "contingency_table = pd.crosstab(interconnect_data['begin_date_'], interconnect_data['end_date_'])\n",
    "\n",
    "# Mostrar la tabla de contingencia\n",
    "#print(\"Tabla de Contingencia:\")\n",
    "print(contingency_table)"
   ]
  },
  {
   "cell_type": "code",
   "execution_count": 138,
   "metadata": {},
   "outputs": [
    {
     "data": {
      "image/png": "[encoded data removed]",
      "text/plain": [
       "<Figure size 640x480 with 1 Axes>"
      ]
     },
     "metadata": {},
     "output_type": "display_data"
    }
   ],
   "source": [
    "contingency_table[False].plot(kind='hist', bins=30)\n",
    "contingency_table[True].plot(kind='hist', bins=30,alpha=0.7)\n",
    "plt.legend(['False', 'True'])\n",
    "plt.show()"
   ]
  },
  {
   "cell_type": "code",
   "execution_count": 139,
   "metadata": {},
   "outputs": [
    {
     "data": {
      "text/html": [
       "<div>\n",
       "<style scoped>\n",
       "    .dataframe tbody tr th:only-of-type {\n",
       "        vertical-align: middle;\n",
       "    }\n",
       "\n",
       "    .dataframe tbody tr th {\n",
       "        vertical-align: top;\n",
       "    }\n",
       "\n",
       "    .dataframe thead th {\n",
       "        text-align: right;\n",
       "    }\n",
       "</style>\n",
       "<table border=\"1\" class=\"dataframe\">\n",
       "  <thead>\n",
       "    <tr style=\"text-align: right;\">\n",
       "      <th>end_date_</th>\n",
       "      <th>False</th>\n",
       "      <th>True</th>\n",
       "    </tr>\n",
       "  </thead>\n",
       "  <tbody>\n",
       "    <tr>\n",
       "      <th>count</th>\n",
       "      <td>77.000000</td>\n",
       "      <td>77.000000</td>\n",
       "    </tr>\n",
       "    <tr>\n",
       "      <th>mean</th>\n",
       "      <td>67.194805</td>\n",
       "      <td>24.272727</td>\n",
       "    </tr>\n",
       "    <tr>\n",
       "      <th>std</th>\n",
       "      <td>45.686586</td>\n",
       "      <td>31.121847</td>\n",
       "    </tr>\n",
       "    <tr>\n",
       "      <th>min</th>\n",
       "      <td>0.000000</td>\n",
       "      <td>0.000000</td>\n",
       "    </tr>\n",
       "    <tr>\n",
       "      <th>25%</th>\n",
       "      <td>52.000000</td>\n",
       "      <td>9.000000</td>\n",
       "    </tr>\n",
       "    <tr>\n",
       "      <th>50%</th>\n",
       "      <td>59.000000</td>\n",
       "      <td>14.000000</td>\n",
       "    </tr>\n",
       "    <tr>\n",
       "      <th>75%</th>\n",
       "      <td>72.000000</td>\n",
       "      <td>26.000000</td>\n",
       "    </tr>\n",
       "    <tr>\n",
       "      <th>max</th>\n",
       "      <td>356.000000</td>\n",
       "      <td>168.000000</td>\n",
       "    </tr>\n",
       "  </tbody>\n",
       "</table>\n",
       "</div>"
      ],
      "text/plain": [
       "end_date_       False       True \n",
       "count       77.000000   77.000000\n",
       "mean        67.194805   24.272727\n",
       "std         45.686586   31.121847\n",
       "min          0.000000    0.000000\n",
       "25%         52.000000    9.000000\n",
       "50%         59.000000   14.000000\n",
       "75%         72.000000   26.000000\n",
       "max        356.000000  168.000000"
      ]
     },
     "execution_count": 139,
     "metadata": {},
     "output_type": "execute_result"
    }
   ],
   "source": [
    "contingency_table.describe()"
   ]
  },
  {
   "cell_type": "markdown",
   "metadata": {},
   "source": [
    "Bien, esto significa que la mayoria de los clientes que se han ido lo hacen a los 15 o 20 días de haber contratado el servicio. Y si no se retiran, la mayoría permanecen dos meses.\n",
    "**Conclusion: hay una fueret influencia del tiempo en la empresa en la tasa de cancelacion**"
   ]
  },
  {
   "cell_type": "markdown",
   "metadata": {},
   "source": [
    "#### Conclusion\n",
    "Los valores en las columnas 'gender' y 'multiple_lines' parecen tener poca o ninguna influencia en los valores True o False en el target 'end_date'.\n",
    "Los eliminaré de la tabla."
   ]
  },
  {
   "cell_type": "code",
   "execution_count": 140,
   "metadata": {},
   "outputs": [
    {
     "data": {
      "text/plain": [
       "Index(['type', 'paperless_billing', 'payment_method', 'monthly_charges',\n",
       "       'total_charges', 'senior_citizen', 'partner', 'dependents',\n",
       "       'internet_service', 'online_security', 'online_backup',\n",
       "       'device_protection', 'teach_support', 'streaming_tv',\n",
       "       'streaming_movies', 'begin_date_', 'end_date_'],\n",
       "      dtype='object')"
      ]
     },
     "execution_count": 140,
     "metadata": {},
     "output_type": "execute_result"
    }
   ],
   "source": [
    "interconnect_data.drop(['gender','multiple_lines'],axis=1,inplace=True)\n",
    "interconnect_data.columns"
   ]
  },
  {
   "cell_type": "markdown",
   "metadata": {},
   "source": [
    "# Modelado"
   ]
  },
  {
   "cell_type": "markdown",
   "metadata": {},
   "source": [
    "## Equilibrio de clases: target\n",
    "Antes de codificar los datos para que puedan ser procesados por los modelos, revisaré la distribución de las clases positiva y negativa de la característica target 'excited'. Hago esto para tener una idea de cómo entrenar los modelos y mejorarlos."
   ]
  },
  {
   "cell_type": "code",
   "execution_count": 141,
   "metadata": {},
   "outputs": [
    {
     "data": {
      "text/plain": [
       "end_date_\n",
       "False    5174\n",
       "True     1869\n",
       "Name: count, dtype: int64"
      ]
     },
     "execution_count": 141,
     "metadata": {},
     "output_type": "execute_result"
    }
   ],
   "source": [
    "interconnect_data['end_date_'].value_counts()"
   ]
  },
  {
   "cell_type": "markdown",
   "metadata": {},
   "source": [
    "Existe un fuerte desequilibro de clases, es mas rara la clase True. los modelos entrenarán con una mayoría de clases negativas. Esto puede afectar las predicciones."
   ]
  },
  {
   "cell_type": "code",
   "execution_count": 142,
   "metadata": {},
   "outputs": [
    {
     "name": "stdout",
     "output_type": "stream",
     "text": [
      "end_date_\n",
      "False    0.73463\n",
      "True     0.26537\n",
      "Name: proportion, dtype: float64\n"
     ]
    },
    {
     "data": {
      "text/plain": [
       "<Axes: xlabel='end_date_'>"
      ]
     },
     "execution_count": 142,
     "metadata": {},
     "output_type": "execute_result"
    },
    {
     "data": {
      "image/png": "[encoded data removed]",
      "text/plain": [
       "<Figure size 640x480 with 1 Axes>"
      ]
     },
     "metadata": {},
     "output_type": "display_data"
    }
   ],
   "source": [
    "class_frequency = interconnect_data['end_date_'].value_counts(normalize=True)\n",
    "print(class_frequency)\n",
    "class_frequency.plot(kind='bar')"
   ]
  },
  {
   "cell_type": "markdown",
   "metadata": {},
   "source": [
    "## Conjuntos de datos"
   ]
  },
  {
   "cell_type": "markdown",
   "metadata": {},
   "source": [
    "### Sin codificación\n",
    "En las siguientes secciones, la codificación por etiquetas generará algunos datos ausentes por error. Esto puede hacer que los modelos generen error.\n",
    "\n",
    "Para poder imputar datos ausentes, haré la misma división de los datos originales sin codificar en: entrenamiento, validación y prueba.\n",
    "\n",
    "Para asegurarme que los conjuntos de filas son los mismos en todas las divisiones con 'train_test_split()', usaré el mismo parámetro 'random_state'."
   ]
  },
  {
   "cell_type": "code",
   "execution_count": 143,
   "metadata": {},
   "outputs": [],
   "source": [
    "target = interconnect_data['end_date_']\n",
    "features = interconnect_data.drop('end_date_', axis=1)\n",
    "\n",
    "# Voy a separar en prueba y validación\n",
    "features_train, features_valid, target_train, target_valid = train_test_split(features, target, test_size=0.25, random_state=12345)\n",
    "\n",
    "# Para la prueba final, voy a dividir en validacion y prueba\n",
    "features_valid, features_test, target_valid, target_test = train_test_split(features_valid, target_valid, test_size=0.5, random_state=12345)"
   ]
  },
  {
   "cell_type": "markdown",
   "metadata": {},
   "source": [
    "### Codificación Dummy"
   ]
  },
  {
   "cell_type": "code",
   "execution_count": 144,
   "metadata": {},
   "outputs": [],
   "source": [
    "data_ohe = pd.get_dummies(interconnect_data)\n",
    "target = data_ohe['end_date_']\n",
    "features = data_ohe.drop('end_date_', axis=1)\n",
    "\n",
    "#target=interconnect_data['end_date_']\n",
    "#features = interconnect_data.drop('end_date_', axis=1)\n",
    "#features=pd.get_dummies(features)\n",
    "\n",
    "# Voy a separar en prueba y validación\n",
    "features_train_ohe, features_valid_ohe, target_train_ohe, target_valid_ohe = train_test_split(features, target, test_size=0.25, random_state=12345)\n",
    "\n",
    "# Para la prueba final, voy a dividir en validacion y prueba\n",
    "features_valid_ohe, features_test_ohe, target_valid_ohe, target_test_ohe = train_test_split(features_valid_ohe, target_valid_ohe, test_size=0.5, random_state=12345)"
   ]
  },
  {
   "cell_type": "markdown",
   "metadata": {},
   "source": [
    "### Codificación por etiquetas"
   ]
  },
  {
   "cell_type": "code",
   "execution_count": 145,
   "metadata": {},
   "outputs": [],
   "source": [
    "encoder = OrdinalEncoder()\n",
    "\n",
    "data_ordinal = pd.DataFrame(encoder.fit_transform(interconnect_data), columns=interconnect_data.columns)\n",
    "target = data_ordinal['end_date_']\n",
    "features = data_ordinal.drop('end_date_', axis=1)\n",
    "\n",
    "#encoder.fit(interconnect_data)\n",
    "#target=interconnect_data['end_date_']\n",
    "#features = interconnect_data.drop('end_date_', axis=1)\n",
    "#features=pd.DataFrame(encoder.transform(interconnect_data), columns=interconnect_data.columns)\n",
    "\n",
    "\n",
    "# Voy a separar en prueba y validación\n",
    "features_train_ord, features_valid_ord, target_train_ord, target_valid_ord  =train_test_split(features, target, test_size=0.25, random_state=12345)\n",
    "\n",
    "# Para la prueba final, voy a dividir en validacion y prueba\n",
    "features_valid_ord, features_test_ord, target_valid_ord, target_test_ord  =train_test_split(features_valid_ord, target_valid_ord, test_size=0.5, random_state=12345)"
   ]
  },
  {
   "cell_type": "markdown",
   "metadata": {},
   "source": [
    "### Escalado de datos numéricos"
   ]
  },
  {
   "cell_type": "code",
   "execution_count": 146,
   "metadata": {},
   "outputs": [
    {
     "data": {
      "text/html": [
       "<div>\n",
       "<style scoped>\n",
       "    .dataframe tbody tr th:only-of-type {\n",
       "        vertical-align: middle;\n",
       "    }\n",
       "\n",
       "    .dataframe tbody tr th {\n",
       "        vertical-align: top;\n",
       "    }\n",
       "\n",
       "    .dataframe thead th {\n",
       "        text-align: right;\n",
       "    }\n",
       "</style>\n",
       "<table border=\"1\" class=\"dataframe\">\n",
       "  <thead>\n",
       "    <tr style=\"text-align: right;\">\n",
       "      <th></th>\n",
       "      <th>monthly_charges</th>\n",
       "      <th>total_charges</th>\n",
       "      <th>begin_date_</th>\n",
       "    </tr>\n",
       "  </thead>\n",
       "  <tbody>\n",
       "    <tr>\n",
       "      <th>count</th>\n",
       "      <td>7043.000000</td>\n",
       "      <td>7043.000000</td>\n",
       "      <td>7043.000000</td>\n",
       "    </tr>\n",
       "    <tr>\n",
       "      <th>mean</th>\n",
       "      <td>64.761692</td>\n",
       "      <td>2279.734304</td>\n",
       "      <td>1307.542950</td>\n",
       "    </tr>\n",
       "    <tr>\n",
       "      <th>std</th>\n",
       "      <td>30.090047</td>\n",
       "      <td>2266.794470</td>\n",
       "      <td>736.596428</td>\n",
       "    </tr>\n",
       "    <tr>\n",
       "      <th>min</th>\n",
       "      <td>18.250000</td>\n",
       "      <td>0.000000</td>\n",
       "      <td>0.000000</td>\n",
       "    </tr>\n",
       "    <tr>\n",
       "      <th>25%</th>\n",
       "      <td>35.500000</td>\n",
       "      <td>398.550000</td>\n",
       "      <td>608.000000</td>\n",
       "    </tr>\n",
       "    <tr>\n",
       "      <th>50%</th>\n",
       "      <td>70.350000</td>\n",
       "      <td>1394.550000</td>\n",
       "      <td>1431.000000</td>\n",
       "    </tr>\n",
       "    <tr>\n",
       "      <th>75%</th>\n",
       "      <td>89.850000</td>\n",
       "      <td>3786.600000</td>\n",
       "      <td>2008.000000</td>\n",
       "    </tr>\n",
       "    <tr>\n",
       "      <th>max</th>\n",
       "      <td>118.750000</td>\n",
       "      <td>8684.800000</td>\n",
       "      <td>2314.000000</td>\n",
       "    </tr>\n",
       "  </tbody>\n",
       "</table>\n",
       "</div>"
      ],
      "text/plain": [
       "       monthly_charges  total_charges  begin_date_\n",
       "count      7043.000000    7043.000000  7043.000000\n",
       "mean         64.761692    2279.734304  1307.542950\n",
       "std          30.090047    2266.794470   736.596428\n",
       "min          18.250000       0.000000     0.000000\n",
       "25%          35.500000     398.550000   608.000000\n",
       "50%          70.350000    1394.550000  1431.000000\n",
       "75%          89.850000    3786.600000  2008.000000\n",
       "max         118.750000    8684.800000  2314.000000"
      ]
     },
     "execution_count": 146,
     "metadata": {},
     "output_type": "execute_result"
    }
   ],
   "source": [
    "interconnect_data.describe()"
   ]
  },
  {
   "cell_type": "markdown",
   "metadata": {},
   "source": [
    "Los números máximos de las tres columnas son muy diferentes: 118, 8684 y 2314. Esto puede alterar los resultados, pues los modelos pueden asignar mas peso o importancia a 'total_charges', luego a 'begin_date_', y el menos importante sería 'monthly_charges'. Para evitarlo, escalaré estos datos numéricos."
   ]
  },
  {
   "cell_type": "code",
   "execution_count": 147,
   "metadata": {},
   "outputs": [],
   "source": [
    "# Haré una lista con las características numéricas\n",
    "numeric=['monthly_charges','total_charges','begin_date_']\n",
    "\n",
    "# Crearé una isntancia de la clase 'StandardScaler'\n",
    "scaler = StandardScaler()\n",
    "\n",
    "# Entreno la instancia con los conjuntos de datos de características, técnica 'OHE'\n",
    "scaler.fit(features_train_ohe[numeric])\n",
    "scaler.fit(features_valid_ohe[numeric])\n",
    "scaler.fit(features_test_ohe[numeric])\n",
    "\n",
    "# Entreno la instancia con los conjuntos de datos de características, técnica 'Codificación de etiquetas'\n",
    "scaler.fit(features_train_ord[numeric])\n",
    "scaler.fit(features_valid_ord[numeric])\n",
    "scaler.fit(features_test_ord[numeric])\n",
    "\n",
    "# Escalaré estas columnas de los conjuntos de datos de características, codificados con la técnica 'OHE'\n",
    "features_train_ohe[numeric] = scaler.transform(features_train_ohe[numeric])\n",
    "features_valid_ohe[numeric] = scaler.transform(features_valid_ohe[numeric])\n",
    "features_test_ohe[numeric] = scaler.transform(features_test_ohe[numeric])\n",
    "\n",
    "# Y tambien las datos codificados con la técnica 'Codificación de Etiquetas'\n",
    "features_train_ord[numeric] = scaler.transform(features_train_ord[numeric])\n",
    "features_valid_ord[numeric] = scaler.transform(features_valid_ord[numeric])\n",
    "features_test_ord[numeric] = scaler.transform(features_test_ord[numeric])"
   ]
  },
  {
   "cell_type": "markdown",
   "metadata": {},
   "source": [
    "### EDA: Datos codificados\n",
    "Revisaré rápidamente si hay datos ausentes en los nuevos conjuntos de datos codificados"
   ]
  },
  {
   "cell_type": "code",
   "execution_count": 161,
   "metadata": {},
   "outputs": [
    {
     "name": "stdout",
     "output_type": "stream",
     "text": [
      "<class 'pandas.core.frame.DataFrame'>\n",
      "Index: 5282 entries, 845 to 4578\n",
      "Data columns (total 16 columns):\n",
      " #   Column             Non-Null Count  Dtype  \n",
      "---  ------             --------------  -----  \n",
      " 0   type               5282 non-null   float64\n",
      " 1   paperless_billing  5282 non-null   float64\n",
      " 2   payment_method     5282 non-null   float64\n",
      " 3   monthly_charges    5282 non-null   float64\n",
      " 4   total_charges      5282 non-null   float64\n",
      " 5   senior_citizen     5282 non-null   float64\n",
      " 6   partner            5282 non-null   float64\n",
      " 7   dependents         5282 non-null   float64\n",
      " 8   internet_service   4147 non-null   float64\n",
      " 9   online_security    5282 non-null   float64\n",
      " 10  online_backup      5282 non-null   float64\n",
      " 11  device_protection  5282 non-null   float64\n",
      " 12  teach_support      5282 non-null   float64\n",
      " 13  streaming_tv       5282 non-null   float64\n",
      " 14  streaming_movies   5282 non-null   float64\n",
      " 15  begin_date_        5282 non-null   float64\n",
      "dtypes: float64(16)\n",
      "memory usage: 701.5 KB\n"
     ]
    }
   ],
   "source": [
    "features_train_ord.info()"
   ]
  },
  {
   "cell_type": "code",
   "execution_count": 162,
   "metadata": {},
   "outputs": [
    {
     "name": "stdout",
     "output_type": "stream",
     "text": [
      "<class 'pandas.core.frame.DataFrame'>\n",
      "Index: 880 entries, 3616 to 1945\n",
      "Data columns (total 16 columns):\n",
      " #   Column             Non-Null Count  Dtype  \n",
      "---  ------             --------------  -----  \n",
      " 0   type               880 non-null    float64\n",
      " 1   paperless_billing  880 non-null    float64\n",
      " 2   payment_method     880 non-null    float64\n",
      " 3   monthly_charges    880 non-null    float64\n",
      " 4   total_charges      880 non-null    float64\n",
      " 5   senior_citizen     880 non-null    float64\n",
      " 6   partner            880 non-null    float64\n",
      " 7   dependents         880 non-null    float64\n",
      " 8   internet_service   679 non-null    float64\n",
      " 9   online_security    880 non-null    float64\n",
      " 10  online_backup      880 non-null    float64\n",
      " 11  device_protection  880 non-null    float64\n",
      " 12  teach_support      880 non-null    float64\n",
      " 13  streaming_tv       880 non-null    float64\n",
      " 14  streaming_movies   880 non-null    float64\n",
      " 15  begin_date_        880 non-null    float64\n",
      "dtypes: float64(16)\n",
      "memory usage: 116.9 KB\n"
     ]
    }
   ],
   "source": [
    "features_valid_ord.info()"
   ]
  },
  {
   "cell_type": "code",
   "execution_count": 163,
   "metadata": {},
   "outputs": [
    {
     "name": "stdout",
     "output_type": "stream",
     "text": [
      "<class 'pandas.core.frame.DataFrame'>\n",
      "Index: 881 entries, 6267 to 1650\n",
      "Data columns (total 16 columns):\n",
      " #   Column             Non-Null Count  Dtype  \n",
      "---  ------             --------------  -----  \n",
      " 0   type               881 non-null    float64\n",
      " 1   paperless_billing  881 non-null    float64\n",
      " 2   payment_method     881 non-null    float64\n",
      " 3   monthly_charges    881 non-null    float64\n",
      " 4   total_charges      881 non-null    float64\n",
      " 5   senior_citizen     881 non-null    float64\n",
      " 6   partner            881 non-null    float64\n",
      " 7   dependents         881 non-null    float64\n",
      " 8   internet_service   691 non-null    float64\n",
      " 9   online_security    881 non-null    float64\n",
      " 10  online_backup      881 non-null    float64\n",
      " 11  device_protection  881 non-null    float64\n",
      " 12  teach_support      881 non-null    float64\n",
      " 13  streaming_tv       881 non-null    float64\n",
      " 14  streaming_movies   881 non-null    float64\n",
      " 15  begin_date_        881 non-null    float64\n",
      "dtypes: float64(16)\n",
      "memory usage: 117.0 KB\n"
     ]
    }
   ],
   "source": [
    "features_test_ord.info()"
   ]
  },
  {
   "cell_type": "markdown",
   "metadata": {},
   "source": [
    "Efectivamente, hay algunos datos ausentes. Es extraño: solo es la columna 'internet_service', parece que son clientes que no tienen internet, y sin embargo tienen servicios como 'online_security' y 'streaming_tv'. Segun la tabla original 'internet', todos los clientes que tienen este servicio es porque tienen internet. Seguro se trata de un error en el calculo de la codificación de etiquetas.\n",
    "\n",
    "Voy a consultar las tablas sin codificar: 'features_train', 'features_valid' y 'features_test'. Contiene la información que necesito para imputar estos datos ausentes."
   ]
  },
  {
   "cell_type": "code",
   "execution_count": 166,
   "metadata": {},
   "outputs": [
    {
     "data": {
      "text/plain": [
       "Index(['type', 'paperless_billing', 'payment_method', 'monthly_charges',\n",
       "       'total_charges', 'senior_citizen', 'partner', 'dependents',\n",
       "       'internet_service', 'online_security', 'online_backup',\n",
       "       'device_protection', 'teach_support', 'streaming_tv',\n",
       "       'streaming_movies', 'begin_date_', 'internet_service_original'],\n",
       "      dtype='object')"
      ]
     },
     "execution_count": 166,
     "metadata": {},
     "output_type": "execute_result"
    }
   ],
   "source": [
    "features_internet=features_train['internet_service']\n",
    "features_internet.name='internet_service_original'\n",
    "features_concat=pd.concat([features_train_ord,features_internet],axis=1)\n",
    "features_concat.columns"
   ]
  },
  {
   "cell_type": "code",
   "execution_count": 170,
   "metadata": {},
   "outputs": [
    {
     "data": {
      "text/html": [
       "<div>\n",
       "<style scoped>\n",
       "    .dataframe tbody tr th:only-of-type {\n",
       "        vertical-align: middle;\n",
       "    }\n",
       "\n",
       "    .dataframe tbody tr th {\n",
       "        vertical-align: top;\n",
       "    }\n",
       "\n",
       "    .dataframe thead th {\n",
       "        text-align: right;\n",
       "    }\n",
       "</style>\n",
       "<table border=\"1\" class=\"dataframe\">\n",
       "  <thead>\n",
       "    <tr style=\"text-align: right;\">\n",
       "      <th></th>\n",
       "      <th>type</th>\n",
       "      <th>paperless_billing</th>\n",
       "      <th>payment_method</th>\n",
       "      <th>monthly_charges</th>\n",
       "      <th>total_charges</th>\n",
       "      <th>senior_citizen</th>\n",
       "      <th>partner</th>\n",
       "      <th>dependents</th>\n",
       "      <th>internet_service</th>\n",
       "      <th>online_security</th>\n",
       "      <th>online_backup</th>\n",
       "      <th>device_protection</th>\n",
       "      <th>teach_support</th>\n",
       "      <th>streaming_tv</th>\n",
       "      <th>streaming_movies</th>\n",
       "      <th>begin_date_</th>\n",
       "      <th>internet_service_original</th>\n",
       "    </tr>\n",
       "  </thead>\n",
       "  <tbody>\n",
       "    <tr>\n",
       "      <th>845</th>\n",
       "      <td>1.0</td>\n",
       "      <td>0.0</td>\n",
       "      <td>3.0</td>\n",
       "      <td>-1.345028</td>\n",
       "      <td>-0.958274</td>\n",
       "      <td>0.0</td>\n",
       "      <td>1.0</td>\n",
       "      <td>1.0</td>\n",
       "      <td>NaN</td>\n",
       "      <td>2.0</td>\n",
       "      <td>2.0</td>\n",
       "      <td>2.0</td>\n",
       "      <td>2.0</td>\n",
       "      <td>2.0</td>\n",
       "      <td>2.0</td>\n",
       "      <td>0.692617</td>\n",
       "      <td>NaN</td>\n",
       "    </tr>\n",
       "    <tr>\n",
       "      <th>6386</th>\n",
       "      <td>2.0</td>\n",
       "      <td>1.0</td>\n",
       "      <td>1.0</td>\n",
       "      <td>0.617853</td>\n",
       "      <td>1.474827</td>\n",
       "      <td>0.0</td>\n",
       "      <td>1.0</td>\n",
       "      <td>1.0</td>\n",
       "      <td>0.0</td>\n",
       "      <td>1.0</td>\n",
       "      <td>0.0</td>\n",
       "      <td>1.0</td>\n",
       "      <td>1.0</td>\n",
       "      <td>1.0</td>\n",
       "      <td>1.0</td>\n",
       "      <td>-1.630617</td>\n",
       "      <td>DSL</td>\n",
       "    </tr>\n",
       "    <tr>\n",
       "      <th>1194</th>\n",
       "      <td>0.0</td>\n",
       "      <td>0.0</td>\n",
       "      <td>2.0</td>\n",
       "      <td>-0.613717</td>\n",
       "      <td>-0.469605</td>\n",
       "      <td>0.0</td>\n",
       "      <td>0.0</td>\n",
       "      <td>0.0</td>\n",
       "      <td>0.0</td>\n",
       "      <td>0.0</td>\n",
       "      <td>1.0</td>\n",
       "      <td>0.0</td>\n",
       "      <td>0.0</td>\n",
       "      <td>0.0</td>\n",
       "      <td>0.0</td>\n",
       "      <td>0.733375</td>\n",
       "      <td>DSL</td>\n",
       "    </tr>\n",
       "    <tr>\n",
       "      <th>5787</th>\n",
       "      <td>0.0</td>\n",
       "      <td>1.0</td>\n",
       "      <td>2.0</td>\n",
       "      <td>0.785313</td>\n",
       "      <td>0.718773</td>\n",
       "      <td>0.0</td>\n",
       "      <td>0.0</td>\n",
       "      <td>0.0</td>\n",
       "      <td>1.0</td>\n",
       "      <td>0.0</td>\n",
       "      <td>0.0</td>\n",
       "      <td>1.0</td>\n",
       "      <td>1.0</td>\n",
       "      <td>0.0</td>\n",
       "      <td>1.0</td>\n",
       "      <td>-0.285587</td>\n",
       "      <td>Fiber optic</td>\n",
       "    </tr>\n",
       "    <tr>\n",
       "      <th>3585</th>\n",
       "      <td>1.0</td>\n",
       "      <td>0.0</td>\n",
       "      <td>3.0</td>\n",
       "      <td>0.893420</td>\n",
       "      <td>0.735677</td>\n",
       "      <td>1.0</td>\n",
       "      <td>1.0</td>\n",
       "      <td>0.0</td>\n",
       "      <td>1.0</td>\n",
       "      <td>1.0</td>\n",
       "      <td>0.0</td>\n",
       "      <td>0.0</td>\n",
       "      <td>1.0</td>\n",
       "      <td>1.0</td>\n",
       "      <td>0.0</td>\n",
       "      <td>-0.081795</td>\n",
       "      <td>Fiber optic</td>\n",
       "    </tr>\n",
       "  </tbody>\n",
       "</table>\n",
       "</div>"
      ],
      "text/plain": [
       "      type  paperless_billing  payment_method  monthly_charges  total_charges  \\\n",
       "845    1.0                0.0             3.0        -1.345028      -0.958274   \n",
       "6386   2.0                1.0             1.0         0.617853       1.474827   \n",
       "1194   0.0                0.0             2.0        -0.613717      -0.469605   \n",
       "5787   0.0                1.0             2.0         0.785313       0.718773   \n",
       "3585   1.0                0.0             3.0         0.893420       0.735677   \n",
       "\n",
       "      senior_citizen  partner  dependents  internet_service  online_security  \\\n",
       "845              0.0      1.0         1.0               NaN              2.0   \n",
       "6386             0.0      1.0         1.0               0.0              1.0   \n",
       "1194             0.0      0.0         0.0               0.0              0.0   \n",
       "5787             0.0      0.0         0.0               1.0              0.0   \n",
       "3585             1.0      1.0         0.0               1.0              1.0   \n",
       "\n",
       "      online_backup  device_protection  teach_support  streaming_tv  \\\n",
       "845             2.0                2.0            2.0           2.0   \n",
       "6386            0.0                1.0            1.0           1.0   \n",
       "1194            1.0                0.0            0.0           0.0   \n",
       "5787            0.0                1.0            1.0           0.0   \n",
       "3585            0.0                0.0            1.0           1.0   \n",
       "\n",
       "      streaming_movies  begin_date_ internet_service_original  \n",
       "845                2.0     0.692617                       NaN  \n",
       "6386               1.0    -1.630617                       DSL  \n",
       "1194               0.0     0.733375                       DSL  \n",
       "5787               1.0    -0.285587               Fiber optic  \n",
       "3585               0.0    -0.081795               Fiber optic  "
      ]
     },
     "execution_count": 170,
     "metadata": {},
     "output_type": "execute_result"
    }
   ],
   "source": [
    "features_concat.head()"
   ]
  },
  {
   "cell_type": "code",
   "execution_count": 175,
   "metadata": {},
   "outputs": [
    {
     "data": {
      "text/html": [
       "<div>\n",
       "<style scoped>\n",
       "    .dataframe tbody tr th:only-of-type {\n",
       "        vertical-align: middle;\n",
       "    }\n",
       "\n",
       "    .dataframe tbody tr th {\n",
       "        vertical-align: top;\n",
       "    }\n",
       "\n",
       "    .dataframe thead th {\n",
       "        text-align: right;\n",
       "    }\n",
       "</style>\n",
       "<table border=\"1\" class=\"dataframe\">\n",
       "  <thead>\n",
       "    <tr style=\"text-align: right;\">\n",
       "      <th></th>\n",
       "      <th>type</th>\n",
       "      <th>paperless_billing</th>\n",
       "      <th>payment_method</th>\n",
       "      <th>monthly_charges</th>\n",
       "      <th>total_charges</th>\n",
       "      <th>senior_citizen</th>\n",
       "      <th>partner</th>\n",
       "      <th>dependents</th>\n",
       "      <th>internet_service</th>\n",
       "      <th>online_security</th>\n",
       "      <th>online_backup</th>\n",
       "      <th>device_protection</th>\n",
       "      <th>teach_support</th>\n",
       "      <th>streaming_tv</th>\n",
       "      <th>streaming_movies</th>\n",
       "      <th>begin_date_</th>\n",
       "      <th>internet_service_original</th>\n",
       "    </tr>\n",
       "  </thead>\n",
       "  <tbody>\n",
       "  </tbody>\n",
       "</table>\n",
       "</div>"
      ],
      "text/plain": [
       "Empty DataFrame\n",
       "Columns: [type, paperless_billing, payment_method, monthly_charges, total_charges, senior_citizen, partner, dependents, internet_service, online_security, online_backup, device_protection, teach_support, streaming_tv, streaming_movies, begin_date_, internet_service_original]\n",
       "Index: []"
      ]
     },
     "execution_count": 175,
     "metadata": {},
     "output_type": "execute_result"
    }
   ],
   "source": [
    "features_concat[features_concat['internet_service'].isna()\n",
    "                &features_concat['internet_service_original'].notna()]"
   ]
  },
  {
   "cell_type": "code",
   "execution_count": null,
   "metadata": {},
   "outputs": [],
   "source": []
  },
  {
   "cell_type": "markdown",
   "metadata": {},
   "source": [
    "### Conclusión: nombres\n",
    "\n",
    "**Colcusion: Estan listos los conjuntos de datos:*\n",
    "**Para modelos Arbol y Bosque:**\n",
    "- features_train_ord, target_train_ord. Conjuntos de entrenamiento. Datos numéricos escalados. Datos categóricos: codificación de etiquetas.\n",
    "- features_valid_ord, target_valid_ord. Conjuntos de validación. Datos numéricos escalados. Datos categóricos: codificación de etiquetas.\n",
    "- features_test_ord, target_test_ord. Conjuntos de prueba. Datos numéricos escalados. Datos categóricos: codificación de etiquetas.\n",
    "\n",
    "**Para el modelo Regresión Logística:**\n",
    "- features_train_ohe, target_train_ohe. Conjuntos de entrenamiento. Datos numéricos escalados. Datos categóricos: codificación OHE (One-Hot Encoding).\n",
    "- features_valid_ohe, target_valid_ohe. Conjuntos de validación. Datos numéricos escalados. Datos categóricos: codificación OHE.\n",
    "- features_test_ohe, target_test_ohe. Conjuntos de prueba. Datos numéricos escalados. Datos categóricos: codificación OHE."
   ]
  },
  {
   "cell_type": "markdown",
   "metadata": {},
   "source": [
    "## Modelo constante"
   ]
  },
  {
   "cell_type": "markdown",
   "metadata": {},
   "source": [
    "El siguiente es un modelo dummy quees, simplemente, un modelo aleatorio. Debería devolver \"1\" con cierta probabilidad. Probemos el modelo con cuatro valores de probabilidad: 0, la probabilidad de un cliente de darse de baja, 0.5, 1.\n",
    "La probabilidad de un cliente de darse de baja puede definirse como\n",
    "$$\n",
    "P\\{\\text{baja de clientes}\\}=\\frac{\\text{número de clientes que se van}}{\\text{número total de clientes}}.\n",
    "$$"
   ]
  },
  {
   "cell_type": "code",
   "execution_count": 152,
   "metadata": {},
   "outputs": [],
   "source": [
    "def eval_predic_proba(target,predict,prob):\n",
    "    accuracy=accuracy_score(target, predict)\n",
    "    print(f'Exactitud: {accuracy:.2f}')\n",
    "\n",
    "    auc_roc = roc_auc_score(target, prob)\n",
    "    \n",
    "    print(\"AUC_ROC: \", auc_roc)\n",
    "    print()\n",
    "\n",
    "    fpr, tpr, thresholds = roc_curve(target, prob)# < escribe el código aquí >\n",
    "\n",
    "    plt.figure()\n",
    "\n",
    "    # < traza la gráfica >\n",
    "    plt.plot(fpr, tpr)\n",
    "    # Curva ROC para modelo aleatorio (parece una línea recta)\n",
    "    plt.plot([0, 1], [0, 1], linestyle='--')\n",
    "\n",
    "    # < utiliza las funciones plt.xlim() y plt.ylim() para\n",
    "    #   establecer el límite para los ejes de 0 a 1 >\n",
    "    plt.xlim([0.0, 1.0])\n",
    "    plt.ylim([0.0, 1.0])\n",
    "    # < utiliza las funciones plt.xlabel() y plt.ylabel() para\n",
    "    #   nombrar los ejes \"Tasa de falsos positivos\" y \"Tasa de verdaderos positivos\">\n",
    "    plt.xlabel('Tasa de falsos positivos')\n",
    "    plt.ylabel('Tasa de verdaderos positivos')\n",
    "    # < agrega el encabezado \"Curva ROC\" con la función plt.title() >\n",
    "    plt.title('Curva ROC')\n",
    "    plt.show()\n",
    "    "
   ]
  },
  {
   "cell_type": "code",
   "execution_count": 153,
   "metadata": {},
   "outputs": [],
   "source": [
    "# generar la salida de un modelo aleatorio\n",
    "\n",
    "def out_predict(P, size, seed=42):\n",
    "\n",
    "    rng = np.random.default_rng(seed=seed)\n",
    "    return rng.binomial(n=1, p=P, size=size)"
   ]
  },
  {
   "cell_type": "code",
   "execution_count": 154,
   "metadata": {},
   "outputs": [
    {
     "name": "stdout",
     "output_type": "stream",
     "text": [
      "Prediccion: 0.00\n",
      "Exactitud: 0.73\n",
      "AUC_ROC:  0.5\n",
      "\n"
     ]
    },
    {
     "data": {
      "image/png": "[encoded data removed]",
      "text/plain": [
       "<Figure size 640x480 with 1 Axes>"
      ]
     },
     "metadata": {},
     "output_type": "display_data"
    },
    {
     "name": "stdout",
     "output_type": "stream",
     "text": [
      "Prediccion: 0.27\n",
      "Exactitud: 0.62\n",
      "AUC_ROC:  0.5031457964804472\n",
      "\n"
     ]
    },
    {
     "data": {
      "image/png": "[encoded data removed]",
      "text/plain": [
       "<Figure size 640x480 with 1 Axes>"
      ]
     },
     "metadata": {},
     "output_type": "display_data"
    },
    {
     "name": "stdout",
     "output_type": "stream",
     "text": [
      "Prediccion: 0.50\n",
      "Exactitud: 0.50\n",
      "AUC_ROC:  0.4974148947809385\n",
      "\n"
     ]
    },
    {
     "data": {
      "image/png": "[encoded data removed]",
      "text/plain": [
       "<Figure size 640x480 with 1 Axes>"
      ]
     },
     "metadata": {},
     "output_type": "display_data"
    },
    {
     "name": "stdout",
     "output_type": "stream",
     "text": [
      "Prediccion: 1.00\n",
      "Exactitud: 0.27\n",
      "AUC_ROC:  0.5\n",
      "\n"
     ]
    },
    {
     "data": {
      "image/png": "[encoded data removed]",
      "text/plain": [
       "<Figure size 640x480 with 1 Axes>"
      ]
     },
     "metadata": {},
     "output_type": "display_data"
    }
   ],
   "source": [
    "for P in [0, interconnect_data['end_date_'].sum() / len(interconnect_data), 0.5, 1]:\n",
    "\n",
    "    print(f'Prediccion: {P:.2f}')\n",
    "    predictions = out_predict(P,len(interconnect_data))\n",
    "    # este es el modelo constante, aun no calculo probabilidades\n",
    "    probabilities=predictions\n",
    "\n",
    "    eval_predic_proba(target,predictions,probabilities)"
   ]
  },
  {
   "cell_type": "markdown",
   "metadata": {},
   "source": [
    "## Modelo Arbol\n"
   ]
  },
  {
   "cell_type": "markdown",
   "metadata": {},
   "source": [
    "**Colcusion: Estan listos los conjuntos de datos:*\n",
    "**Para modelos Arbol y Bosque:**\n",
    "- features_train_ord, target_train_ord. Conjuntos de entrenamiento. Datos numéricos escalados. Datos categóricos: codificación de etiquetas.\n",
    "- features_valid_ord, target_valid_ord. Conjuntos de validación. Datos numéricos escalados. Datos categóricos: codificación de etiquetas.\n",
    "- features_test_ord, target_test_ord. Conjuntos de prueba. Datos numéricos escalados. Datos categóricos: codificación de etiquetas."
   ]
  },
  {
   "cell_type": "code",
   "execution_count": 155,
   "metadata": {},
   "outputs": [
    {
     "name": "stdout",
     "output_type": "stream",
     "text": [
      "<class 'pandas.core.frame.DataFrame'>\n",
      "Index: 5282 entries, 845 to 4578\n",
      "Data columns (total 16 columns):\n",
      " #   Column             Non-Null Count  Dtype  \n",
      "---  ------             --------------  -----  \n",
      " 0   type               5282 non-null   float64\n",
      " 1   paperless_billing  5282 non-null   float64\n",
      " 2   payment_method     5282 non-null   float64\n",
      " 3   monthly_charges    5282 non-null   float64\n",
      " 4   total_charges      5282 non-null   float64\n",
      " 5   senior_citizen     5282 non-null   float64\n",
      " 6   partner            5282 non-null   float64\n",
      " 7   dependents         5282 non-null   float64\n",
      " 8   internet_service   4147 non-null   float64\n",
      " 9   online_security    5282 non-null   float64\n",
      " 10  online_backup      5282 non-null   float64\n",
      " 11  device_protection  5282 non-null   float64\n",
      " 12  teach_support      5282 non-null   float64\n",
      " 13  streaming_tv       5282 non-null   float64\n",
      " 14  streaming_movies   5282 non-null   float64\n",
      " 15  begin_date_        5282 non-null   float64\n",
      "dtypes: float64(16)\n",
      "memory usage: 701.5 KB\n"
     ]
    }
   ],
   "source": [
    "features_train_ord.info()\n"
   ]
  },
  {
   "cell_type": "code",
   "execution_count": 156,
   "metadata": {},
   "outputs": [
    {
     "name": "stdout",
     "output_type": "stream",
     "text": [
      "<class 'pandas.core.frame.DataFrame'>\n",
      "Index: 881 entries, 6267 to 1650\n",
      "Data columns (total 16 columns):\n",
      " #   Column             Non-Null Count  Dtype  \n",
      "---  ------             --------------  -----  \n",
      " 0   type               881 non-null    float64\n",
      " 1   paperless_billing  881 non-null    float64\n",
      " 2   payment_method     881 non-null    float64\n",
      " 3   monthly_charges    881 non-null    float64\n",
      " 4   total_charges      881 non-null    float64\n",
      " 5   senior_citizen     881 non-null    float64\n",
      " 6   partner            881 non-null    float64\n",
      " 7   dependents         881 non-null    float64\n",
      " 8   internet_service   691 non-null    float64\n",
      " 9   online_security    881 non-null    float64\n",
      " 10  online_backup      881 non-null    float64\n",
      " 11  device_protection  881 non-null    float64\n",
      " 12  teach_support      881 non-null    float64\n",
      " 13  streaming_tv       881 non-null    float64\n",
      " 14  streaming_movies   881 non-null    float64\n",
      " 15  begin_date_        881 non-null    float64\n",
      "dtypes: float64(16)\n",
      "memory usage: 117.0 KB\n"
     ]
    }
   ],
   "source": [
    "features_test_ord.info()"
   ]
  },
  {
   "cell_type": "code",
   "execution_count": 157,
   "metadata": {},
   "outputs": [
    {
     "data": {
      "text/plain": [
       "array([nan,  0.,  1.])"
      ]
     },
     "execution_count": 157,
     "metadata": {},
     "output_type": "execute_result"
    }
   ],
   "source": [
    "features_train_ord['internet_service'].unique()"
   ]
  },
  {
   "cell_type": "code",
   "execution_count": 158,
   "metadata": {},
   "outputs": [
    {
     "data": {
      "text/html": [
       "<div>\n",
       "<style scoped>\n",
       "    .dataframe tbody tr th:only-of-type {\n",
       "        vertical-align: middle;\n",
       "    }\n",
       "\n",
       "    .dataframe tbody tr th {\n",
       "        vertical-align: top;\n",
       "    }\n",
       "\n",
       "    .dataframe thead th {\n",
       "        text-align: right;\n",
       "    }\n",
       "</style>\n",
       "<table border=\"1\" class=\"dataframe\">\n",
       "  <thead>\n",
       "    <tr style=\"text-align: right;\">\n",
       "      <th></th>\n",
       "      <th>type</th>\n",
       "      <th>paperless_billing</th>\n",
       "      <th>payment_method</th>\n",
       "      <th>monthly_charges</th>\n",
       "      <th>total_charges</th>\n",
       "      <th>senior_citizen</th>\n",
       "      <th>partner</th>\n",
       "      <th>dependents</th>\n",
       "      <th>internet_service</th>\n",
       "      <th>online_security</th>\n",
       "      <th>online_backup</th>\n",
       "      <th>device_protection</th>\n",
       "      <th>teach_support</th>\n",
       "      <th>streaming_tv</th>\n",
       "      <th>streaming_movies</th>\n",
       "      <th>begin_date_</th>\n",
       "    </tr>\n",
       "  </thead>\n",
       "  <tbody>\n",
       "    <tr>\n",
       "      <th>845</th>\n",
       "      <td>1.0</td>\n",
       "      <td>0.0</td>\n",
       "      <td>3.0</td>\n",
       "      <td>-1.345028</td>\n",
       "      <td>-0.958274</td>\n",
       "      <td>0.0</td>\n",
       "      <td>1.0</td>\n",
       "      <td>1.0</td>\n",
       "      <td>NaN</td>\n",
       "      <td>2.0</td>\n",
       "      <td>2.0</td>\n",
       "      <td>2.0</td>\n",
       "      <td>2.0</td>\n",
       "      <td>2.0</td>\n",
       "      <td>2.0</td>\n",
       "      <td>0.692617</td>\n",
       "    </tr>\n",
       "    <tr>\n",
       "      <th>3968</th>\n",
       "      <td>2.0</td>\n",
       "      <td>0.0</td>\n",
       "      <td>0.0</td>\n",
       "      <td>-1.366226</td>\n",
       "      <td>0.057482</td>\n",
       "      <td>0.0</td>\n",
       "      <td>1.0</td>\n",
       "      <td>0.0</td>\n",
       "      <td>NaN</td>\n",
       "      <td>2.0</td>\n",
       "      <td>2.0</td>\n",
       "      <td>2.0</td>\n",
       "      <td>2.0</td>\n",
       "      <td>2.0</td>\n",
       "      <td>2.0</td>\n",
       "      <td>-1.630617</td>\n",
       "    </tr>\n",
       "    <tr>\n",
       "      <th>658</th>\n",
       "      <td>1.0</td>\n",
       "      <td>0.0</td>\n",
       "      <td>3.0</td>\n",
       "      <td>-1.374705</td>\n",
       "      <td>-1.484337</td>\n",
       "      <td>0.0</td>\n",
       "      <td>1.0</td>\n",
       "      <td>1.0</td>\n",
       "      <td>NaN</td>\n",
       "      <td>2.0</td>\n",
       "      <td>2.0</td>\n",
       "      <td>2.0</td>\n",
       "      <td>2.0</td>\n",
       "      <td>2.0</td>\n",
       "      <td>2.0</td>\n",
       "      <td>1.181719</td>\n",
       "    </tr>\n",
       "    <tr>\n",
       "      <th>5326</th>\n",
       "      <td>0.0</td>\n",
       "      <td>1.0</td>\n",
       "      <td>2.0</td>\n",
       "      <td>-1.368346</td>\n",
       "      <td>-0.969543</td>\n",
       "      <td>0.0</td>\n",
       "      <td>1.0</td>\n",
       "      <td>1.0</td>\n",
       "      <td>NaN</td>\n",
       "      <td>2.0</td>\n",
       "      <td>2.0</td>\n",
       "      <td>2.0</td>\n",
       "      <td>2.0</td>\n",
       "      <td>2.0</td>\n",
       "      <td>2.0</td>\n",
       "      <td>0.529583</td>\n",
       "    </tr>\n",
       "    <tr>\n",
       "      <th>3237</th>\n",
       "      <td>2.0</td>\n",
       "      <td>1.0</td>\n",
       "      <td>1.0</td>\n",
       "      <td>-1.374705</td>\n",
       "      <td>-0.065966</td>\n",
       "      <td>0.0</td>\n",
       "      <td>1.0</td>\n",
       "      <td>1.0</td>\n",
       "      <td>NaN</td>\n",
       "      <td>2.0</td>\n",
       "      <td>2.0</td>\n",
       "      <td>2.0</td>\n",
       "      <td>2.0</td>\n",
       "      <td>2.0</td>\n",
       "      <td>2.0</td>\n",
       "      <td>-1.345308</td>\n",
       "    </tr>\n",
       "    <tr>\n",
       "      <th>...</th>\n",
       "      <td>...</td>\n",
       "      <td>...</td>\n",
       "      <td>...</td>\n",
       "      <td>...</td>\n",
       "      <td>...</td>\n",
       "      <td>...</td>\n",
       "      <td>...</td>\n",
       "      <td>...</td>\n",
       "      <td>...</td>\n",
       "      <td>...</td>\n",
       "      <td>...</td>\n",
       "      <td>...</td>\n",
       "      <td>...</td>\n",
       "      <td>...</td>\n",
       "      <td>...</td>\n",
       "      <td>...</td>\n",
       "    </tr>\n",
       "    <tr>\n",
       "      <th>4483</th>\n",
       "      <td>2.0</td>\n",
       "      <td>0.0</td>\n",
       "      <td>1.0</td>\n",
       "      <td>-1.209365</td>\n",
       "      <td>0.263911</td>\n",
       "      <td>0.0</td>\n",
       "      <td>1.0</td>\n",
       "      <td>0.0</td>\n",
       "      <td>NaN</td>\n",
       "      <td>2.0</td>\n",
       "      <td>2.0</td>\n",
       "      <td>2.0</td>\n",
       "      <td>2.0</td>\n",
       "      <td>2.0</td>\n",
       "      <td>2.0</td>\n",
       "      <td>-1.426825</td>\n",
       "    </tr>\n",
       "    <tr>\n",
       "      <th>3511</th>\n",
       "      <td>2.0</td>\n",
       "      <td>0.0</td>\n",
       "      <td>3.0</td>\n",
       "      <td>-1.251760</td>\n",
       "      <td>-0.054697</td>\n",
       "      <td>0.0</td>\n",
       "      <td>0.0</td>\n",
       "      <td>0.0</td>\n",
       "      <td>NaN</td>\n",
       "      <td>2.0</td>\n",
       "      <td>2.0</td>\n",
       "      <td>2.0</td>\n",
       "      <td>2.0</td>\n",
       "      <td>2.0</td>\n",
       "      <td>2.0</td>\n",
       "      <td>-0.856206</td>\n",
       "    </tr>\n",
       "    <tr>\n",
       "      <th>1674</th>\n",
       "      <td>2.0</td>\n",
       "      <td>0.0</td>\n",
       "      <td>3.0</td>\n",
       "      <td>-1.230562</td>\n",
       "      <td>-0.602273</td>\n",
       "      <td>0.0</td>\n",
       "      <td>1.0</td>\n",
       "      <td>1.0</td>\n",
       "      <td>NaN</td>\n",
       "      <td>2.0</td>\n",
       "      <td>2.0</td>\n",
       "      <td>2.0</td>\n",
       "      <td>2.0</td>\n",
       "      <td>2.0</td>\n",
       "      <td>2.0</td>\n",
       "      <td>0.366549</td>\n",
       "    </tr>\n",
       "    <tr>\n",
       "      <th>4809</th>\n",
       "      <td>0.0</td>\n",
       "      <td>1.0</td>\n",
       "      <td>0.0</td>\n",
       "      <td>-1.355627</td>\n",
       "      <td>-1.520705</td>\n",
       "      <td>0.0</td>\n",
       "      <td>1.0</td>\n",
       "      <td>0.0</td>\n",
       "      <td>NaN</td>\n",
       "      <td>2.0</td>\n",
       "      <td>2.0</td>\n",
       "      <td>2.0</td>\n",
       "      <td>2.0</td>\n",
       "      <td>2.0</td>\n",
       "      <td>2.0</td>\n",
       "      <td>1.263236</td>\n",
       "    </tr>\n",
       "    <tr>\n",
       "      <th>3429</th>\n",
       "      <td>1.0</td>\n",
       "      <td>0.0</td>\n",
       "      <td>0.0</td>\n",
       "      <td>-1.387423</td>\n",
       "      <td>-0.268298</td>\n",
       "      <td>0.0</td>\n",
       "      <td>1.0</td>\n",
       "      <td>1.0</td>\n",
       "      <td>NaN</td>\n",
       "      <td>2.0</td>\n",
       "      <td>2.0</td>\n",
       "      <td>2.0</td>\n",
       "      <td>2.0</td>\n",
       "      <td>2.0</td>\n",
       "      <td>2.0</td>\n",
       "      <td>-0.856206</td>\n",
       "    </tr>\n",
       "  </tbody>\n",
       "</table>\n",
       "<p>1135 rows × 16 columns</p>\n",
       "</div>"
      ],
      "text/plain": [
       "      type  paperless_billing  payment_method  monthly_charges  total_charges  \\\n",
       "845    1.0                0.0             3.0        -1.345028      -0.958274   \n",
       "3968   2.0                0.0             0.0        -1.366226       0.057482   \n",
       "658    1.0                0.0             3.0        -1.374705      -1.484337   \n",
       "5326   0.0                1.0             2.0        -1.368346      -0.969543   \n",
       "3237   2.0                1.0             1.0        -1.374705      -0.065966   \n",
       "...    ...                ...             ...              ...            ...   \n",
       "4483   2.0                0.0             1.0        -1.209365       0.263911   \n",
       "3511   2.0                0.0             3.0        -1.251760      -0.054697   \n",
       "1674   2.0                0.0             3.0        -1.230562      -0.602273   \n",
       "4809   0.0                1.0             0.0        -1.355627      -1.520705   \n",
       "3429   1.0                0.0             0.0        -1.387423      -0.268298   \n",
       "\n",
       "      senior_citizen  partner  dependents  internet_service  online_security  \\\n",
       "845              0.0      1.0         1.0               NaN              2.0   \n",
       "3968             0.0      1.0         0.0               NaN              2.0   \n",
       "658              0.0      1.0         1.0               NaN              2.0   \n",
       "5326             0.0      1.0         1.0               NaN              2.0   \n",
       "3237             0.0      1.0         1.0               NaN              2.0   \n",
       "...              ...      ...         ...               ...              ...   \n",
       "4483             0.0      1.0         0.0               NaN              2.0   \n",
       "3511             0.0      0.0         0.0               NaN              2.0   \n",
       "1674             0.0      1.0         1.0               NaN              2.0   \n",
       "4809             0.0      1.0         0.0               NaN              2.0   \n",
       "3429             0.0      1.0         1.0               NaN              2.0   \n",
       "\n",
       "      online_backup  device_protection  teach_support  streaming_tv  \\\n",
       "845             2.0                2.0            2.0           2.0   \n",
       "3968            2.0                2.0            2.0           2.0   \n",
       "658             2.0                2.0            2.0           2.0   \n",
       "5326            2.0                2.0            2.0           2.0   \n",
       "3237            2.0                2.0            2.0           2.0   \n",
       "...             ...                ...            ...           ...   \n",
       "4483            2.0                2.0            2.0           2.0   \n",
       "3511            2.0                2.0            2.0           2.0   \n",
       "1674            2.0                2.0            2.0           2.0   \n",
       "4809            2.0                2.0            2.0           2.0   \n",
       "3429            2.0                2.0            2.0           2.0   \n",
       "\n",
       "      streaming_movies  begin_date_  \n",
       "845                2.0     0.692617  \n",
       "3968               2.0    -1.630617  \n",
       "658                2.0     1.181719  \n",
       "5326               2.0     0.529583  \n",
       "3237               2.0    -1.345308  \n",
       "...                ...          ...  \n",
       "4483               2.0    -1.426825  \n",
       "3511               2.0    -0.856206  \n",
       "1674               2.0     0.366549  \n",
       "4809               2.0     1.263236  \n",
       "3429               2.0    -0.856206  \n",
       "\n",
       "[1135 rows x 16 columns]"
      ]
     },
     "execution_count": 158,
     "metadata": {},
     "output_type": "execute_result"
    }
   ],
   "source": [
    "features_train_ord[features_train_ord['internet_service'].isna()]"
   ]
  },
  {
   "cell_type": "code",
   "execution_count": 159,
   "metadata": {},
   "outputs": [
    {
     "name": "stdout",
     "output_type": "stream",
     "text": [
      "Exactitud del mejor modelo Arbol: 0.7056818181818182. Profundidad: 9. Tiempo: 0.025886058807373047. AUC_ROC: 0.8054133259241618.\n"
     ]
    }
   ],
   "source": [
    "# Voy a probarlo con el conjunto de validación, técnica 'Codificacion de Etiquetas' \n",
    "# Probaré diferentes valores de profundidad 'max_depth'\n",
    "best_score = 0\n",
    "#best_depth = 0\n",
    "for depth in range(1, 10):\n",
    "    # mediré el tiempo para saber qué tan rápido es el modelo\n",
    "    inicio = timer.time()\n",
    "    tree_model = DecisionTreeClassifier(random_state=5, max_depth=depth,class_weight='balanced')\n",
    "    tree_model.fit(features_train_ord, target_train_ord)\n",
    "    tree_predictions=tree_model.predict(features_valid_ord)\n",
    "    score=accuracy_score(target_valid_ord,tree_predictions)\n",
    "    #score = tree_model.score(features_valid_ord, target_valid_ord)\n",
    "    fin = timer.time()\n",
    "    # calculo la diferencia de tiempo\n",
    "    t=fin-inicio\n",
    "    if score > best_score:\n",
    "        best_tree_rstate=5\n",
    "        best_tree_score = score\n",
    "        best_tree_depth=depth\n",
    "        # Guardaré algunos datos mas sobre el modelo, los necesitaré mas adelante: predictions, probabilities, f1 y auc_roc\n",
    "        best_tree_predictions=tree_predictions\n",
    "        best_tree_probabilities=tree_model.predict_proba(features_valid_ord)\n",
    "        best_tree_auc_roc = roc_auc_score(target_valid_ord, best_tree_probabilities[:, 1])\n",
    "        #guardo el tiempo que tarda en trabajar el mejor modelo\n",
    "        best_tree_time=t\n",
    "\n",
    "print(f\"Exactitud del mejor modelo Arbol: {best_tree_score}. Profundidad: {best_tree_depth}. Tiempo: {best_tree_time}. AUC_ROC: {best_tree_auc_roc}.\")"
   ]
  },
  {
   "cell_type": "markdown",
   "metadata": {},
   "source": [
    "## Modelo Bosque"
   ]
  },
  {
   "cell_type": "code",
   "execution_count": 160,
   "metadata": {},
   "outputs": [
    {
     "ename": "ValueError",
     "evalue": "Input X contains NaN.\nRandomForestClassifier does not accept missing values encoded as NaN natively. For supervised learning, you might want to consider sklearn.ensemble.HistGradientBoostingClassifier and Regressor which accept missing values encoded as NaNs natively. Alternatively, it is possible to preprocess the data, for instance by using an imputer transformer in a pipeline or drop samples with missing values. See https://scikit-learn.org/stable/modules/impute.html You can find a list of all estimators that handle NaN values at the following page: https://scikit-learn.org/stable/modules/impute.html#estimators-that-handle-nan-values",
     "output_type": "error",
     "traceback": [
      "\u001b[1;31m---------------------------------------------------------------------------\u001b[0m",
      "\u001b[1;31mValueError\u001b[0m                                Traceback (most recent call last)",
      "Cell \u001b[1;32mIn[160], line 8\u001b[0m\n\u001b[0;32m      6\u001b[0m inicio \u001b[38;5;241m=\u001b[39m timer\u001b[38;5;241m.\u001b[39mtime()\n\u001b[0;32m      7\u001b[0m forest_model \u001b[38;5;241m=\u001b[39m RandomForestClassifier(random_state\u001b[38;5;241m=\u001b[39m\u001b[38;5;241m5\u001b[39m, n_estimators\u001b[38;5;241m=\u001b[39mest)\n\u001b[1;32m----> 8\u001b[0m forest_model\u001b[38;5;241m.\u001b[39mfit(features_train_ord, target_train_ord)\n\u001b[0;32m      9\u001b[0m forest_predictions\u001b[38;5;241m=\u001b[39mforest_model\u001b[38;5;241m.\u001b[39mpredict(features_valid_ord)\n\u001b[0;32m     10\u001b[0m score\u001b[38;5;241m=\u001b[39maccuracy_score(target_valid_ord,forest_predictions)\n",
      "File \u001b[1;32md:\\Georgina\\Anaconda_\\Lib\\site-packages\\sklearn\\base.py:1151\u001b[0m, in \u001b[0;36m_fit_context.<locals>.decorator.<locals>.wrapper\u001b[1;34m(estimator, *args, **kwargs)\u001b[0m\n\u001b[0;32m   1144\u001b[0m     estimator\u001b[38;5;241m.\u001b[39m_validate_params()\n\u001b[0;32m   1146\u001b[0m \u001b[38;5;28;01mwith\u001b[39;00m config_context(\n\u001b[0;32m   1147\u001b[0m     skip_parameter_validation\u001b[38;5;241m=\u001b[39m(\n\u001b[0;32m   1148\u001b[0m         prefer_skip_nested_validation \u001b[38;5;129;01mor\u001b[39;00m global_skip_validation\n\u001b[0;32m   1149\u001b[0m     )\n\u001b[0;32m   1150\u001b[0m ):\n\u001b[1;32m-> 1151\u001b[0m     \u001b[38;5;28;01mreturn\u001b[39;00m fit_method(estimator, \u001b[38;5;241m*\u001b[39margs, \u001b[38;5;241m*\u001b[39m\u001b[38;5;241m*\u001b[39mkwargs)\n",
      "File \u001b[1;32md:\\Georgina\\Anaconda_\\Lib\\site-packages\\sklearn\\ensemble\\_forest.py:348\u001b[0m, in \u001b[0;36mBaseForest.fit\u001b[1;34m(self, X, y, sample_weight)\u001b[0m\n\u001b[0;32m    346\u001b[0m \u001b[38;5;28;01mif\u001b[39;00m issparse(y):\n\u001b[0;32m    347\u001b[0m     \u001b[38;5;28;01mraise\u001b[39;00m \u001b[38;5;167;01mValueError\u001b[39;00m(\u001b[38;5;124m\"\u001b[39m\u001b[38;5;124msparse multilabel-indicator for y is not supported.\u001b[39m\u001b[38;5;124m\"\u001b[39m)\n\u001b[1;32m--> 348\u001b[0m X, y \u001b[38;5;241m=\u001b[39m \u001b[38;5;28mself\u001b[39m\u001b[38;5;241m.\u001b[39m_validate_data(\n\u001b[0;32m    349\u001b[0m     X, y, multi_output\u001b[38;5;241m=\u001b[39m\u001b[38;5;28;01mTrue\u001b[39;00m, accept_sparse\u001b[38;5;241m=\u001b[39m\u001b[38;5;124m\"\u001b[39m\u001b[38;5;124mcsc\u001b[39m\u001b[38;5;124m\"\u001b[39m, dtype\u001b[38;5;241m=\u001b[39mDTYPE\n\u001b[0;32m    350\u001b[0m )\n\u001b[0;32m    351\u001b[0m \u001b[38;5;28;01mif\u001b[39;00m sample_weight \u001b[38;5;129;01mis\u001b[39;00m \u001b[38;5;129;01mnot\u001b[39;00m \u001b[38;5;28;01mNone\u001b[39;00m:\n\u001b[0;32m    352\u001b[0m     sample_weight \u001b[38;5;241m=\u001b[39m _check_sample_weight(sample_weight, X)\n",
      "File \u001b[1;32md:\\Georgina\\Anaconda_\\Lib\\site-packages\\sklearn\\base.py:621\u001b[0m, in \u001b[0;36mBaseEstimator._validate_data\u001b[1;34m(self, X, y, reset, validate_separately, cast_to_ndarray, **check_params)\u001b[0m\n\u001b[0;32m    619\u001b[0m         y \u001b[38;5;241m=\u001b[39m check_array(y, input_name\u001b[38;5;241m=\u001b[39m\u001b[38;5;124m\"\u001b[39m\u001b[38;5;124my\u001b[39m\u001b[38;5;124m\"\u001b[39m, \u001b[38;5;241m*\u001b[39m\u001b[38;5;241m*\u001b[39mcheck_y_params)\n\u001b[0;32m    620\u001b[0m     \u001b[38;5;28;01melse\u001b[39;00m:\n\u001b[1;32m--> 621\u001b[0m         X, y \u001b[38;5;241m=\u001b[39m check_X_y(X, y, \u001b[38;5;241m*\u001b[39m\u001b[38;5;241m*\u001b[39mcheck_params)\n\u001b[0;32m    622\u001b[0m     out \u001b[38;5;241m=\u001b[39m X, y\n\u001b[0;32m    624\u001b[0m \u001b[38;5;28;01mif\u001b[39;00m \u001b[38;5;129;01mnot\u001b[39;00m no_val_X \u001b[38;5;129;01mand\u001b[39;00m check_params\u001b[38;5;241m.\u001b[39mget(\u001b[38;5;124m\"\u001b[39m\u001b[38;5;124mensure_2d\u001b[39m\u001b[38;5;124m\"\u001b[39m, \u001b[38;5;28;01mTrue\u001b[39;00m):\n",
      "File \u001b[1;32md:\\Georgina\\Anaconda_\\Lib\\site-packages\\sklearn\\utils\\validation.py:1147\u001b[0m, in \u001b[0;36mcheck_X_y\u001b[1;34m(X, y, accept_sparse, accept_large_sparse, dtype, order, copy, force_all_finite, ensure_2d, allow_nd, multi_output, ensure_min_samples, ensure_min_features, y_numeric, estimator)\u001b[0m\n\u001b[0;32m   1142\u001b[0m         estimator_name \u001b[38;5;241m=\u001b[39m _check_estimator_name(estimator)\n\u001b[0;32m   1143\u001b[0m     \u001b[38;5;28;01mraise\u001b[39;00m \u001b[38;5;167;01mValueError\u001b[39;00m(\n\u001b[0;32m   1144\u001b[0m         \u001b[38;5;124mf\u001b[39m\u001b[38;5;124m\"\u001b[39m\u001b[38;5;132;01m{\u001b[39;00mestimator_name\u001b[38;5;132;01m}\u001b[39;00m\u001b[38;5;124m requires y to be passed, but the target y is None\u001b[39m\u001b[38;5;124m\"\u001b[39m\n\u001b[0;32m   1145\u001b[0m     )\n\u001b[1;32m-> 1147\u001b[0m X \u001b[38;5;241m=\u001b[39m check_array(\n\u001b[0;32m   1148\u001b[0m     X,\n\u001b[0;32m   1149\u001b[0m     accept_sparse\u001b[38;5;241m=\u001b[39maccept_sparse,\n\u001b[0;32m   1150\u001b[0m     accept_large_sparse\u001b[38;5;241m=\u001b[39maccept_large_sparse,\n\u001b[0;32m   1151\u001b[0m     dtype\u001b[38;5;241m=\u001b[39mdtype,\n\u001b[0;32m   1152\u001b[0m     order\u001b[38;5;241m=\u001b[39morder,\n\u001b[0;32m   1153\u001b[0m     copy\u001b[38;5;241m=\u001b[39mcopy,\n\u001b[0;32m   1154\u001b[0m     force_all_finite\u001b[38;5;241m=\u001b[39mforce_all_finite,\n\u001b[0;32m   1155\u001b[0m     ensure_2d\u001b[38;5;241m=\u001b[39mensure_2d,\n\u001b[0;32m   1156\u001b[0m     allow_nd\u001b[38;5;241m=\u001b[39mallow_nd,\n\u001b[0;32m   1157\u001b[0m     ensure_min_samples\u001b[38;5;241m=\u001b[39mensure_min_samples,\n\u001b[0;32m   1158\u001b[0m     ensure_min_features\u001b[38;5;241m=\u001b[39mensure_min_features,\n\u001b[0;32m   1159\u001b[0m     estimator\u001b[38;5;241m=\u001b[39mestimator,\n\u001b[0;32m   1160\u001b[0m     input_name\u001b[38;5;241m=\u001b[39m\u001b[38;5;124m\"\u001b[39m\u001b[38;5;124mX\u001b[39m\u001b[38;5;124m\"\u001b[39m,\n\u001b[0;32m   1161\u001b[0m )\n\u001b[0;32m   1163\u001b[0m y \u001b[38;5;241m=\u001b[39m _check_y(y, multi_output\u001b[38;5;241m=\u001b[39mmulti_output, y_numeric\u001b[38;5;241m=\u001b[39my_numeric, estimator\u001b[38;5;241m=\u001b[39mestimator)\n\u001b[0;32m   1165\u001b[0m check_consistent_length(X, y)\n",
      "File \u001b[1;32md:\\Georgina\\Anaconda_\\Lib\\site-packages\\sklearn\\utils\\validation.py:959\u001b[0m, in \u001b[0;36mcheck_array\u001b[1;34m(array, accept_sparse, accept_large_sparse, dtype, order, copy, force_all_finite, ensure_2d, allow_nd, ensure_min_samples, ensure_min_features, estimator, input_name)\u001b[0m\n\u001b[0;32m    953\u001b[0m         \u001b[38;5;28;01mraise\u001b[39;00m \u001b[38;5;167;01mValueError\u001b[39;00m(\n\u001b[0;32m    954\u001b[0m             \u001b[38;5;124m\"\u001b[39m\u001b[38;5;124mFound array with dim \u001b[39m\u001b[38;5;132;01m%d\u001b[39;00m\u001b[38;5;124m. \u001b[39m\u001b[38;5;132;01m%s\u001b[39;00m\u001b[38;5;124m expected <= 2.\u001b[39m\u001b[38;5;124m\"\u001b[39m\n\u001b[0;32m    955\u001b[0m             \u001b[38;5;241m%\u001b[39m (array\u001b[38;5;241m.\u001b[39mndim, estimator_name)\n\u001b[0;32m    956\u001b[0m         )\n\u001b[0;32m    958\u001b[0m     \u001b[38;5;28;01mif\u001b[39;00m force_all_finite:\n\u001b[1;32m--> 959\u001b[0m         _assert_all_finite(\n\u001b[0;32m    960\u001b[0m             array,\n\u001b[0;32m    961\u001b[0m             input_name\u001b[38;5;241m=\u001b[39minput_name,\n\u001b[0;32m    962\u001b[0m             estimator_name\u001b[38;5;241m=\u001b[39mestimator_name,\n\u001b[0;32m    963\u001b[0m             allow_nan\u001b[38;5;241m=\u001b[39mforce_all_finite \u001b[38;5;241m==\u001b[39m \u001b[38;5;124m\"\u001b[39m\u001b[38;5;124mallow-nan\u001b[39m\u001b[38;5;124m\"\u001b[39m,\n\u001b[0;32m    964\u001b[0m         )\n\u001b[0;32m    966\u001b[0m \u001b[38;5;28;01mif\u001b[39;00m ensure_min_samples \u001b[38;5;241m>\u001b[39m \u001b[38;5;241m0\u001b[39m:\n\u001b[0;32m    967\u001b[0m     n_samples \u001b[38;5;241m=\u001b[39m _num_samples(array)\n",
      "File \u001b[1;32md:\\Georgina\\Anaconda_\\Lib\\site-packages\\sklearn\\utils\\validation.py:124\u001b[0m, in \u001b[0;36m_assert_all_finite\u001b[1;34m(X, allow_nan, msg_dtype, estimator_name, input_name)\u001b[0m\n\u001b[0;32m    121\u001b[0m \u001b[38;5;28;01mif\u001b[39;00m first_pass_isfinite:\n\u001b[0;32m    122\u001b[0m     \u001b[38;5;28;01mreturn\u001b[39;00m\n\u001b[1;32m--> 124\u001b[0m _assert_all_finite_element_wise(\n\u001b[0;32m    125\u001b[0m     X,\n\u001b[0;32m    126\u001b[0m     xp\u001b[38;5;241m=\u001b[39mxp,\n\u001b[0;32m    127\u001b[0m     allow_nan\u001b[38;5;241m=\u001b[39mallow_nan,\n\u001b[0;32m    128\u001b[0m     msg_dtype\u001b[38;5;241m=\u001b[39mmsg_dtype,\n\u001b[0;32m    129\u001b[0m     estimator_name\u001b[38;5;241m=\u001b[39mestimator_name,\n\u001b[0;32m    130\u001b[0m     input_name\u001b[38;5;241m=\u001b[39minput_name,\n\u001b[0;32m    131\u001b[0m )\n",
      "File \u001b[1;32md:\\Georgina\\Anaconda_\\Lib\\site-packages\\sklearn\\utils\\validation.py:173\u001b[0m, in \u001b[0;36m_assert_all_finite_element_wise\u001b[1;34m(X, xp, allow_nan, msg_dtype, estimator_name, input_name)\u001b[0m\n\u001b[0;32m    156\u001b[0m \u001b[38;5;28;01mif\u001b[39;00m estimator_name \u001b[38;5;129;01mand\u001b[39;00m input_name \u001b[38;5;241m==\u001b[39m \u001b[38;5;124m\"\u001b[39m\u001b[38;5;124mX\u001b[39m\u001b[38;5;124m\"\u001b[39m \u001b[38;5;129;01mand\u001b[39;00m has_nan_error:\n\u001b[0;32m    157\u001b[0m     \u001b[38;5;66;03m# Improve the error message on how to handle missing values in\u001b[39;00m\n\u001b[0;32m    158\u001b[0m     \u001b[38;5;66;03m# scikit-learn.\u001b[39;00m\n\u001b[0;32m    159\u001b[0m     msg_err \u001b[38;5;241m+\u001b[39m\u001b[38;5;241m=\u001b[39m (\n\u001b[0;32m    160\u001b[0m         \u001b[38;5;124mf\u001b[39m\u001b[38;5;124m\"\u001b[39m\u001b[38;5;130;01m\\n\u001b[39;00m\u001b[38;5;132;01m{\u001b[39;00mestimator_name\u001b[38;5;132;01m}\u001b[39;00m\u001b[38;5;124m does not accept missing values\u001b[39m\u001b[38;5;124m\"\u001b[39m\n\u001b[0;32m    161\u001b[0m         \u001b[38;5;124m\"\u001b[39m\u001b[38;5;124m encoded as NaN natively. For supervised learning, you might want\u001b[39m\u001b[38;5;124m\"\u001b[39m\n\u001b[1;32m   (...)\u001b[0m\n\u001b[0;32m    171\u001b[0m         \u001b[38;5;124m\"\u001b[39m\u001b[38;5;124m#estimators-that-handle-nan-values\u001b[39m\u001b[38;5;124m\"\u001b[39m\n\u001b[0;32m    172\u001b[0m     )\n\u001b[1;32m--> 173\u001b[0m \u001b[38;5;28;01mraise\u001b[39;00m \u001b[38;5;167;01mValueError\u001b[39;00m(msg_err)\n",
      "\u001b[1;31mValueError\u001b[0m: Input X contains NaN.\nRandomForestClassifier does not accept missing values encoded as NaN natively. For supervised learning, you might want to consider sklearn.ensemble.HistGradientBoostingClassifier and Regressor which accept missing values encoded as NaNs natively. Alternatively, it is possible to preprocess the data, for instance by using an imputer transformer in a pipeline or drop samples with missing values. See https://scikit-learn.org/stable/modules/impute.html You can find a list of all estimators that handle NaN values at the following page: https://scikit-learn.org/stable/modules/impute.html#estimators-that-handle-nan-values"
     ]
    }
   ],
   "source": [
    "# Veamos qué sucede si aumento el número de árboles 'n_estimators' así: 'for est in range(1, 51):'\n",
    "best_score = 0\n",
    "\n",
    "for est in range(1, 51):\n",
    "    # mediré el tiempo para saber qué tan rápido es el modelo\n",
    "    inicio = timer.time()\n",
    "    forest_model = RandomForestClassifier(random_state=5, n_estimators=est)\n",
    "    forest_model.fit(features_train_ord, target_train_ord)\n",
    "    forest_predictions=forest_model.predict(features_valid_ord)\n",
    "    score=accuracy_score(target_valid_ord,forest_predictions)\n",
    "    fin = timer.time()\n",
    "    # calculo la diferencia de tiempo\n",
    "    t=fin-inicio\n",
    "\n",
    "    if score > best_score:\n",
    "        best_forest_rstate=5\n",
    "        best_forest_score= score\n",
    "        best_forest_est=est\n",
    "        # guardo algunos datos mas sobre el modelo, los necesitaré mas adelante: predictions, probabilities, f1 y auc_roc\n",
    "        best_forest_predictions=forest_predictions\n",
    "        best_forest_probabilities=forest_model.predict_proba(features_valid_ord)\n",
    "        best_forest_auc_roc = roc_auc_score(target_valid_ord, best_forest_probabilities[:, 1])\n",
    "        #guardo el tiempo que tarda en trabajar el mejor modelo\n",
    "        best_forest_time=t\n",
    "print(f\"Exactitud del mejor modelo Bosque: {best_forest_score}. Estimadores: {best_forest_est}. Tiempo: {best_forest_time}. AUC_ROC: {best_forest_auc_roc}.\") "
   ]
  },
  {
   "cell_type": "markdown",
   "metadata": {},
   "source": [
    "## Modelo Regresión Logística"
   ]
  },
  {
   "cell_type": "code",
   "execution_count": null,
   "metadata": {},
   "outputs": [
    {
     "name": "stdout",
     "output_type": "stream",
     "text": [
      "Exactitud del modelo Regresión Logística: 0.8075757575757576. Tiempo: 0.13014721870422363. AUC_ROC: 0.8400441826215023.\n"
     ]
    }
   ],
   "source": [
    "# guardo algunos datos mas sobre el modelo, los necesitaré mas adelante: predictions, probabilities y auc_roc\n",
    "inicio = timer.time()\n",
    "reg_log_model = LogisticRegression(random_state=5, solver='liblinear')# inicializa el constructor de regresión logística con los parámetros random_state=54321 y solver='liblinear'\n",
    "reg_log_model.fit(features_train_ohe, target_train_ohe) # entrena el modelo en el conjunto de entrenamiento\n",
    "reg_log_predictions=reg_log_model.predict(features_valid_ohe)\n",
    "reg_log_score=accuracy_score(target_valid_ohe,reg_log_predictions) # calcula la puntuación de accuracy en el conjunto de validación\n",
    "reg_log_probabilities=reg_log_model.predict_proba(features_valid_ohe)\n",
    "reg_log_auc_roc=roc_auc_score(target_valid_ohe, reg_log_probabilities[:, 1])  \n",
    "fin = timer.time()\n",
    "reg_log_rstate=5\n",
    "\n",
    "#guardo el tiempo que tarda en trabajar el mejor modelo\n",
    "reg_log_time=fin-inicio\n",
    "\n",
    "print(f\"Exactitud del modelo Regresión Logística: {reg_log_score}. Tiempo: {reg_log_time}. AUC_ROC: {reg_log_auc_roc}.\")  "
   ]
  },
  {
   "cell_type": "markdown",
   "metadata": {},
   "source": [
    "## GaussianNB"
   ]
  },
  {
   "cell_type": "code",
   "execution_count": null,
   "metadata": {},
   "outputs": [
    {
     "ename": "ValueError",
     "evalue": "Input X contains NaN.\nGaussianNB does not accept missing values encoded as NaN natively. For supervised learning, you might want to consider sklearn.ensemble.HistGradientBoostingClassifier and Regressor which accept missing values encoded as NaNs natively. Alternatively, it is possible to preprocess the data, for instance by using an imputer transformer in a pipeline or drop samples with missing values. See https://scikit-learn.org/stable/modules/impute.html You can find a list of all estimators that handle NaN values at the following page: https://scikit-learn.org/stable/modules/impute.html#estimators-that-handle-nan-values",
     "output_type": "error",
     "traceback": [
      "\u001b[1;31m---------------------------------------------------------------------------\u001b[0m",
      "\u001b[1;31mValueError\u001b[0m                                Traceback (most recent call last)",
      "Cell \u001b[1;32mIn[321], line 4\u001b[0m\n\u001b[0;32m      1\u001b[0m \u001b[38;5;28;01mfrom\u001b[39;00m \u001b[38;5;21;01msklearn\u001b[39;00m\u001b[38;5;21;01m.\u001b[39;00m\u001b[38;5;21;01mnaive_bayes\u001b[39;00m \u001b[38;5;28;01mimport\u001b[39;00m GaussianNB\n\u001b[0;32m      3\u001b[0m model \u001b[38;5;241m=\u001b[39m GaussianNB()\n\u001b[1;32m----> 4\u001b[0m model\u001b[38;5;241m.\u001b[39mfit(features_train_ord, target_train_ord)\n",
      "File \u001b[1;32md:\\Georgina\\Anaconda_\\Lib\\site-packages\\sklearn\\base.py:1151\u001b[0m, in \u001b[0;36m_fit_context.<locals>.decorator.<locals>.wrapper\u001b[1;34m(estimator, *args, **kwargs)\u001b[0m\n\u001b[0;32m   1144\u001b[0m     estimator\u001b[38;5;241m.\u001b[39m_validate_params()\n\u001b[0;32m   1146\u001b[0m \u001b[38;5;28;01mwith\u001b[39;00m config_context(\n\u001b[0;32m   1147\u001b[0m     skip_parameter_validation\u001b[38;5;241m=\u001b[39m(\n\u001b[0;32m   1148\u001b[0m         prefer_skip_nested_validation \u001b[38;5;129;01mor\u001b[39;00m global_skip_validation\n\u001b[0;32m   1149\u001b[0m     )\n\u001b[0;32m   1150\u001b[0m ):\n\u001b[1;32m-> 1151\u001b[0m     \u001b[38;5;28;01mreturn\u001b[39;00m fit_method(estimator, \u001b[38;5;241m*\u001b[39margs, \u001b[38;5;241m*\u001b[39m\u001b[38;5;241m*\u001b[39mkwargs)\n",
      "File \u001b[1;32md:\\Georgina\\Anaconda_\\Lib\\site-packages\\sklearn\\naive_bayes.py:263\u001b[0m, in \u001b[0;36mGaussianNB.fit\u001b[1;34m(self, X, y, sample_weight)\u001b[0m\n\u001b[0;32m    240\u001b[0m \u001b[38;5;250m\u001b[39m\u001b[38;5;124;03m\"\"\"Fit Gaussian Naive Bayes according to X, y.\u001b[39;00m\n\u001b[0;32m    241\u001b[0m \n\u001b[0;32m    242\u001b[0m \u001b[38;5;124;03mParameters\u001b[39;00m\n\u001b[1;32m   (...)\u001b[0m\n\u001b[0;32m    260\u001b[0m \u001b[38;5;124;03m    Returns the instance itself.\u001b[39;00m\n\u001b[0;32m    261\u001b[0m \u001b[38;5;124;03m\"\"\"\u001b[39;00m\n\u001b[0;32m    262\u001b[0m y \u001b[38;5;241m=\u001b[39m \u001b[38;5;28mself\u001b[39m\u001b[38;5;241m.\u001b[39m_validate_data(y\u001b[38;5;241m=\u001b[39my)\n\u001b[1;32m--> 263\u001b[0m \u001b[38;5;28;01mreturn\u001b[39;00m \u001b[38;5;28mself\u001b[39m\u001b[38;5;241m.\u001b[39m_partial_fit(\n\u001b[0;32m    264\u001b[0m     X, y, np\u001b[38;5;241m.\u001b[39munique(y), _refit\u001b[38;5;241m=\u001b[39m\u001b[38;5;28;01mTrue\u001b[39;00m, sample_weight\u001b[38;5;241m=\u001b[39msample_weight\n\u001b[0;32m    265\u001b[0m )\n",
      "File \u001b[1;32md:\\Georgina\\Anaconda_\\Lib\\site-packages\\sklearn\\naive_bayes.py:423\u001b[0m, in \u001b[0;36mGaussianNB._partial_fit\u001b[1;34m(self, X, y, classes, _refit, sample_weight)\u001b[0m\n\u001b[0;32m    420\u001b[0m     \u001b[38;5;28mself\u001b[39m\u001b[38;5;241m.\u001b[39mclasses_ \u001b[38;5;241m=\u001b[39m \u001b[38;5;28;01mNone\u001b[39;00m\n\u001b[0;32m    422\u001b[0m first_call \u001b[38;5;241m=\u001b[39m _check_partial_fit_first_call(\u001b[38;5;28mself\u001b[39m, classes)\n\u001b[1;32m--> 423\u001b[0m X, y \u001b[38;5;241m=\u001b[39m \u001b[38;5;28mself\u001b[39m\u001b[38;5;241m.\u001b[39m_validate_data(X, y, reset\u001b[38;5;241m=\u001b[39mfirst_call)\n\u001b[0;32m    424\u001b[0m \u001b[38;5;28;01mif\u001b[39;00m sample_weight \u001b[38;5;129;01mis\u001b[39;00m \u001b[38;5;129;01mnot\u001b[39;00m \u001b[38;5;28;01mNone\u001b[39;00m:\n\u001b[0;32m    425\u001b[0m     sample_weight \u001b[38;5;241m=\u001b[39m _check_sample_weight(sample_weight, X)\n",
      "File \u001b[1;32md:\\Georgina\\Anaconda_\\Lib\\site-packages\\sklearn\\base.py:621\u001b[0m, in \u001b[0;36mBaseEstimator._validate_data\u001b[1;34m(self, X, y, reset, validate_separately, cast_to_ndarray, **check_params)\u001b[0m\n\u001b[0;32m    619\u001b[0m         y \u001b[38;5;241m=\u001b[39m check_array(y, input_name\u001b[38;5;241m=\u001b[39m\u001b[38;5;124m\"\u001b[39m\u001b[38;5;124my\u001b[39m\u001b[38;5;124m\"\u001b[39m, \u001b[38;5;241m*\u001b[39m\u001b[38;5;241m*\u001b[39mcheck_y_params)\n\u001b[0;32m    620\u001b[0m     \u001b[38;5;28;01melse\u001b[39;00m:\n\u001b[1;32m--> 621\u001b[0m         X, y \u001b[38;5;241m=\u001b[39m check_X_y(X, y, \u001b[38;5;241m*\u001b[39m\u001b[38;5;241m*\u001b[39mcheck_params)\n\u001b[0;32m    622\u001b[0m     out \u001b[38;5;241m=\u001b[39m X, y\n\u001b[0;32m    624\u001b[0m \u001b[38;5;28;01mif\u001b[39;00m \u001b[38;5;129;01mnot\u001b[39;00m no_val_X \u001b[38;5;129;01mand\u001b[39;00m check_params\u001b[38;5;241m.\u001b[39mget(\u001b[38;5;124m\"\u001b[39m\u001b[38;5;124mensure_2d\u001b[39m\u001b[38;5;124m\"\u001b[39m, \u001b[38;5;28;01mTrue\u001b[39;00m):\n",
      "File \u001b[1;32md:\\Georgina\\Anaconda_\\Lib\\site-packages\\sklearn\\utils\\validation.py:1147\u001b[0m, in \u001b[0;36mcheck_X_y\u001b[1;34m(X, y, accept_sparse, accept_large_sparse, dtype, order, copy, force_all_finite, ensure_2d, allow_nd, multi_output, ensure_min_samples, ensure_min_features, y_numeric, estimator)\u001b[0m\n\u001b[0;32m   1142\u001b[0m         estimator_name \u001b[38;5;241m=\u001b[39m _check_estimator_name(estimator)\n\u001b[0;32m   1143\u001b[0m     \u001b[38;5;28;01mraise\u001b[39;00m \u001b[38;5;167;01mValueError\u001b[39;00m(\n\u001b[0;32m   1144\u001b[0m         \u001b[38;5;124mf\u001b[39m\u001b[38;5;124m\"\u001b[39m\u001b[38;5;132;01m{\u001b[39;00mestimator_name\u001b[38;5;132;01m}\u001b[39;00m\u001b[38;5;124m requires y to be passed, but the target y is None\u001b[39m\u001b[38;5;124m\"\u001b[39m\n\u001b[0;32m   1145\u001b[0m     )\n\u001b[1;32m-> 1147\u001b[0m X \u001b[38;5;241m=\u001b[39m check_array(\n\u001b[0;32m   1148\u001b[0m     X,\n\u001b[0;32m   1149\u001b[0m     accept_sparse\u001b[38;5;241m=\u001b[39maccept_sparse,\n\u001b[0;32m   1150\u001b[0m     accept_large_sparse\u001b[38;5;241m=\u001b[39maccept_large_sparse,\n\u001b[0;32m   1151\u001b[0m     dtype\u001b[38;5;241m=\u001b[39mdtype,\n\u001b[0;32m   1152\u001b[0m     order\u001b[38;5;241m=\u001b[39morder,\n\u001b[0;32m   1153\u001b[0m     copy\u001b[38;5;241m=\u001b[39mcopy,\n\u001b[0;32m   1154\u001b[0m     force_all_finite\u001b[38;5;241m=\u001b[39mforce_all_finite,\n\u001b[0;32m   1155\u001b[0m     ensure_2d\u001b[38;5;241m=\u001b[39mensure_2d,\n\u001b[0;32m   1156\u001b[0m     allow_nd\u001b[38;5;241m=\u001b[39mallow_nd,\n\u001b[0;32m   1157\u001b[0m     ensure_min_samples\u001b[38;5;241m=\u001b[39mensure_min_samples,\n\u001b[0;32m   1158\u001b[0m     ensure_min_features\u001b[38;5;241m=\u001b[39mensure_min_features,\n\u001b[0;32m   1159\u001b[0m     estimator\u001b[38;5;241m=\u001b[39mestimator,\n\u001b[0;32m   1160\u001b[0m     input_name\u001b[38;5;241m=\u001b[39m\u001b[38;5;124m\"\u001b[39m\u001b[38;5;124mX\u001b[39m\u001b[38;5;124m\"\u001b[39m,\n\u001b[0;32m   1161\u001b[0m )\n\u001b[0;32m   1163\u001b[0m y \u001b[38;5;241m=\u001b[39m _check_y(y, multi_output\u001b[38;5;241m=\u001b[39mmulti_output, y_numeric\u001b[38;5;241m=\u001b[39my_numeric, estimator\u001b[38;5;241m=\u001b[39mestimator)\n\u001b[0;32m   1165\u001b[0m check_consistent_length(X, y)\n",
      "File \u001b[1;32md:\\Georgina\\Anaconda_\\Lib\\site-packages\\sklearn\\utils\\validation.py:959\u001b[0m, in \u001b[0;36mcheck_array\u001b[1;34m(array, accept_sparse, accept_large_sparse, dtype, order, copy, force_all_finite, ensure_2d, allow_nd, ensure_min_samples, ensure_min_features, estimator, input_name)\u001b[0m\n\u001b[0;32m    953\u001b[0m         \u001b[38;5;28;01mraise\u001b[39;00m \u001b[38;5;167;01mValueError\u001b[39;00m(\n\u001b[0;32m    954\u001b[0m             \u001b[38;5;124m\"\u001b[39m\u001b[38;5;124mFound array with dim \u001b[39m\u001b[38;5;132;01m%d\u001b[39;00m\u001b[38;5;124m. \u001b[39m\u001b[38;5;132;01m%s\u001b[39;00m\u001b[38;5;124m expected <= 2.\u001b[39m\u001b[38;5;124m\"\u001b[39m\n\u001b[0;32m    955\u001b[0m             \u001b[38;5;241m%\u001b[39m (array\u001b[38;5;241m.\u001b[39mndim, estimator_name)\n\u001b[0;32m    956\u001b[0m         )\n\u001b[0;32m    958\u001b[0m     \u001b[38;5;28;01mif\u001b[39;00m force_all_finite:\n\u001b[1;32m--> 959\u001b[0m         _assert_all_finite(\n\u001b[0;32m    960\u001b[0m             array,\n\u001b[0;32m    961\u001b[0m             input_name\u001b[38;5;241m=\u001b[39minput_name,\n\u001b[0;32m    962\u001b[0m             estimator_name\u001b[38;5;241m=\u001b[39mestimator_name,\n\u001b[0;32m    963\u001b[0m             allow_nan\u001b[38;5;241m=\u001b[39mforce_all_finite \u001b[38;5;241m==\u001b[39m \u001b[38;5;124m\"\u001b[39m\u001b[38;5;124mallow-nan\u001b[39m\u001b[38;5;124m\"\u001b[39m,\n\u001b[0;32m    964\u001b[0m         )\n\u001b[0;32m    966\u001b[0m \u001b[38;5;28;01mif\u001b[39;00m ensure_min_samples \u001b[38;5;241m>\u001b[39m \u001b[38;5;241m0\u001b[39m:\n\u001b[0;32m    967\u001b[0m     n_samples \u001b[38;5;241m=\u001b[39m _num_samples(array)\n",
      "File \u001b[1;32md:\\Georgina\\Anaconda_\\Lib\\site-packages\\sklearn\\utils\\validation.py:124\u001b[0m, in \u001b[0;36m_assert_all_finite\u001b[1;34m(X, allow_nan, msg_dtype, estimator_name, input_name)\u001b[0m\n\u001b[0;32m    121\u001b[0m \u001b[38;5;28;01mif\u001b[39;00m first_pass_isfinite:\n\u001b[0;32m    122\u001b[0m     \u001b[38;5;28;01mreturn\u001b[39;00m\n\u001b[1;32m--> 124\u001b[0m _assert_all_finite_element_wise(\n\u001b[0;32m    125\u001b[0m     X,\n\u001b[0;32m    126\u001b[0m     xp\u001b[38;5;241m=\u001b[39mxp,\n\u001b[0;32m    127\u001b[0m     allow_nan\u001b[38;5;241m=\u001b[39mallow_nan,\n\u001b[0;32m    128\u001b[0m     msg_dtype\u001b[38;5;241m=\u001b[39mmsg_dtype,\n\u001b[0;32m    129\u001b[0m     estimator_name\u001b[38;5;241m=\u001b[39mestimator_name,\n\u001b[0;32m    130\u001b[0m     input_name\u001b[38;5;241m=\u001b[39minput_name,\n\u001b[0;32m    131\u001b[0m )\n",
      "File \u001b[1;32md:\\Georgina\\Anaconda_\\Lib\\site-packages\\sklearn\\utils\\validation.py:173\u001b[0m, in \u001b[0;36m_assert_all_finite_element_wise\u001b[1;34m(X, xp, allow_nan, msg_dtype, estimator_name, input_name)\u001b[0m\n\u001b[0;32m    156\u001b[0m \u001b[38;5;28;01mif\u001b[39;00m estimator_name \u001b[38;5;129;01mand\u001b[39;00m input_name \u001b[38;5;241m==\u001b[39m \u001b[38;5;124m\"\u001b[39m\u001b[38;5;124mX\u001b[39m\u001b[38;5;124m\"\u001b[39m \u001b[38;5;129;01mand\u001b[39;00m has_nan_error:\n\u001b[0;32m    157\u001b[0m     \u001b[38;5;66;03m# Improve the error message on how to handle missing values in\u001b[39;00m\n\u001b[0;32m    158\u001b[0m     \u001b[38;5;66;03m# scikit-learn.\u001b[39;00m\n\u001b[0;32m    159\u001b[0m     msg_err \u001b[38;5;241m+\u001b[39m\u001b[38;5;241m=\u001b[39m (\n\u001b[0;32m    160\u001b[0m         \u001b[38;5;124mf\u001b[39m\u001b[38;5;124m\"\u001b[39m\u001b[38;5;130;01m\\n\u001b[39;00m\u001b[38;5;132;01m{\u001b[39;00mestimator_name\u001b[38;5;132;01m}\u001b[39;00m\u001b[38;5;124m does not accept missing values\u001b[39m\u001b[38;5;124m\"\u001b[39m\n\u001b[0;32m    161\u001b[0m         \u001b[38;5;124m\"\u001b[39m\u001b[38;5;124m encoded as NaN natively. For supervised learning, you might want\u001b[39m\u001b[38;5;124m\"\u001b[39m\n\u001b[1;32m   (...)\u001b[0m\n\u001b[0;32m    171\u001b[0m         \u001b[38;5;124m\"\u001b[39m\u001b[38;5;124m#estimators-that-handle-nan-values\u001b[39m\u001b[38;5;124m\"\u001b[39m\n\u001b[0;32m    172\u001b[0m     )\n\u001b[1;32m--> 173\u001b[0m \u001b[38;5;28;01mraise\u001b[39;00m \u001b[38;5;167;01mValueError\u001b[39;00m(msg_err)\n",
      "\u001b[1;31mValueError\u001b[0m: Input X contains NaN.\nGaussianNB does not accept missing values encoded as NaN natively. For supervised learning, you might want to consider sklearn.ensemble.HistGradientBoostingClassifier and Regressor which accept missing values encoded as NaNs natively. Alternatively, it is possible to preprocess the data, for instance by using an imputer transformer in a pipeline or drop samples with missing values. See https://scikit-learn.org/stable/modules/impute.html You can find a list of all estimators that handle NaN values at the following page: https://scikit-learn.org/stable/modules/impute.html#estimators-that-handle-nan-values"
     ]
    }
   ],
   "source": [
    "from sklearn.naive_bayes import GaussianNB\n",
    "\n",
    "model = GaussianNB()\n",
    "model.fit(features_train_ord, target_train_ord)"
   ]
  },
  {
   "cell_type": "markdown",
   "metadata": {},
   "source": [
    "# Lista de preguntas aclaratorias\n",
    "1 Este fue mi análisis exploratorio, busqué datos duplicados, ausentes y revisé distribuciones y tipos de datos. ¿hace falta algo mas?\n",
    "\n",
    "2 ¿qué significa la columna 'SeniorCitizen' en la tabla de datos personales de los clientes'\n",
    "\n",
    "3 Los datos no son imágenes, ni textos, ni series temporales. Entonces. ¿hay algun modelo en especial que debo utilizar?, ¿o yo hago mi elección?\n",
    "\n",
    "4 ¿es nenesario utilizar SQL?. Yo me siento mas segura utilizando otros métodos como 'concat' y 'merge'\n",
    "\n",
    "5 ¿debo utilizar git para administrar las versiones?"
   ]
  },
  {
   "cell_type": "markdown",
   "metadata": {},
   "source": [
    "# Plan aproximado para resolver la tarea, que especifica de 3 a 5 pasos básicos y los explica en uno o dos enunciados\n",
    "\n",
    "1- EDA y preprocesamiento\n",
    "Haré este mismo análisis exploratorio de datos, y después un preprocesamiento de datos. Probablemente cambairé algunos datos a fecha, y otros a booleano.\n",
    "\n",
    "2- Crearé una tabla de observaciones y características.\n",
    "Cada cliente es una observación, cada columna una característica. Revisaré si algunas columas tienen influencia en el objetivo 'EndDate', si no la tienen, probablemente las eliminaré. Para buscar relaciones, utilizaré diagramas de dispersión, y probablemente vectorización de los datos.\n",
    "\n",
    "3 Buscaré un modelo adecuado. Tomando en cuenta que es una tarea de clasificación, probaré tres o mas modelos para predecir un buen resultado AUC-ROC y exactitud, y que no tome mucho tiempo. Elegiré la codificación necesaria (dummy o por etiquetas) y ajustaré parámetros.\n",
    "\n",
    "4 Interpretación. Elegiré los resultados del mejor modelo, y daré una descripción adecuada de sus predicciones: acerca de los clientes que se van o se quedan."
   ]
  },
  {
   "cell_type": "code",
   "execution_count": null,
   "metadata": {},
   "outputs": [],
   "source": []
  }
 ],
 "metadata": {
  "ExecuteTimeLog": [
   {
    "duration": 478,
    "start_time": "2024-07-09T06:19:36.988Z"
   },
   {
    "duration": 1158,
    "start_time": "2024-07-09T06:19:37.535Z"
   },
   {
    "duration": 307,
    "start_time": "2024-07-10T00:53:47.134Z"
   },
   {
    "duration": 427,
    "start_time": "2024-07-10T00:54:43.257Z"
   },
   {
    "duration": 39,
    "start_time": "2024-07-10T00:54:43.745Z"
   },
   {
    "duration": 4,
    "start_time": "2024-07-10T00:59:40.124Z"
   },
   {
    "duration": 72,
    "start_time": "2024-07-10T00:59:40.732Z"
   },
   {
    "duration": 9,
    "start_time": "2024-07-10T01:23:31.600Z"
   },
   {
    "duration": 5,
    "start_time": "2024-07-10T01:30:25.557Z"
   },
   {
    "duration": 54,
    "start_time": "2024-07-10T01:30:26.044Z"
   },
   {
    "duration": 3,
    "start_time": "2024-07-10T01:31:19.394Z"
   },
   {
    "duration": 48,
    "start_time": "2024-07-10T01:31:19.953Z"
   },
   {
    "duration": 19,
    "start_time": "2024-07-10T01:34:52.413Z"
   },
   {
    "duration": 21,
    "start_time": "2024-07-10T01:36:00.120Z"
   },
   {
    "duration": 23,
    "start_time": "2024-07-10T01:37:33.318Z"
   },
   {
    "duration": 13,
    "start_time": "2024-07-10T01:38:07.995Z"
   },
   {
    "duration": 15,
    "start_time": "2024-07-10T01:39:13.851Z"
   },
   {
    "duration": 17,
    "start_time": "2024-07-10T01:41:24.517Z"
   },
   {
    "duration": 12,
    "start_time": "2024-07-10T01:43:17.212Z"
   },
   {
    "duration": 10,
    "start_time": "2024-07-10T01:43:37.788Z"
   },
   {
    "duration": 7,
    "start_time": "2024-07-10T01:52:22.285Z"
   },
   {
    "duration": 16,
    "start_time": "2024-07-10T02:25:59.642Z"
   },
   {
    "duration": 12,
    "start_time": "2024-07-10T02:26:20.372Z"
   },
   {
    "duration": 11,
    "start_time": "2024-07-10T02:26:44.308Z"
   },
   {
    "duration": 9,
    "start_time": "2024-07-10T02:27:10.986Z"
   },
   {
    "duration": 3,
    "start_time": "2024-07-10T02:46:03.314Z"
   },
   {
    "duration": 15,
    "start_time": "2024-07-10T02:47:13.614Z"
   },
   {
    "duration": 15,
    "start_time": "2024-07-10T02:47:14.083Z"
   },
   {
    "duration": 18,
    "start_time": "2024-07-10T02:47:14.582Z"
   },
   {
    "duration": 4250,
    "start_time": "2024-07-10T03:35:00.190Z"
   },
   {
    "duration": 214,
    "start_time": "2024-07-10T03:37:16.926Z"
   },
   {
    "duration": 16,
    "start_time": "2024-07-10T03:37:49.008Z"
   },
   {
    "duration": 209,
    "start_time": "2024-07-10T03:42:23.834Z"
   },
   {
    "duration": 212,
    "start_time": "2024-07-10T03:43:00.447Z"
   },
   {
    "duration": 654,
    "start_time": "2024-07-10T03:43:50.474Z"
   },
   {
    "duration": 152,
    "start_time": "2024-07-10T03:46:23.998Z"
   }
  ],
  "kernelspec": {
   "display_name": "Python 3 (ipykernel)",
   "language": "python",
   "name": "python3"
  },
  "language_info": {
   "codemirror_mode": {
    "name": "ipython",
    "version": 3
   },
   "file_extension": ".py",
   "mimetype": "text/x-python",
   "name": "python",
   "nbconvert_exporter": "python",
   "pygments_lexer": "ipython3",
   "version": "3.11.5"
  },
  "toc": {
   "base_numbering": 1,
   "nav_menu": {},
   "number_sections": true,
   "sideBar": true,
   "skip_h1_title": false,
   "title_cell": "Table of Contents",
   "title_sidebar": "Contents",
   "toc_cell": false,
   "toc_position": {
    "height": "calc(100% - 180px)",
    "left": "10px",
    "top": "150px",
    "width": "393.6px"
   },
   "toc_section_display": true,
   "toc_window_display": true
  }
 },
 "nbformat": 4,
 "nbformat_minor": 2
}
